{
 "cells": [
  {
   "cell_type": "markdown",
   "metadata": {},
   "source": [
    "<h1>Part 2 : EDA of Data Extracted from Job Postings</h1>"
   ]
  },
  {
   "cell_type": "code",
   "execution_count": 3,
   "metadata": {},
   "outputs": [],
   "source": [
    "import csv\n",
    "import pandas as pd\n",
    "import numpy as np\n",
    "import matplotlib.pyplot as plt\n",
    "import regex as re\n",
    "\n",
    "import os\n",
    "\n",
    "from wordcloud import WordCloud, STOPWORDS"
   ]
  },
  {
   "cell_type": "code",
   "execution_count": 4,
   "metadata": {},
   "outputs": [
    {
     "data": {
      "text/plain": [
       "'1.3.20'"
      ]
     },
     "execution_count": 4,
     "metadata": {},
     "output_type": "execute_result"
    }
   ],
   "source": [
    "import sqlalchemy\n",
    "sqlalchemy.__version__"
   ]
  },
  {
   "cell_type": "code",
   "execution_count": 5,
   "metadata": {},
   "outputs": [
    {
     "name": "stdout",
     "output_type": "stream",
     "text": [
      "Table('data', MetaData(bind=None), Column('jobtitle', VARCHAR(length=100), table=<data>), Column('company', VARCHAR(length=100), table=<data>), Column('location', VARCHAR(length=25), table=<data>), Column('salary', INTEGER(), table=<data>), Column('jobdescription', TEXT(), table=<data>), Column('label', INTEGER(), table=<data>), schema=None)\n"
     ]
    }
   ],
   "source": [
    "from sqlalchemy import create_engine, MetaData, Table, select, distinct\n",
    "\n",
    "engine = create_engine(\"sqlite:///joblist.sqlite\")\n",
    "metadata = MetaData()\n",
    "data = Table('data', metadata, autoload=True, autoload_with=engine)\n",
    "\n",
    "print(repr(data))"
   ]
  },
  {
   "cell_type": "code",
   "execution_count": 6,
   "metadata": {},
   "outputs": [],
   "source": [
    "# Select all data\n",
    "stmt = select([data], distinct=True)\n",
    "\n",
    "connection = engine.connect()\n",
    "results = connection.execute(stmt).fetchall()"
   ]
  },
  {
   "cell_type": "code",
   "execution_count": 7,
   "metadata": {},
   "outputs": [],
   "source": [
    "# convert data table into a pandas dataframe\n",
    "data_df = pd.DataFrame(results)\n",
    "data_df.columns = results[0].keys()"
   ]
  },
  {
   "cell_type": "code",
   "execution_count": 8,
   "metadata": {
    "scrolled": true
   },
   "outputs": [
    {
     "data": {
      "text/html": [
       "<div>\n",
       "<style scoped>\n",
       "    .dataframe tbody tr th:only-of-type {\n",
       "        vertical-align: middle;\n",
       "    }\n",
       "\n",
       "    .dataframe tbody tr th {\n",
       "        vertical-align: top;\n",
       "    }\n",
       "\n",
       "    .dataframe thead th {\n",
       "        text-align: right;\n",
       "    }\n",
       "</style>\n",
       "<table border=\"1\" class=\"dataframe\">\n",
       "  <thead>\n",
       "    <tr style=\"text-align: right;\">\n",
       "      <th></th>\n",
       "      <th>jobtitle</th>\n",
       "      <th>company</th>\n",
       "      <th>location</th>\n",
       "      <th>salary</th>\n",
       "      <th>jobdescription</th>\n",
       "      <th>label</th>\n",
       "    </tr>\n",
       "  </thead>\n",
       "  <tbody>\n",
       "    <tr>\n",
       "      <th>0</th>\n",
       "      <td>Pricing Analyst</td>\n",
       "      <td>Day &amp; Ross Inc.</td>\n",
       "      <td>Mississauga, ON</td>\n",
       "      <td>NaN</td>\n",
       "      <td>Position Title:Pricing Analyst Position Type: ...</td>\n",
       "      <td>0</td>\n",
       "    </tr>\n",
       "    <tr>\n",
       "      <th>1</th>\n",
       "      <td>Senior Data Analyst- Telephony Manager</td>\n",
       "      <td>NCRi Inc.</td>\n",
       "      <td>Mississauga, ON</td>\n",
       "      <td>NaN</td>\n",
       "      <td>Title: Senior Data Analyst - Telephony Manager...</td>\n",
       "      <td>0</td>\n",
       "    </tr>\n",
       "    <tr>\n",
       "      <th>2</th>\n",
       "      <td>Fuel Cell Data Engineer / Analyst</td>\n",
       "      <td>Cummins Inc.</td>\n",
       "      <td>Mississauga, ON</td>\n",
       "      <td>NaN</td>\n",
       "      <td>We are looking for a talented Fuel Cell Data E...</td>\n",
       "      <td>0</td>\n",
       "    </tr>\n",
       "    <tr>\n",
       "      <th>3</th>\n",
       "      <td>Senior Meter Data Analyst</td>\n",
       "      <td>Rodan Energy Solutions Inc.</td>\n",
       "      <td>Mississauga, ON</td>\n",
       "      <td>NaN</td>\n",
       "      <td>CAREER OPPORTUNITY SENIOR METER DATA ANALYST L...</td>\n",
       "      <td>0</td>\n",
       "    </tr>\n",
       "    <tr>\n",
       "      <th>4</th>\n",
       "      <td>Data Engineer, Business Intelligence &amp; Analytics</td>\n",
       "      <td>Herjavec Group</td>\n",
       "      <td>Toronto, ON</td>\n",
       "      <td>NaN</td>\n",
       "      <td>The Data Engineer reports directly to the Dire...</td>\n",
       "      <td>0</td>\n",
       "    </tr>\n",
       "  </tbody>\n",
       "</table>\n",
       "</div>"
      ],
      "text/plain": [
       "                                           jobtitle  \\\n",
       "0                                   Pricing Analyst   \n",
       "1            Senior Data Analyst- Telephony Manager   \n",
       "2                 Fuel Cell Data Engineer / Analyst   \n",
       "3                         Senior Meter Data Analyst   \n",
       "4  Data Engineer, Business Intelligence & Analytics   \n",
       "\n",
       "                       company         location salary  \\\n",
       "0              Day & Ross Inc.  Mississauga, ON    NaN   \n",
       "1                    NCRi Inc.  Mississauga, ON    NaN   \n",
       "2                 Cummins Inc.  Mississauga, ON    NaN   \n",
       "3  Rodan Energy Solutions Inc.  Mississauga, ON    NaN   \n",
       "4               Herjavec Group      Toronto, ON    NaN   \n",
       "\n",
       "                                      jobdescription  label  \n",
       "0  Position Title:Pricing Analyst Position Type: ...      0  \n",
       "1  Title: Senior Data Analyst - Telephony Manager...      0  \n",
       "2  We are looking for a talented Fuel Cell Data E...      0  \n",
       "3  CAREER OPPORTUNITY SENIOR METER DATA ANALYST L...      0  \n",
       "4  The Data Engineer reports directly to the Dire...      0  "
      ]
     },
     "execution_count": 8,
     "metadata": {},
     "output_type": "execute_result"
    }
   ],
   "source": [
    "data_df.head()"
   ]
  },
  {
   "cell_type": "code",
   "execution_count": 9,
   "metadata": {},
   "outputs": [
    {
     "data": {
      "text/html": [
       "<div>\n",
       "<style scoped>\n",
       "    .dataframe tbody tr th:only-of-type {\n",
       "        vertical-align: middle;\n",
       "    }\n",
       "\n",
       "    .dataframe tbody tr th {\n",
       "        vertical-align: top;\n",
       "    }\n",
       "\n",
       "    .dataframe thead th {\n",
       "        text-align: right;\n",
       "    }\n",
       "</style>\n",
       "<table border=\"1\" class=\"dataframe\">\n",
       "  <thead>\n",
       "    <tr style=\"text-align: right;\">\n",
       "      <th></th>\n",
       "      <th>jobtitle</th>\n",
       "      <th>company</th>\n",
       "      <th>location</th>\n",
       "      <th>salary</th>\n",
       "      <th>jobdescription</th>\n",
       "      <th>label</th>\n",
       "    </tr>\n",
       "  </thead>\n",
       "  <tbody>\n",
       "    <tr>\n",
       "      <th>count</th>\n",
       "      <td>635</td>\n",
       "      <td>635</td>\n",
       "      <td>635</td>\n",
       "      <td>635</td>\n",
       "      <td>635</td>\n",
       "      <td>635.000000</td>\n",
       "    </tr>\n",
       "    <tr>\n",
       "      <th>unique</th>\n",
       "      <td>469</td>\n",
       "      <td>373</td>\n",
       "      <td>16</td>\n",
       "      <td>69</td>\n",
       "      <td>628</td>\n",
       "      <td>NaN</td>\n",
       "    </tr>\n",
       "    <tr>\n",
       "      <th>top</th>\n",
       "      <td>Data Scientist</td>\n",
       "      <td>BMO Financial Group</td>\n",
       "      <td>Toronto, ON</td>\n",
       "      <td>NaN</td>\n",
       "      <td>Beta-Calco is seeking a dynamic Business Intel...</td>\n",
       "      <td>NaN</td>\n",
       "    </tr>\n",
       "    <tr>\n",
       "      <th>freq</th>\n",
       "      <td>38</td>\n",
       "      <td>21</td>\n",
       "      <td>480</td>\n",
       "      <td>541</td>\n",
       "      <td>2</td>\n",
       "      <td>NaN</td>\n",
       "    </tr>\n",
       "    <tr>\n",
       "      <th>mean</th>\n",
       "      <td>NaN</td>\n",
       "      <td>NaN</td>\n",
       "      <td>NaN</td>\n",
       "      <td>NaN</td>\n",
       "      <td>NaN</td>\n",
       "      <td>0.387402</td>\n",
       "    </tr>\n",
       "    <tr>\n",
       "      <th>std</th>\n",
       "      <td>NaN</td>\n",
       "      <td>NaN</td>\n",
       "      <td>NaN</td>\n",
       "      <td>NaN</td>\n",
       "      <td>NaN</td>\n",
       "      <td>0.487541</td>\n",
       "    </tr>\n",
       "    <tr>\n",
       "      <th>min</th>\n",
       "      <td>NaN</td>\n",
       "      <td>NaN</td>\n",
       "      <td>NaN</td>\n",
       "      <td>NaN</td>\n",
       "      <td>NaN</td>\n",
       "      <td>0.000000</td>\n",
       "    </tr>\n",
       "    <tr>\n",
       "      <th>25%</th>\n",
       "      <td>NaN</td>\n",
       "      <td>NaN</td>\n",
       "      <td>NaN</td>\n",
       "      <td>NaN</td>\n",
       "      <td>NaN</td>\n",
       "      <td>0.000000</td>\n",
       "    </tr>\n",
       "    <tr>\n",
       "      <th>50%</th>\n",
       "      <td>NaN</td>\n",
       "      <td>NaN</td>\n",
       "      <td>NaN</td>\n",
       "      <td>NaN</td>\n",
       "      <td>NaN</td>\n",
       "      <td>0.000000</td>\n",
       "    </tr>\n",
       "    <tr>\n",
       "      <th>75%</th>\n",
       "      <td>NaN</td>\n",
       "      <td>NaN</td>\n",
       "      <td>NaN</td>\n",
       "      <td>NaN</td>\n",
       "      <td>NaN</td>\n",
       "      <td>1.000000</td>\n",
       "    </tr>\n",
       "    <tr>\n",
       "      <th>max</th>\n",
       "      <td>NaN</td>\n",
       "      <td>NaN</td>\n",
       "      <td>NaN</td>\n",
       "      <td>NaN</td>\n",
       "      <td>NaN</td>\n",
       "      <td>1.000000</td>\n",
       "    </tr>\n",
       "  </tbody>\n",
       "</table>\n",
       "</div>"
      ],
      "text/plain": [
       "              jobtitle              company     location salary  \\\n",
       "count              635                  635          635    635   \n",
       "unique             469                  373           16     69   \n",
       "top     Data Scientist  BMO Financial Group  Toronto, ON    NaN   \n",
       "freq                38                   21          480    541   \n",
       "mean               NaN                  NaN          NaN    NaN   \n",
       "std                NaN                  NaN          NaN    NaN   \n",
       "min                NaN                  NaN          NaN    NaN   \n",
       "25%                NaN                  NaN          NaN    NaN   \n",
       "50%                NaN                  NaN          NaN    NaN   \n",
       "75%                NaN                  NaN          NaN    NaN   \n",
       "max                NaN                  NaN          NaN    NaN   \n",
       "\n",
       "                                           jobdescription       label  \n",
       "count                                                 635  635.000000  \n",
       "unique                                                628         NaN  \n",
       "top     Beta-Calco is seeking a dynamic Business Intel...         NaN  \n",
       "freq                                                    2         NaN  \n",
       "mean                                                  NaN    0.387402  \n",
       "std                                                   NaN    0.487541  \n",
       "min                                                   NaN    0.000000  \n",
       "25%                                                   NaN    0.000000  \n",
       "50%                                                   NaN    0.000000  \n",
       "75%                                                   NaN    1.000000  \n",
       "max                                                   NaN    1.000000  "
      ]
     },
     "execution_count": 9,
     "metadata": {},
     "output_type": "execute_result"
    }
   ],
   "source": [
    "data_df.describe(include='all')"
   ]
  },
  {
   "cell_type": "markdown",
   "metadata": {},
   "source": [
    "<h2>Explore Data</h2>\n",
    "\n",
    "To begin, we will start by exploring the data analyst/scientist job postings.\n",
    "\n",
    "We will need to summarize the information we collected in the previous step."
   ]
  },
  {
   "cell_type": "code",
   "execution_count": 10,
   "metadata": {
    "scrolled": true
   },
   "outputs": [
    {
     "name": "stdout",
     "output_type": "stream",
     "text": [
      "<class 'pandas.core.frame.DataFrame'>\n",
      "RangeIndex: 635 entries, 0 to 634\n",
      "Data columns (total 6 columns):\n",
      " #   Column          Non-Null Count  Dtype \n",
      "---  ------          --------------  ----- \n",
      " 0   jobtitle        635 non-null    object\n",
      " 1   company         635 non-null    object\n",
      " 2   location        635 non-null    object\n",
      " 3   salary          635 non-null    object\n",
      " 4   jobdescription  635 non-null    object\n",
      " 5   label           635 non-null    int64 \n",
      "dtypes: int64(1), object(5)\n",
      "memory usage: 29.9+ KB\n"
     ]
    }
   ],
   "source": [
    "# Are there any NaNs in the data?\n",
    "data_df.info()"
   ]
  },
  {
   "cell_type": "code",
   "execution_count": 11,
   "metadata": {},
   "outputs": [],
   "source": [
    "# not all of the data types are correct\n",
    "\n",
    "dtype_dict = {\n",
    "    \"jobtitle\": 'string',\n",
    "    \"company\": 'string',\n",
    "    \"location\": 'string',\n",
    "    \"salary\": 'string',\n",
    "    \"jobdescription\": 'string',\n",
    "    \"label\": 'int64'\n",
    "}\n",
    "\n",
    "data_df = data_df.astype(dtype_dict)"
   ]
  },
  {
   "cell_type": "code",
   "execution_count": 12,
   "metadata": {
    "scrolled": true
   },
   "outputs": [
    {
     "name": "stdout",
     "output_type": "stream",
     "text": [
      "<class 'pandas.core.frame.DataFrame'>\n",
      "RangeIndex: 635 entries, 0 to 634\n",
      "Data columns (total 6 columns):\n",
      " #   Column          Non-Null Count  Dtype \n",
      "---  ------          --------------  ----- \n",
      " 0   jobtitle        635 non-null    string\n",
      " 1   company         635 non-null    string\n",
      " 2   location        635 non-null    string\n",
      " 3   salary          635 non-null    string\n",
      " 4   jobdescription  635 non-null    string\n",
      " 5   label           635 non-null    int64 \n",
      "dtypes: int64(1), string(5)\n",
      "memory usage: 29.9 KB\n"
     ]
    }
   ],
   "source": [
    "data_df.info()"
   ]
  },
  {
   "cell_type": "code",
   "execution_count": 13,
   "metadata": {},
   "outputs": [
    {
     "name": "stdout",
     "output_type": "stream",
     "text": [
      "       jobtitle  company  location  salary  jobdescription\n",
      "label                                                     \n",
      "0           389      389       389     389             389\n",
      "1           246      246       246     246             246\n"
     ]
    }
   ],
   "source": [
    "# how many of each label are present?\n",
    "labels = data_df.groupby('label').count()\n",
    "print(labels)"
   ]
  },
  {
   "cell_type": "markdown",
   "metadata": {},
   "source": [
    "This dataset is not heavily imbalanced towards having more of one type of job description relative to the other. Great!"
   ]
  },
  {
   "cell_type": "markdown",
   "metadata": {},
   "source": [
    "<h3>Job Titles</h3>\n",
    "\n",
    "The job titles are described by other words to specify the field in which the job position will be in. First, we will simplify the job titles for improved aggregation later."
   ]
  },
  {
   "cell_type": "code",
   "execution_count": 14,
   "metadata": {},
   "outputs": [
    {
     "data": {
      "text/html": [
       "<div>\n",
       "<style scoped>\n",
       "    .dataframe tbody tr th:only-of-type {\n",
       "        vertical-align: middle;\n",
       "    }\n",
       "\n",
       "    .dataframe tbody tr th {\n",
       "        vertical-align: top;\n",
       "    }\n",
       "\n",
       "    .dataframe thead th {\n",
       "        text-align: right;\n",
       "    }\n",
       "</style>\n",
       "<table border=\"1\" class=\"dataframe\">\n",
       "  <thead>\n",
       "    <tr style=\"text-align: right;\">\n",
       "      <th></th>\n",
       "      <th>jobtitle</th>\n",
       "      <th>company</th>\n",
       "      <th>location</th>\n",
       "      <th>salary</th>\n",
       "      <th>jobdescription</th>\n",
       "      <th>label</th>\n",
       "      <th>position</th>\n",
       "      <th>position2</th>\n",
       "    </tr>\n",
       "  </thead>\n",
       "  <tbody>\n",
       "    <tr>\n",
       "      <th>0</th>\n",
       "      <td>Pricing Analyst</td>\n",
       "      <td>Day &amp; Ross Inc.</td>\n",
       "      <td>Mississauga, ON</td>\n",
       "      <td>NaN</td>\n",
       "      <td>Position Title:Pricing Analyst Position Type: ...</td>\n",
       "      <td>0</td>\n",
       "      <td>pricing analyst</td>\n",
       "      <td>Analyst</td>\n",
       "    </tr>\n",
       "    <tr>\n",
       "      <th>1</th>\n",
       "      <td>Senior Data Analyst- Telephony Manager</td>\n",
       "      <td>NCRi Inc.</td>\n",
       "      <td>Mississauga, ON</td>\n",
       "      <td>NaN</td>\n",
       "      <td>Title: Senior Data Analyst - Telephony Manager...</td>\n",
       "      <td>0</td>\n",
       "      <td>senior data analyst- telephony manager</td>\n",
       "      <td>Analyst</td>\n",
       "    </tr>\n",
       "    <tr>\n",
       "      <th>2</th>\n",
       "      <td>Fuel Cell Data Engineer / Analyst</td>\n",
       "      <td>Cummins Inc.</td>\n",
       "      <td>Mississauga, ON</td>\n",
       "      <td>NaN</td>\n",
       "      <td>We are looking for a talented Fuel Cell Data E...</td>\n",
       "      <td>0</td>\n",
       "      <td>fuel cell data engineer / analyst</td>\n",
       "      <td>Data Engineer</td>\n",
       "    </tr>\n",
       "    <tr>\n",
       "      <th>3</th>\n",
       "      <td>Senior Meter Data Analyst</td>\n",
       "      <td>Rodan Energy Solutions Inc.</td>\n",
       "      <td>Mississauga, ON</td>\n",
       "      <td>NaN</td>\n",
       "      <td>CAREER OPPORTUNITY SENIOR METER DATA ANALYST L...</td>\n",
       "      <td>0</td>\n",
       "      <td>senior meter data analyst</td>\n",
       "      <td>Analyst</td>\n",
       "    </tr>\n",
       "    <tr>\n",
       "      <th>4</th>\n",
       "      <td>Data Engineer, Business Intelligence &amp; Analytics</td>\n",
       "      <td>Herjavec Group</td>\n",
       "      <td>Toronto, ON</td>\n",
       "      <td>NaN</td>\n",
       "      <td>The Data Engineer reports directly to the Dire...</td>\n",
       "      <td>0</td>\n",
       "      <td>data engineer, business intelligence &amp; analytics</td>\n",
       "      <td>Data Engineer</td>\n",
       "    </tr>\n",
       "  </tbody>\n",
       "</table>\n",
       "</div>"
      ],
      "text/plain": [
       "                                           jobtitle  \\\n",
       "0                                   Pricing Analyst   \n",
       "1            Senior Data Analyst- Telephony Manager   \n",
       "2                 Fuel Cell Data Engineer / Analyst   \n",
       "3                         Senior Meter Data Analyst   \n",
       "4  Data Engineer, Business Intelligence & Analytics   \n",
       "\n",
       "                       company         location salary  \\\n",
       "0              Day & Ross Inc.  Mississauga, ON    NaN   \n",
       "1                    NCRi Inc.  Mississauga, ON    NaN   \n",
       "2                 Cummins Inc.  Mississauga, ON    NaN   \n",
       "3  Rodan Energy Solutions Inc.  Mississauga, ON    NaN   \n",
       "4               Herjavec Group      Toronto, ON    NaN   \n",
       "\n",
       "                                      jobdescription  label  \\\n",
       "0  Position Title:Pricing Analyst Position Type: ...      0   \n",
       "1  Title: Senior Data Analyst - Telephony Manager...      0   \n",
       "2  We are looking for a talented Fuel Cell Data E...      0   \n",
       "3  CAREER OPPORTUNITY SENIOR METER DATA ANALYST L...      0   \n",
       "4  The Data Engineer reports directly to the Dire...      0   \n",
       "\n",
       "                                           position      position2  \n",
       "0                                   pricing analyst        Analyst  \n",
       "1            senior data analyst- telephony manager        Analyst  \n",
       "2                 fuel cell data engineer / analyst  Data Engineer  \n",
       "3                         senior meter data analyst        Analyst  \n",
       "4  data engineer, business intelligence & analytics  Data Engineer  "
      ]
     },
     "execution_count": 14,
     "metadata": {},
     "output_type": "execute_result"
    }
   ],
   "source": [
    "# define a function to simplify job titles\n",
    "\n",
    "data_df[\"position\"] = data_df[\"jobtitle\"].apply(lambda x: x.lower())\n",
    "    \n",
    "data_df.loc[data_df[\"position\"].str.contains(\"analyst\"), \"position2\"] = \"Analyst\"\n",
    "data_df.loc[data_df[\"position\"].str.contains(\"analytic\"), \"position2\"] = \"Analyst\"\n",
    "data_df.loc[data_df[\"position\"].str.contains(\"business intelligence\"), \"position2\"] = \"Business Intelligence\"\n",
    "data_df.loc[data_df[\"position\"].str.contains(\"bi\"), \"position2\"] = \"Business Intelligence\"\n",
    "data_df.loc[data_df[\"position\"].str.contains(\"machine learning\"), \"position2\"] = \"Data Scientist\"\n",
    "data_df.loc[data_df[\"position\"].str.contains(\"scientist\"), \"position2\"] = \"Data Scientist\"\n",
    "data_df.loc[data_df[\"position\"].str.contains(\"data science\"), \"position2\"] = \"Data Scientist\"\n",
    "data_df.loc[data_df[\"position\"].str.contains(\"engineer\"), \"position2\"] = \"Data Engineer\"\n",
    "\n",
    "data_df.head()"
   ]
  },
  {
   "cell_type": "code",
   "execution_count": 15,
   "metadata": {
    "scrolled": false
   },
   "outputs": [
    {
     "data": {
      "text/html": [
       "<div>\n",
       "<style scoped>\n",
       "    .dataframe tbody tr th:only-of-type {\n",
       "        vertical-align: middle;\n",
       "    }\n",
       "\n",
       "    .dataframe tbody tr th {\n",
       "        vertical-align: top;\n",
       "    }\n",
       "\n",
       "    .dataframe thead th {\n",
       "        text-align: right;\n",
       "    }\n",
       "</style>\n",
       "<table border=\"1\" class=\"dataframe\">\n",
       "  <thead>\n",
       "    <tr style=\"text-align: right;\">\n",
       "      <th></th>\n",
       "      <th>jobtitle</th>\n",
       "      <th>company</th>\n",
       "      <th>location</th>\n",
       "      <th>salary</th>\n",
       "      <th>jobdescription</th>\n",
       "      <th>label</th>\n",
       "      <th>position</th>\n",
       "    </tr>\n",
       "    <tr>\n",
       "      <th>position2</th>\n",
       "      <th></th>\n",
       "      <th></th>\n",
       "      <th></th>\n",
       "      <th></th>\n",
       "      <th></th>\n",
       "      <th></th>\n",
       "      <th></th>\n",
       "    </tr>\n",
       "  </thead>\n",
       "  <tbody>\n",
       "    <tr>\n",
       "      <th>Data Scientist</th>\n",
       "      <td>139</td>\n",
       "      <td>139</td>\n",
       "      <td>139</td>\n",
       "      <td>139</td>\n",
       "      <td>139</td>\n",
       "      <td>139</td>\n",
       "      <td>139</td>\n",
       "    </tr>\n",
       "    <tr>\n",
       "      <th>Data Engineer</th>\n",
       "      <td>41</td>\n",
       "      <td>41</td>\n",
       "      <td>41</td>\n",
       "      <td>41</td>\n",
       "      <td>41</td>\n",
       "      <td>41</td>\n",
       "      <td>41</td>\n",
       "    </tr>\n",
       "    <tr>\n",
       "      <th>Business Intelligence</th>\n",
       "      <td>63</td>\n",
       "      <td>63</td>\n",
       "      <td>63</td>\n",
       "      <td>63</td>\n",
       "      <td>63</td>\n",
       "      <td>63</td>\n",
       "      <td>63</td>\n",
       "    </tr>\n",
       "    <tr>\n",
       "      <th>Analyst</th>\n",
       "      <td>384</td>\n",
       "      <td>384</td>\n",
       "      <td>384</td>\n",
       "      <td>384</td>\n",
       "      <td>384</td>\n",
       "      <td>384</td>\n",
       "      <td>384</td>\n",
       "    </tr>\n",
       "  </tbody>\n",
       "</table>\n",
       "</div>"
      ],
      "text/plain": [
       "                       jobtitle  company  location  salary  jobdescription  \\\n",
       "position2                                                                    \n",
       "Data Scientist              139      139       139     139             139   \n",
       "Data Engineer                41       41        41      41              41   \n",
       "Business Intelligence        63       63        63      63              63   \n",
       "Analyst                     384      384       384     384             384   \n",
       "\n",
       "                       label  position  \n",
       "position2                               \n",
       "Data Scientist           139       139  \n",
       "Data Engineer             41        41  \n",
       "Business Intelligence     63        63  \n",
       "Analyst                  384       384  "
      ]
     },
     "execution_count": 15,
     "metadata": {},
     "output_type": "execute_result"
    }
   ],
   "source": [
    "jobtitle = data_df.groupby([\"position2\"]).count().sort_values(by=[\"position2\"], ascending=False)\n",
    "\n",
    "jobtitle.head(6)"
   ]
  },
  {
   "cell_type": "code",
   "execution_count": 16,
   "metadata": {},
   "outputs": [
    {
     "data": {
      "text/plain": [
       "8"
      ]
     },
     "execution_count": 16,
     "metadata": {},
     "output_type": "execute_result"
    }
   ],
   "source": [
    "data_df.position2.isna().sum()"
   ]
  },
  {
   "cell_type": "code",
   "execution_count": 17,
   "metadata": {
    "scrolled": false
   },
   "outputs": [
    {
     "data": {
      "text/plain": [
       "count         627\n",
       "unique          4\n",
       "top       Analyst\n",
       "freq          384\n",
       "Name: position2, dtype: object"
      ]
     },
     "execution_count": 17,
     "metadata": {},
     "output_type": "execute_result"
    }
   ],
   "source": [
    "data_df.position2.describe()"
   ]
  },
  {
   "cell_type": "markdown",
   "metadata": {},
   "source": [
    "After simplifying the job titles, there were a handful of jobs that did not fall into any of the categories. These are specialist positions."
   ]
  },
  {
   "cell_type": "code",
   "execution_count": 18,
   "metadata": {},
   "outputs": [
    {
     "data": {
      "text/html": [
       "<div>\n",
       "<style scoped>\n",
       "    .dataframe tbody tr th:only-of-type {\n",
       "        vertical-align: middle;\n",
       "    }\n",
       "\n",
       "    .dataframe tbody tr th {\n",
       "        vertical-align: top;\n",
       "    }\n",
       "\n",
       "    .dataframe thead th {\n",
       "        text-align: right;\n",
       "    }\n",
       "</style>\n",
       "<table border=\"1\" class=\"dataframe\">\n",
       "  <thead>\n",
       "    <tr style=\"text-align: right;\">\n",
       "      <th></th>\n",
       "      <th>jobtitle</th>\n",
       "      <th>company</th>\n",
       "      <th>location</th>\n",
       "      <th>salary</th>\n",
       "      <th>jobdescription</th>\n",
       "      <th>label</th>\n",
       "      <th>position</th>\n",
       "      <th>position2</th>\n",
       "    </tr>\n",
       "  </thead>\n",
       "  <tbody>\n",
       "    <tr>\n",
       "      <th>23</th>\n",
       "      <td>Data Visualization Specialist</td>\n",
       "      <td>Mainstreet Research</td>\n",
       "      <td>Toronto, ON</td>\n",
       "      <td>$40 an hour</td>\n",
       "      <td>ROLE:Our diverse team is growing and we’re loo...</td>\n",
       "      <td>0</td>\n",
       "      <td>data visualization specialist</td>\n",
       "      <td>NaN</td>\n",
       "    </tr>\n",
       "    <tr>\n",
       "      <th>423</th>\n",
       "      <td>Conversation Designers</td>\n",
       "      <td>MSi Corp (Bell Canada)</td>\n",
       "      <td>Toronto, ON</td>\n",
       "      <td>$50 an hour</td>\n",
       "      <td>Our Telecom client, Bell Canada, is looking fo...</td>\n",
       "      <td>1</td>\n",
       "      <td>conversation designers</td>\n",
       "      <td>NaN</td>\n",
       "    </tr>\n",
       "    <tr>\n",
       "      <th>430</th>\n",
       "      <td>EMM Specialist</td>\n",
       "      <td>Compugen Inc</td>\n",
       "      <td>Richmond Hill, ON</td>\n",
       "      <td>NaN</td>\n",
       "      <td>Compugen is one of Canada's top Information Te...</td>\n",
       "      <td>1</td>\n",
       "      <td>emm specialist</td>\n",
       "      <td>NaN</td>\n",
       "    </tr>\n",
       "    <tr>\n",
       "      <th>473</th>\n",
       "      <td>Epidemiologist - Predictive Modeling Specialist</td>\n",
       "      <td>BlueDot Inc.</td>\n",
       "      <td>Toronto, ON</td>\n",
       "      <td>NaN</td>\n",
       "      <td>We currently require a full-time predictive mo...</td>\n",
       "      <td>1</td>\n",
       "      <td>epidemiologist - predictive modeling specialist</td>\n",
       "      <td>NaN</td>\n",
       "    </tr>\n",
       "    <tr>\n",
       "      <th>486</th>\n",
       "      <td>Senior Consultant, Cyber Security, Omnia AI</td>\n",
       "      <td>Deloitte</td>\n",
       "      <td>Toronto, ON</td>\n",
       "      <td>NaN</td>\n",
       "      <td>Job Type: Permanent\n",
       "Primary Location: Toronto,...</td>\n",
       "      <td>1</td>\n",
       "      <td>senior consultant, cyber security, omnia ai</td>\n",
       "      <td>NaN</td>\n",
       "    </tr>\n",
       "    <tr>\n",
       "      <th>510</th>\n",
       "      <td>Messaging Specialist</td>\n",
       "      <td>Drake International Inc</td>\n",
       "      <td>Richmond Hill, ON</td>\n",
       "      <td>NaN</td>\n",
       "      <td>Role Description:\n",
       "The Messaging Specialist wil...</td>\n",
       "      <td>1</td>\n",
       "      <td>messaging specialist</td>\n",
       "      <td>NaN</td>\n",
       "    </tr>\n",
       "    <tr>\n",
       "      <th>517</th>\n",
       "      <td>Manager, Cyber Security, Omnia AI</td>\n",
       "      <td>Deloitte</td>\n",
       "      <td>Toronto, ON</td>\n",
       "      <td>NaN</td>\n",
       "      <td>Job Type: Permanent\n",
       "Primary Location: Toronto,...</td>\n",
       "      <td>1</td>\n",
       "      <td>manager, cyber security, omnia ai</td>\n",
       "      <td>NaN</td>\n",
       "    </tr>\n",
       "    <tr>\n",
       "      <th>589</th>\n",
       "      <td>NLP Consultant</td>\n",
       "      <td>Prodigy Systems Inc.</td>\n",
       "      <td>Toronto, ON</td>\n",
       "      <td>$60 - $90 an hour</td>\n",
       "      <td>Practical experience in NLPExperience in devel...</td>\n",
       "      <td>1</td>\n",
       "      <td>nlp consultant</td>\n",
       "      <td>NaN</td>\n",
       "    </tr>\n",
       "  </tbody>\n",
       "</table>\n",
       "</div>"
      ],
      "text/plain": [
       "                                            jobtitle                  company  \\\n",
       "23                     Data Visualization Specialist      Mainstreet Research   \n",
       "423                           Conversation Designers   MSi Corp (Bell Canada)   \n",
       "430                                   EMM Specialist             Compugen Inc   \n",
       "473  Epidemiologist - Predictive Modeling Specialist             BlueDot Inc.   \n",
       "486      Senior Consultant, Cyber Security, Omnia AI                 Deloitte   \n",
       "510                             Messaging Specialist  Drake International Inc   \n",
       "517                Manager, Cyber Security, Omnia AI                 Deloitte   \n",
       "589                                   NLP Consultant     Prodigy Systems Inc.   \n",
       "\n",
       "              location             salary  \\\n",
       "23         Toronto, ON        $40 an hour   \n",
       "423        Toronto, ON        $50 an hour   \n",
       "430  Richmond Hill, ON                NaN   \n",
       "473        Toronto, ON                NaN   \n",
       "486        Toronto, ON                NaN   \n",
       "510  Richmond Hill, ON                NaN   \n",
       "517        Toronto, ON                NaN   \n",
       "589        Toronto, ON  $60 - $90 an hour   \n",
       "\n",
       "                                        jobdescription  label  \\\n",
       "23   ROLE:Our diverse team is growing and we’re loo...      0   \n",
       "423  Our Telecom client, Bell Canada, is looking fo...      1   \n",
       "430  Compugen is one of Canada's top Information Te...      1   \n",
       "473  We currently require a full-time predictive mo...      1   \n",
       "486  Job Type: Permanent\n",
       "Primary Location: Toronto,...      1   \n",
       "510  Role Description:\n",
       "The Messaging Specialist wil...      1   \n",
       "517  Job Type: Permanent\n",
       "Primary Location: Toronto,...      1   \n",
       "589  Practical experience in NLPExperience in devel...      1   \n",
       "\n",
       "                                            position position2  \n",
       "23                     data visualization specialist       NaN  \n",
       "423                           conversation designers       NaN  \n",
       "430                                   emm specialist       NaN  \n",
       "473  epidemiologist - predictive modeling specialist       NaN  \n",
       "486      senior consultant, cyber security, omnia ai       NaN  \n",
       "510                             messaging specialist       NaN  \n",
       "517                manager, cyber security, omnia ai       NaN  \n",
       "589                                   nlp consultant       NaN  "
      ]
     },
     "execution_count": 18,
     "metadata": {},
     "output_type": "execute_result"
    }
   ],
   "source": [
    "null_job = data_df.loc[data_df['position2'].isna()]\n",
    "null_job"
   ]
  },
  {
   "cell_type": "code",
   "execution_count": 19,
   "metadata": {},
   "outputs": [
    {
     "data": {
      "image/png": "[encoded data removed]",
      "text/plain": [
       "<Figure size 720x360 with 1 Axes>"
      ]
     },
     "metadata": {
      "needs_background": "light"
     },
     "output_type": "display_data"
    }
   ],
   "source": [
    "jobtitle['position'].plot(kind='barh',figsize = (10,5))\n",
    "plt.xlabel('Count', size = 12)\n",
    "plt.ylabel('')\n",
    "plt.yticks(size = 14)\n",
    "plt.xticks(size = 10)\n",
    "plt.title('Number of Postings by Job Title', size = 18)\n",
    "plt.show()"
   ]
  },
  {
   "cell_type": "code",
   "execution_count": 20,
   "metadata": {},
   "outputs": [
    {
     "data": {
      "text/plain": [
       "'1.1.3'"
      ]
     },
     "execution_count": 20,
     "metadata": {},
     "output_type": "execute_result"
    }
   ],
   "source": [
    "pd.__version__"
   ]
  },
  {
   "cell_type": "markdown",
   "metadata": {},
   "source": [
    "<h3>Level of Seniority</h3>"
   ]
  },
  {
   "cell_type": "code",
   "execution_count": 21,
   "metadata": {},
   "outputs": [
    {
     "data": {
      "text/html": [
       "<div>\n",
       "<style scoped>\n",
       "    .dataframe tbody tr th:only-of-type {\n",
       "        vertical-align: middle;\n",
       "    }\n",
       "\n",
       "    .dataframe tbody tr th {\n",
       "        vertical-align: top;\n",
       "    }\n",
       "\n",
       "    .dataframe thead th {\n",
       "        text-align: right;\n",
       "    }\n",
       "</style>\n",
       "<table border=\"1\" class=\"dataframe\">\n",
       "  <thead>\n",
       "    <tr style=\"text-align: right;\">\n",
       "      <th></th>\n",
       "      <th>jobtitle</th>\n",
       "      <th>company</th>\n",
       "      <th>location</th>\n",
       "      <th>salary</th>\n",
       "      <th>jobdescription</th>\n",
       "      <th>label</th>\n",
       "      <th>position</th>\n",
       "      <th>position2</th>\n",
       "      <th>level</th>\n",
       "    </tr>\n",
       "  </thead>\n",
       "  <tbody>\n",
       "    <tr>\n",
       "      <th>0</th>\n",
       "      <td>Pricing Analyst</td>\n",
       "      <td>Day &amp; Ross Inc.</td>\n",
       "      <td>Mississauga, ON</td>\n",
       "      <td>NaN</td>\n",
       "      <td>Position Title:Pricing Analyst Position Type: ...</td>\n",
       "      <td>0</td>\n",
       "      <td>pricing analyst</td>\n",
       "      <td>Analyst</td>\n",
       "      <td>NaN</td>\n",
       "    </tr>\n",
       "    <tr>\n",
       "      <th>1</th>\n",
       "      <td>Senior Data Analyst- Telephony Manager</td>\n",
       "      <td>NCRi Inc.</td>\n",
       "      <td>Mississauga, ON</td>\n",
       "      <td>NaN</td>\n",
       "      <td>Title: Senior Data Analyst - Telephony Manager...</td>\n",
       "      <td>0</td>\n",
       "      <td>senior data analyst- telephony manager</td>\n",
       "      <td>Analyst</td>\n",
       "      <td>Manager</td>\n",
       "    </tr>\n",
       "    <tr>\n",
       "      <th>2</th>\n",
       "      <td>Fuel Cell Data Engineer / Analyst</td>\n",
       "      <td>Cummins Inc.</td>\n",
       "      <td>Mississauga, ON</td>\n",
       "      <td>NaN</td>\n",
       "      <td>We are looking for a talented Fuel Cell Data E...</td>\n",
       "      <td>0</td>\n",
       "      <td>fuel cell data engineer / analyst</td>\n",
       "      <td>Data Engineer</td>\n",
       "      <td>NaN</td>\n",
       "    </tr>\n",
       "    <tr>\n",
       "      <th>3</th>\n",
       "      <td>Senior Meter Data Analyst</td>\n",
       "      <td>Rodan Energy Solutions Inc.</td>\n",
       "      <td>Mississauga, ON</td>\n",
       "      <td>NaN</td>\n",
       "      <td>CAREER OPPORTUNITY SENIOR METER DATA ANALYST L...</td>\n",
       "      <td>0</td>\n",
       "      <td>senior meter data analyst</td>\n",
       "      <td>Analyst</td>\n",
       "      <td>Senior</td>\n",
       "    </tr>\n",
       "    <tr>\n",
       "      <th>4</th>\n",
       "      <td>Data Engineer, Business Intelligence &amp; Analytics</td>\n",
       "      <td>Herjavec Group</td>\n",
       "      <td>Toronto, ON</td>\n",
       "      <td>NaN</td>\n",
       "      <td>The Data Engineer reports directly to the Dire...</td>\n",
       "      <td>0</td>\n",
       "      <td>data engineer, business intelligence &amp; analytics</td>\n",
       "      <td>Data Engineer</td>\n",
       "      <td>NaN</td>\n",
       "    </tr>\n",
       "  </tbody>\n",
       "</table>\n",
       "</div>"
      ],
      "text/plain": [
       "                                           jobtitle  \\\n",
       "0                                   Pricing Analyst   \n",
       "1            Senior Data Analyst- Telephony Manager   \n",
       "2                 Fuel Cell Data Engineer / Analyst   \n",
       "3                         Senior Meter Data Analyst   \n",
       "4  Data Engineer, Business Intelligence & Analytics   \n",
       "\n",
       "                       company         location salary  \\\n",
       "0              Day & Ross Inc.  Mississauga, ON    NaN   \n",
       "1                    NCRi Inc.  Mississauga, ON    NaN   \n",
       "2                 Cummins Inc.  Mississauga, ON    NaN   \n",
       "3  Rodan Energy Solutions Inc.  Mississauga, ON    NaN   \n",
       "4               Herjavec Group      Toronto, ON    NaN   \n",
       "\n",
       "                                      jobdescription  label  \\\n",
       "0  Position Title:Pricing Analyst Position Type: ...      0   \n",
       "1  Title: Senior Data Analyst - Telephony Manager...      0   \n",
       "2  We are looking for a talented Fuel Cell Data E...      0   \n",
       "3  CAREER OPPORTUNITY SENIOR METER DATA ANALYST L...      0   \n",
       "4  The Data Engineer reports directly to the Dire...      0   \n",
       "\n",
       "                                           position      position2    level  \n",
       "0                                   pricing analyst        Analyst      NaN  \n",
       "1            senior data analyst- telephony manager        Analyst  Manager  \n",
       "2                 fuel cell data engineer / analyst  Data Engineer      NaN  \n",
       "3                         senior meter data analyst        Analyst   Senior  \n",
       "4  data engineer, business intelligence & analytics  Data Engineer      NaN  "
      ]
     },
     "execution_count": 21,
     "metadata": {},
     "output_type": "execute_result"
    }
   ],
   "source": [
    "# Level of seniority\n",
    "\n",
    "data_df.loc[data_df[\"position\"].str.contains(r'intern|student'), \"level\"] = \"Intern\"\n",
    "data_df.loc[data_df[\"position\"].str.contains(\"junior\"), \"level\"] = \"Junior\"\n",
    "data_df.loc[data_df[\"position\"].str.contains(\"senior\"), \"level\"] = \"Senior\"\n",
    "data_df.loc[data_df[\"position\"].str.contains(\"manager\"), \"level\"] = \"Manager\"\n",
    "data_df.loc[data_df[\"position\"].str.contains(\"director\"), \"level\"] = \"Director\"\n",
    "\n",
    "data_df.head()"
   ]
  },
  {
   "cell_type": "markdown",
   "metadata": {},
   "source": [
    "For the job titles that do not explicitly indicate a level of seniority, replace NaN with 'Unspecified'. Here, the level will likely depend on a candidate's experience."
   ]
  },
  {
   "cell_type": "code",
   "execution_count": 22,
   "metadata": {},
   "outputs": [
    {
     "data": {
      "text/html": [
       "<div>\n",
       "<style scoped>\n",
       "    .dataframe tbody tr th:only-of-type {\n",
       "        vertical-align: middle;\n",
       "    }\n",
       "\n",
       "    .dataframe tbody tr th {\n",
       "        vertical-align: top;\n",
       "    }\n",
       "\n",
       "    .dataframe thead th {\n",
       "        text-align: right;\n",
       "    }\n",
       "</style>\n",
       "<table border=\"1\" class=\"dataframe\">\n",
       "  <thead>\n",
       "    <tr style=\"text-align: right;\">\n",
       "      <th></th>\n",
       "      <th>jobtitle</th>\n",
       "      <th>company</th>\n",
       "      <th>location</th>\n",
       "      <th>salary</th>\n",
       "      <th>jobdescription</th>\n",
       "      <th>label</th>\n",
       "      <th>position</th>\n",
       "      <th>position2</th>\n",
       "      <th>level</th>\n",
       "    </tr>\n",
       "  </thead>\n",
       "  <tbody>\n",
       "    <tr>\n",
       "      <th>0</th>\n",
       "      <td>Pricing Analyst</td>\n",
       "      <td>Day &amp; Ross Inc.</td>\n",
       "      <td>Mississauga, ON</td>\n",
       "      <td>NaN</td>\n",
       "      <td>Position Title:Pricing Analyst Position Type: ...</td>\n",
       "      <td>0</td>\n",
       "      <td>pricing analyst</td>\n",
       "      <td>Analyst</td>\n",
       "      <td>Unspecified</td>\n",
       "    </tr>\n",
       "    <tr>\n",
       "      <th>1</th>\n",
       "      <td>Senior Data Analyst- Telephony Manager</td>\n",
       "      <td>NCRi Inc.</td>\n",
       "      <td>Mississauga, ON</td>\n",
       "      <td>NaN</td>\n",
       "      <td>Title: Senior Data Analyst - Telephony Manager...</td>\n",
       "      <td>0</td>\n",
       "      <td>senior data analyst- telephony manager</td>\n",
       "      <td>Analyst</td>\n",
       "      <td>Manager</td>\n",
       "    </tr>\n",
       "    <tr>\n",
       "      <th>2</th>\n",
       "      <td>Fuel Cell Data Engineer / Analyst</td>\n",
       "      <td>Cummins Inc.</td>\n",
       "      <td>Mississauga, ON</td>\n",
       "      <td>NaN</td>\n",
       "      <td>We are looking for a talented Fuel Cell Data E...</td>\n",
       "      <td>0</td>\n",
       "      <td>fuel cell data engineer / analyst</td>\n",
       "      <td>Data Engineer</td>\n",
       "      <td>Unspecified</td>\n",
       "    </tr>\n",
       "    <tr>\n",
       "      <th>3</th>\n",
       "      <td>Senior Meter Data Analyst</td>\n",
       "      <td>Rodan Energy Solutions Inc.</td>\n",
       "      <td>Mississauga, ON</td>\n",
       "      <td>NaN</td>\n",
       "      <td>CAREER OPPORTUNITY SENIOR METER DATA ANALYST L...</td>\n",
       "      <td>0</td>\n",
       "      <td>senior meter data analyst</td>\n",
       "      <td>Analyst</td>\n",
       "      <td>Senior</td>\n",
       "    </tr>\n",
       "    <tr>\n",
       "      <th>4</th>\n",
       "      <td>Data Engineer, Business Intelligence &amp; Analytics</td>\n",
       "      <td>Herjavec Group</td>\n",
       "      <td>Toronto, ON</td>\n",
       "      <td>NaN</td>\n",
       "      <td>The Data Engineer reports directly to the Dire...</td>\n",
       "      <td>0</td>\n",
       "      <td>data engineer, business intelligence &amp; analytics</td>\n",
       "      <td>Data Engineer</td>\n",
       "      <td>Unspecified</td>\n",
       "    </tr>\n",
       "  </tbody>\n",
       "</table>\n",
       "</div>"
      ],
      "text/plain": [
       "                                           jobtitle  \\\n",
       "0                                   Pricing Analyst   \n",
       "1            Senior Data Analyst- Telephony Manager   \n",
       "2                 Fuel Cell Data Engineer / Analyst   \n",
       "3                         Senior Meter Data Analyst   \n",
       "4  Data Engineer, Business Intelligence & Analytics   \n",
       "\n",
       "                       company         location salary  \\\n",
       "0              Day & Ross Inc.  Mississauga, ON    NaN   \n",
       "1                    NCRi Inc.  Mississauga, ON    NaN   \n",
       "2                 Cummins Inc.  Mississauga, ON    NaN   \n",
       "3  Rodan Energy Solutions Inc.  Mississauga, ON    NaN   \n",
       "4               Herjavec Group      Toronto, ON    NaN   \n",
       "\n",
       "                                      jobdescription  label  \\\n",
       "0  Position Title:Pricing Analyst Position Type: ...      0   \n",
       "1  Title: Senior Data Analyst - Telephony Manager...      0   \n",
       "2  We are looking for a talented Fuel Cell Data E...      0   \n",
       "3  CAREER OPPORTUNITY SENIOR METER DATA ANALYST L...      0   \n",
       "4  The Data Engineer reports directly to the Dire...      0   \n",
       "\n",
       "                                           position      position2  \\\n",
       "0                                   pricing analyst        Analyst   \n",
       "1            senior data analyst- telephony manager        Analyst   \n",
       "2                 fuel cell data engineer / analyst  Data Engineer   \n",
       "3                         senior meter data analyst        Analyst   \n",
       "4  data engineer, business intelligence & analytics  Data Engineer   \n",
       "\n",
       "         level  \n",
       "0  Unspecified  \n",
       "1      Manager  \n",
       "2  Unspecified  \n",
       "3       Senior  \n",
       "4  Unspecified  "
      ]
     },
     "execution_count": 22,
     "metadata": {},
     "output_type": "execute_result"
    }
   ],
   "source": [
    "# For job titles that do not have a explicit level of seniority listed, describe using \"unspecified\"\n",
    "\n",
    "data_df.level.fillna(\"Unspecified\", inplace=True)\n",
    "data_df.head()"
   ]
  },
  {
   "cell_type": "code",
   "execution_count": 23,
   "metadata": {
    "scrolled": true
   },
   "outputs": [
    {
     "data": {
      "text/plain": [
       "level\n",
       "Director        10\n",
       "Junior          12\n",
       "Intern          15\n",
       "Manager         34\n",
       "Senior          94\n",
       "Unspecified    470\n",
       "Name: level, dtype: int64"
      ]
     },
     "execution_count": 23,
     "metadata": {},
     "output_type": "execute_result"
    }
   ],
   "source": [
    "joblevel = data_df.groupby(['level'])['level'].count().sort_values() #sort_values() doesn't actually change anything\n",
    "joblevel"
   ]
  },
  {
   "cell_type": "code",
   "execution_count": 24,
   "metadata": {},
   "outputs": [
    {
     "data": {
      "image/png": "[encoded data removed]",
      "text/plain": [
       "<Figure size 720x360 with 1 Axes>"
      ]
     },
     "metadata": {
      "needs_background": "light"
     },
     "output_type": "display_data"
    }
   ],
   "source": [
    "plt.clf\n",
    "\n",
    "joblevel.plot(kind='barh', figsize=(10,5))\n",
    "plt.xlabel('Count', size=12)\n",
    "plt.ylabel('')\n",
    "plt.xticks(size=12)\n",
    "plt.yticks(size=14)\n",
    "plt.title('Job Level of Seniority', size=20)\n",
    "\n",
    "plt.show()"
   ]
  },
  {
   "cell_type": "code",
   "execution_count": 25,
   "metadata": {},
   "outputs": [],
   "source": [
    "# Location\n",
    "# The location was already specifically searched for\n",
    "# The actual job posting doesn't have any address details, so a map would be difficult without actually looking up the details of each location. However an actual map would be fun."
   ]
  },
  {
   "cell_type": "markdown",
   "metadata": {},
   "source": [
    "<h3>Company</h3>"
   ]
  },
  {
   "cell_type": "code",
   "execution_count": 26,
   "metadata": {
    "scrolled": true
   },
   "outputs": [
    {
     "data": {
      "text/plain": [
       "company\n",
       "BMO Financial Group                      21\n",
       "Procom                                   17\n",
       "Scotiabank                               14\n",
       "TD Bank                                  13\n",
       "Aviva                                     9\n",
       "CIBC                                      9\n",
       "Rogers Communications                     9\n",
       "Bell Canada                               9\n",
       "RBC                                       8\n",
       "MSi Corp (Bell Canada)                    7\n",
       "Johnson & Johnson Family of Companies     6\n",
       "Sun Life Financial                        6\n",
       "Moneris Solutions Corporation             6\n",
       "Manulife                                  6\n",
       "IBM                                       5\n",
       "Wattpad                                   5\n",
       "Deloitte                                  5\n",
       "IQ Hunt                                   5\n",
       "Cognizant Technology Solutions            5\n",
       "Citi                                      4\n",
       "Name: jobtitle, dtype: int64"
      ]
     },
     "execution_count": 26,
     "metadata": {},
     "output_type": "execute_result"
    }
   ],
   "source": [
    "# Is there a type of company that is looking to hire data candidates than others?\n",
    "company = data_df.groupby([\"company\"]).count().sort_values('position', ascending=False).head(20)\n",
    "company.jobtitle"
   ]
  },
  {
   "cell_type": "code",
   "execution_count": 27,
   "metadata": {},
   "outputs": [
    {
     "data": {
      "image/png": "[encoded data removed]",
      "text/plain": [
       "<Figure size 720x360 with 1 Axes>"
      ]
     },
     "metadata": {
      "needs_background": "light"
     },
     "output_type": "display_data"
    }
   ],
   "source": [
    "company['position'].plot(kind='barh',figsize = (10,5))\n",
    "plt.xlabel('Count', size = 12)\n",
    "plt.ylabel('')\n",
    "plt.yticks(size = 10)\n",
    "plt.xticks(size = 10)\n",
    "plt.title('Number of Positions by Company', size = 18)\n",
    "plt.show()"
   ]
  },
  {
   "cell_type": "markdown",
   "metadata": {},
   "source": [
    "It appears that banks and communication/tech companies are among the top companies that were hiring candidates.\n",
    "- Procom is a talent acquisition company\n",
    "- Aviva is an insurance company\n",
    "- J&J is a healthcare company\n",
    "- Wattpad is a platform that hosts user-created stories\n",
    "- Deloitte is a consulting firm\n",
    "- IQ Hunt is a contract organization for IT projects\n",
    "- Cognizant Technology Solutions provides digital solutions for businesses"
   ]
  },
  {
   "cell_type": "markdown",
   "metadata": {},
   "source": [
    "<h3>Salary</h3>"
   ]
  },
  {
   "cell_type": "code",
   "execution_count": 28,
   "metadata": {
    "scrolled": true
   },
   "outputs": [
    {
     "data": {
      "text/plain": [
       "count     635\n",
       "unique     69\n",
       "top       NaN\n",
       "freq      541\n",
       "Name: salary, dtype: object"
      ]
     },
     "execution_count": 28,
     "metadata": {},
     "output_type": "execute_result"
    }
   ],
   "source": [
    "# Count the number of salaries available with .describe()\n",
    "data_df[\"salary\"].describe()"
   ]
  },
  {
   "cell_type": "code",
   "execution_count": 29,
   "metadata": {
    "collapsed": true
   },
   "outputs": [
    {
     "data": {
      "text/html": [
       "<div>\n",
       "<style scoped>\n",
       "    .dataframe tbody tr th:only-of-type {\n",
       "        vertical-align: middle;\n",
       "    }\n",
       "\n",
       "    .dataframe tbody tr th {\n",
       "        vertical-align: top;\n",
       "    }\n",
       "\n",
       "    .dataframe thead th {\n",
       "        text-align: right;\n",
       "    }\n",
       "</style>\n",
       "<table border=\"1\" class=\"dataframe\">\n",
       "  <thead>\n",
       "    <tr style=\"text-align: right;\">\n",
       "      <th></th>\n",
       "      <th>jobtitle</th>\n",
       "      <th>company</th>\n",
       "      <th>location</th>\n",
       "      <th>salary</th>\n",
       "      <th>jobdescription</th>\n",
       "      <th>label</th>\n",
       "      <th>position</th>\n",
       "      <th>position2</th>\n",
       "      <th>level</th>\n",
       "    </tr>\n",
       "  </thead>\n",
       "  <tbody>\n",
       "    <tr>\n",
       "      <th>23</th>\n",
       "      <td>Data Visualization Specialist</td>\n",
       "      <td>Mainstreet Research</td>\n",
       "      <td>Toronto, ON</td>\n",
       "      <td>$40 an hour</td>\n",
       "      <td>ROLE:Our diverse team is growing and we’re loo...</td>\n",
       "      <td>0</td>\n",
       "      <td>data visualization specialist</td>\n",
       "      <td>NaN</td>\n",
       "      <td>Unspecified</td>\n",
       "    </tr>\n",
       "    <tr>\n",
       "      <th>38</th>\n",
       "      <td>Business Systems Analyst</td>\n",
       "      <td>TO Live</td>\n",
       "      <td>Toronto, ON</td>\n",
       "      <td>$60,000 - $70,000 a year</td>\n",
       "      <td>Employment Opportunity  Business Systems Analy...</td>\n",
       "      <td>0</td>\n",
       "      <td>business systems analyst</td>\n",
       "      <td>Analyst</td>\n",
       "      <td>Unspecified</td>\n",
       "    </tr>\n",
       "    <tr>\n",
       "      <th>48</th>\n",
       "      <td>Inventory Planning Analyst</td>\n",
       "      <td>Manpower</td>\n",
       "      <td>Rexdale, ON</td>\n",
       "      <td>$23 - $25 an hour</td>\n",
       "      <td>Inventory Planning Analyst - Pay rate $23 per ...</td>\n",
       "      <td>0</td>\n",
       "      <td>inventory planning analyst</td>\n",
       "      <td>Analyst</td>\n",
       "      <td>Unspecified</td>\n",
       "    </tr>\n",
       "    <tr>\n",
       "      <th>56</th>\n",
       "      <td>Senior Analyst, Data Visualization and Analytics</td>\n",
       "      <td>Centennial College</td>\n",
       "      <td>Scarborough, ON</td>\n",
       "      <td>$41.03 - $47.58 an hour</td>\n",
       "      <td>Job Number: J0321-0815 Job Title: Senior Analy...</td>\n",
       "      <td>0</td>\n",
       "      <td>senior analyst, data visualization and analytics</td>\n",
       "      <td>Analyst</td>\n",
       "      <td>Senior</td>\n",
       "    </tr>\n",
       "    <tr>\n",
       "      <th>63</th>\n",
       "      <td>Business Development Analyst</td>\n",
       "      <td>Origin Merchant Partners</td>\n",
       "      <td>Toronto, ON</td>\n",
       "      <td>$70,000 a year</td>\n",
       "      <td>Origin Merchant Partners is the largest invest...</td>\n",
       "      <td>0</td>\n",
       "      <td>business development analyst</td>\n",
       "      <td>Analyst</td>\n",
       "      <td>Unspecified</td>\n",
       "    </tr>\n",
       "  </tbody>\n",
       "</table>\n",
       "</div>"
      ],
      "text/plain": [
       "                                            jobtitle  \\\n",
       "23                     Data Visualization Specialist   \n",
       "38                          Business Systems Analyst   \n",
       "48                        Inventory Planning Analyst   \n",
       "56  Senior Analyst, Data Visualization and Analytics   \n",
       "63                      Business Development Analyst   \n",
       "\n",
       "                     company         location                    salary  \\\n",
       "23       Mainstreet Research      Toronto, ON               $40 an hour   \n",
       "38                   TO Live      Toronto, ON  $60,000 - $70,000 a year   \n",
       "48                  Manpower      Rexdale, ON         $23 - $25 an hour   \n",
       "56        Centennial College  Scarborough, ON   $41.03 - $47.58 an hour   \n",
       "63  Origin Merchant Partners      Toronto, ON            $70,000 a year   \n",
       "\n",
       "                                       jobdescription  label  \\\n",
       "23  ROLE:Our diverse team is growing and we’re loo...      0   \n",
       "38  Employment Opportunity  Business Systems Analy...      0   \n",
       "48  Inventory Planning Analyst - Pay rate $23 per ...      0   \n",
       "56  Job Number: J0321-0815 Job Title: Senior Analy...      0   \n",
       "63  Origin Merchant Partners is the largest invest...      0   \n",
       "\n",
       "                                            position position2        level  \n",
       "23                     data visualization specialist       NaN  Unspecified  \n",
       "38                          business systems analyst   Analyst  Unspecified  \n",
       "48                        inventory planning analyst   Analyst  Unspecified  \n",
       "56  senior analyst, data visualization and analytics   Analyst       Senior  \n",
       "63                      business development analyst   Analyst  Unspecified  "
      ]
     },
     "execution_count": 29,
     "metadata": {},
     "output_type": "execute_result"
    }
   ],
   "source": [
    "# Many jobs do not provide a salary. Drop these values.\n",
    "# column already converted to string, therefore cannot use .dropna()\n",
    "\n",
    "salary_df = data_df.loc[(data_df.salary != \"NaN\") & (data_df.salary.str.contains('\\d+'))]\n",
    "salary_df.head()"
   ]
  },
  {
   "cell_type": "code",
   "execution_count": 30,
   "metadata": {
    "collapsed": true
   },
   "outputs": [
    {
     "name": "stderr",
     "output_type": "stream",
     "text": [
      "/Users/jennifer/miniconda3/envs/dataenv/lib/python3.8/site-packages/pandas/core/indexing.py:1596: SettingWithCopyWarning: \n",
      "A value is trying to be set on a copy of a slice from a DataFrame.\n",
      "Try using .loc[row_indexer,col_indexer] = value instead\n",
      "\n",
      "See the caveats in the documentation: https://pandas.pydata.org/pandas-docs/stable/user_guide/indexing.html#returning-a-view-versus-a-copy\n",
      "  self.obj[key] = _infer_fill_value(value)\n",
      "/Users/jennifer/miniconda3/envs/dataenv/lib/python3.8/site-packages/pandas/core/indexing.py:1765: SettingWithCopyWarning: \n",
      "A value is trying to be set on a copy of a slice from a DataFrame.\n",
      "Try using .loc[row_indexer,col_indexer] = value instead\n",
      "\n",
      "See the caveats in the documentation: https://pandas.pydata.org/pandas-docs/stable/user_guide/indexing.html#returning-a-view-versus-a-copy\n",
      "  isetter(loc, value)\n"
     ]
    },
    {
     "data": {
      "text/html": [
       "<div>\n",
       "<style scoped>\n",
       "    .dataframe tbody tr th:only-of-type {\n",
       "        vertical-align: middle;\n",
       "    }\n",
       "\n",
       "    .dataframe tbody tr th {\n",
       "        vertical-align: top;\n",
       "    }\n",
       "\n",
       "    .dataframe thead th {\n",
       "        text-align: right;\n",
       "    }\n",
       "</style>\n",
       "<table border=\"1\" class=\"dataframe\">\n",
       "  <thead>\n",
       "    <tr style=\"text-align: right;\">\n",
       "      <th></th>\n",
       "      <th>jobtitle</th>\n",
       "      <th>company</th>\n",
       "      <th>location</th>\n",
       "      <th>salary</th>\n",
       "      <th>jobdescription</th>\n",
       "      <th>label</th>\n",
       "      <th>position</th>\n",
       "      <th>position2</th>\n",
       "      <th>level</th>\n",
       "      <th>salarybytime</th>\n",
       "    </tr>\n",
       "  </thead>\n",
       "  <tbody>\n",
       "    <tr>\n",
       "      <th>23</th>\n",
       "      <td>Data Visualization Specialist</td>\n",
       "      <td>Mainstreet Research</td>\n",
       "      <td>Toronto, ON</td>\n",
       "      <td>$40 an hour</td>\n",
       "      <td>ROLE:Our diverse team is growing and we’re loo...</td>\n",
       "      <td>0</td>\n",
       "      <td>data visualization specialist</td>\n",
       "      <td>NaN</td>\n",
       "      <td>Unspecified</td>\n",
       "      <td>hour</td>\n",
       "    </tr>\n",
       "    <tr>\n",
       "      <th>38</th>\n",
       "      <td>Business Systems Analyst</td>\n",
       "      <td>TO Live</td>\n",
       "      <td>Toronto, ON</td>\n",
       "      <td>$60,000 - $70,000 a year</td>\n",
       "      <td>Employment Opportunity  Business Systems Analy...</td>\n",
       "      <td>0</td>\n",
       "      <td>business systems analyst</td>\n",
       "      <td>Analyst</td>\n",
       "      <td>Unspecified</td>\n",
       "      <td>year</td>\n",
       "    </tr>\n",
       "    <tr>\n",
       "      <th>48</th>\n",
       "      <td>Inventory Planning Analyst</td>\n",
       "      <td>Manpower</td>\n",
       "      <td>Rexdale, ON</td>\n",
       "      <td>$23 - $25 an hour</td>\n",
       "      <td>Inventory Planning Analyst - Pay rate $23 per ...</td>\n",
       "      <td>0</td>\n",
       "      <td>inventory planning analyst</td>\n",
       "      <td>Analyst</td>\n",
       "      <td>Unspecified</td>\n",
       "      <td>hour</td>\n",
       "    </tr>\n",
       "    <tr>\n",
       "      <th>56</th>\n",
       "      <td>Senior Analyst, Data Visualization and Analytics</td>\n",
       "      <td>Centennial College</td>\n",
       "      <td>Scarborough, ON</td>\n",
       "      <td>$41.03 - $47.58 an hour</td>\n",
       "      <td>Job Number: J0321-0815 Job Title: Senior Analy...</td>\n",
       "      <td>0</td>\n",
       "      <td>senior analyst, data visualization and analytics</td>\n",
       "      <td>Analyst</td>\n",
       "      <td>Senior</td>\n",
       "      <td>hour</td>\n",
       "    </tr>\n",
       "    <tr>\n",
       "      <th>63</th>\n",
       "      <td>Business Development Analyst</td>\n",
       "      <td>Origin Merchant Partners</td>\n",
       "      <td>Toronto, ON</td>\n",
       "      <td>$70,000 a year</td>\n",
       "      <td>Origin Merchant Partners is the largest invest...</td>\n",
       "      <td>0</td>\n",
       "      <td>business development analyst</td>\n",
       "      <td>Analyst</td>\n",
       "      <td>Unspecified</td>\n",
       "      <td>year</td>\n",
       "    </tr>\n",
       "  </tbody>\n",
       "</table>\n",
       "</div>"
      ],
      "text/plain": [
       "                                            jobtitle  \\\n",
       "23                     Data Visualization Specialist   \n",
       "38                          Business Systems Analyst   \n",
       "48                        Inventory Planning Analyst   \n",
       "56  Senior Analyst, Data Visualization and Analytics   \n",
       "63                      Business Development Analyst   \n",
       "\n",
       "                     company         location                    salary  \\\n",
       "23       Mainstreet Research      Toronto, ON               $40 an hour   \n",
       "38                   TO Live      Toronto, ON  $60,000 - $70,000 a year   \n",
       "48                  Manpower      Rexdale, ON         $23 - $25 an hour   \n",
       "56        Centennial College  Scarborough, ON   $41.03 - $47.58 an hour   \n",
       "63  Origin Merchant Partners      Toronto, ON            $70,000 a year   \n",
       "\n",
       "                                       jobdescription  label  \\\n",
       "23  ROLE:Our diverse team is growing and we’re loo...      0   \n",
       "38  Employment Opportunity  Business Systems Analy...      0   \n",
       "48  Inventory Planning Analyst - Pay rate $23 per ...      0   \n",
       "56  Job Number: J0321-0815 Job Title: Senior Analy...      0   \n",
       "63  Origin Merchant Partners is the largest invest...      0   \n",
       "\n",
       "                                            position position2        level  \\\n",
       "23                     data visualization specialist       NaN  Unspecified   \n",
       "38                          business systems analyst   Analyst  Unspecified   \n",
       "48                        inventory planning analyst   Analyst  Unspecified   \n",
       "56  senior analyst, data visualization and analytics   Analyst       Senior   \n",
       "63                      business development analyst   Analyst  Unspecified   \n",
       "\n",
       "   salarybytime  \n",
       "23         hour  \n",
       "38         year  \n",
       "48         hour  \n",
       "56         hour  \n",
       "63         year  "
      ]
     },
     "execution_count": 30,
     "metadata": {},
     "output_type": "execute_result"
    }
   ],
   "source": [
    "# Is the salary provided by hour or per year?\n",
    "salary_df.loc[salary_df[\"salary\"].str.contains(\"hour\"), \"salarybytime\"] = \"hour\"\n",
    "salary_df.loc[salary_df[\"salary\"].str.contains(\"year\"), \"salarybytime\"] = \"year\"\n",
    "\n",
    "salary_df.head()"
   ]
  },
  {
   "cell_type": "code",
   "execution_count": 38,
   "metadata": {
    "collapsed": true
   },
   "outputs": [
    {
     "name": "stderr",
     "output_type": "stream",
     "text": [
      "<ipython-input-38-b9d13037faa3>:9: SettingWithCopyWarning: \n",
      "A value is trying to be set on a copy of a slice from a DataFrame.\n",
      "Try using .loc[row_indexer,col_indexer] = value instead\n",
      "\n",
      "See the caveats in the documentation: https://pandas.pydata.org/pandas-docs/stable/user_guide/indexing.html#returning-a-view-versus-a-copy\n",
      "  salary_df['yearSalary'] = salary_df.loc[:, 'salary'].apply(lambda x: find_number(x))\n"
     ]
    },
    {
     "data": {
      "text/html": [
       "<div>\n",
       "<style scoped>\n",
       "    .dataframe tbody tr th:only-of-type {\n",
       "        vertical-align: middle;\n",
       "    }\n",
       "\n",
       "    .dataframe tbody tr th {\n",
       "        vertical-align: top;\n",
       "    }\n",
       "\n",
       "    .dataframe thead th {\n",
       "        text-align: right;\n",
       "    }\n",
       "</style>\n",
       "<table border=\"1\" class=\"dataframe\">\n",
       "  <thead>\n",
       "    <tr style=\"text-align: right;\">\n",
       "      <th></th>\n",
       "      <th>jobtitle</th>\n",
       "      <th>company</th>\n",
       "      <th>location</th>\n",
       "      <th>salary</th>\n",
       "      <th>jobdescription</th>\n",
       "      <th>label</th>\n",
       "      <th>position</th>\n",
       "      <th>position2</th>\n",
       "      <th>level</th>\n",
       "      <th>salarybytime</th>\n",
       "      <th>yearSalary</th>\n",
       "    </tr>\n",
       "  </thead>\n",
       "  <tbody>\n",
       "    <tr>\n",
       "      <th>23</th>\n",
       "      <td>Data Visualization Specialist</td>\n",
       "      <td>Mainstreet Research</td>\n",
       "      <td>Toronto, ON</td>\n",
       "      <td>$40 an hour</td>\n",
       "      <td>ROLE:Our diverse team is growing and we’re loo...</td>\n",
       "      <td>0</td>\n",
       "      <td>data visualization specialist</td>\n",
       "      <td>NaN</td>\n",
       "      <td>Unspecified</td>\n",
       "      <td>hour</td>\n",
       "      <td>40</td>\n",
       "    </tr>\n",
       "    <tr>\n",
       "      <th>38</th>\n",
       "      <td>Business Systems Analyst</td>\n",
       "      <td>TO Live</td>\n",
       "      <td>Toronto, ON</td>\n",
       "      <td>$60,000 - $70,000 a year</td>\n",
       "      <td>Employment Opportunity  Business Systems Analy...</td>\n",
       "      <td>0</td>\n",
       "      <td>business systems analyst</td>\n",
       "      <td>Analyst</td>\n",
       "      <td>Unspecified</td>\n",
       "      <td>year</td>\n",
       "      <td>60</td>\n",
       "    </tr>\n",
       "    <tr>\n",
       "      <th>48</th>\n",
       "      <td>Inventory Planning Analyst</td>\n",
       "      <td>Manpower</td>\n",
       "      <td>Rexdale, ON</td>\n",
       "      <td>$23 - $25 an hour</td>\n",
       "      <td>Inventory Planning Analyst - Pay rate $23 per ...</td>\n",
       "      <td>0</td>\n",
       "      <td>inventory planning analyst</td>\n",
       "      <td>Analyst</td>\n",
       "      <td>Unspecified</td>\n",
       "      <td>hour</td>\n",
       "      <td>23</td>\n",
       "    </tr>\n",
       "    <tr>\n",
       "      <th>56</th>\n",
       "      <td>Senior Analyst, Data Visualization and Analytics</td>\n",
       "      <td>Centennial College</td>\n",
       "      <td>Scarborough, ON</td>\n",
       "      <td>$41.03 - $47.58 an hour</td>\n",
       "      <td>Job Number: J0321-0815 Job Title: Senior Analy...</td>\n",
       "      <td>0</td>\n",
       "      <td>senior analyst, data visualization and analytics</td>\n",
       "      <td>Analyst</td>\n",
       "      <td>Senior</td>\n",
       "      <td>hour</td>\n",
       "      <td>41</td>\n",
       "    </tr>\n",
       "    <tr>\n",
       "      <th>63</th>\n",
       "      <td>Business Development Analyst</td>\n",
       "      <td>Origin Merchant Partners</td>\n",
       "      <td>Toronto, ON</td>\n",
       "      <td>$70,000 a year</td>\n",
       "      <td>Origin Merchant Partners is the largest invest...</td>\n",
       "      <td>0</td>\n",
       "      <td>business development analyst</td>\n",
       "      <td>Analyst</td>\n",
       "      <td>Unspecified</td>\n",
       "      <td>year</td>\n",
       "      <td>70</td>\n",
       "    </tr>\n",
       "  </tbody>\n",
       "</table>\n",
       "</div>"
      ],
      "text/plain": [
       "                                            jobtitle  \\\n",
       "23                     Data Visualization Specialist   \n",
       "38                          Business Systems Analyst   \n",
       "48                        Inventory Planning Analyst   \n",
       "56  Senior Analyst, Data Visualization and Analytics   \n",
       "63                      Business Development Analyst   \n",
       "\n",
       "                     company         location                    salary  \\\n",
       "23       Mainstreet Research      Toronto, ON               $40 an hour   \n",
       "38                   TO Live      Toronto, ON  $60,000 - $70,000 a year   \n",
       "48                  Manpower      Rexdale, ON         $23 - $25 an hour   \n",
       "56        Centennial College  Scarborough, ON   $41.03 - $47.58 an hour   \n",
       "63  Origin Merchant Partners      Toronto, ON            $70,000 a year   \n",
       "\n",
       "                                       jobdescription  label  \\\n",
       "23  ROLE:Our diverse team is growing and we’re loo...      0   \n",
       "38  Employment Opportunity  Business Systems Analy...      0   \n",
       "48  Inventory Planning Analyst - Pay rate $23 per ...      0   \n",
       "56  Job Number: J0321-0815 Job Title: Senior Analy...      0   \n",
       "63  Origin Merchant Partners is the largest invest...      0   \n",
       "\n",
       "                                            position position2        level  \\\n",
       "23                     data visualization specialist       NaN  Unspecified   \n",
       "38                          business systems analyst   Analyst  Unspecified   \n",
       "48                        inventory planning analyst   Analyst  Unspecified   \n",
       "56  senior analyst, data visualization and analytics   Analyst       Senior   \n",
       "63                      business development analyst   Analyst  Unspecified   \n",
       "\n",
       "   salarybytime yearSalary  \n",
       "23         hour         40  \n",
       "38         year         60  \n",
       "48         hour         23  \n",
       "56         hour         41  \n",
       "63         year         70  "
      ]
     },
     "execution_count": 38,
     "metadata": {},
     "output_type": "execute_result"
    }
   ],
   "source": [
    "# There aren't very many salaries available here\n",
    "# First, convert all the salaries to the same scale (thousands per year)\n",
    "# wage / hour * (40 hour / week) * (52 weeks) = wage/year\n",
    "\n",
    "def find_number(text):\n",
    "    num = re.findall(r'\\d+|\\d+,\\d+|\\d+.\\d+',text)\n",
    "    #return \" \".join(num[0:1])\n",
    "    return num\n",
    "\n",
    "text = salary_df['salary']\n",
    "\n",
    "salary_df['yearSalary'] = salary_df.loc[:, 'salary'].apply(lambda x: find_number(x))\n",
    "salary_df.head()"
   ]
  },
  {
   "cell_type": "raw",
   "metadata": {},
   "source": [
    "def find_num(number_pattern, text):\n",
    "    num = re.findall(number_pattern, text)\n",
    "    return \"\".join(num[0:2]) #60000\n",
    "    #return \" \".join(num[0:1]) #60\n",
    "    #return num #60\n",
    "\n",
    "number_pattern = ('\\d+|\\d+,\\d+|\\d+.\\d+')\n",
    "text = \"$60,000 - 70,000 a year\"\n",
    "\n",
    "numlist = find_num(number_pattern, text)\n",
    "print(numlist)\n",
    "\n",
    "if len(numlist) > 1"
   ]
  },
  {
   "cell_type": "code",
   "execution_count": 53,
   "metadata": {},
   "outputs": [
    {
     "name": "stdout",
     "output_type": "stream",
     "text": [
      "['$60,000 ', ' 70,000 a year']\n"
     ]
    }
   ],
   "source": [
    "def find_num(txt):\n",
    "    num = txt.split(\"-\")\n",
    "    return num\n",
    "\n",
    "text = \"$60,000 - 70,000 a year\"\n",
    "#text = \"$40 an hour\"\n",
    "\n",
    "numlist = find_num(text)\n",
    "print(numlist)"
   ]
  },
  {
   "cell_type": "code",
   "execution_count": 31,
   "metadata": {
    "scrolled": true
   },
   "outputs": [
    {
     "name": "stdout",
     "output_type": "stream",
     "text": [
      "<class 'pandas.core.frame.DataFrame'>\n",
      "Int64Index: 568 entries, 0 to 634\n",
      "Data columns (total 11 columns):\n",
      " #   Column          Non-Null Count  Dtype \n",
      "---  ------          --------------  ----- \n",
      " 0   jobtitle        568 non-null    string\n",
      " 1   company         568 non-null    string\n",
      " 2   location        568 non-null    string\n",
      " 3   salary          568 non-null    object\n",
      " 4   jobdescription  568 non-null    string\n",
      " 5   label           568 non-null    int64 \n",
      " 6   position        568 non-null    object\n",
      " 7   position2       568 non-null    object\n",
      " 8   level           568 non-null    object\n",
      " 9   salarybytime    72 non-null     object\n",
      " 10  yearSalary      568 non-null    object\n",
      "dtypes: int64(1), object(6), string(4)\n",
      "memory usage: 53.2+ KB\n"
     ]
    }
   ],
   "source": [
    "salary_df.info()"
   ]
  },
  {
   "cell_type": "code",
   "execution_count": null,
   "metadata": {},
   "outputs": [],
   "source": [
    "hour.reset_index(inplace=True)\n",
    "hour.head()"
   ]
  },
  {
   "cell_type": "code",
   "execution_count": null,
   "metadata": {
    "scrolled": true
   },
   "outputs": [],
   "source": [
    "# this doesn't do what I want it to\n",
    "#salary_df[\"Salarybytime\"] = salary_df[\"Yearly ($10K)\"].apply(lambda x: int(x)*40*52 if x == \"hour\" else x)\n",
    "#salary_df.head()"
   ]
  },
  {
   "cell_type": "code",
   "execution_count": null,
   "metadata": {},
   "outputs": [],
   "source": [
    "# lets test using just the postings that list salary by hour\n",
    "hour = salary_df.loc[salary_df[\"Salarybytime\"].str.contains(\"hour\")]\n",
    "hour.head()"
   ]
  },
  {
   "cell_type": "code",
   "execution_count": null,
   "metadata": {},
   "outputs": [],
   "source": [
    "print(hour.index())"
   ]
  },
  {
   "cell_type": "code",
   "execution_count": null,
   "metadata": {},
   "outputs": [],
   "source": [
    "def hour_to_year(x):\n",
    "    num = int(x)*40*52\n",
    "    return num\n",
    "\n",
    "hour[\"yearSalary2\"] = hour.loc[hour[\"yearSalary\"]].apply(lambda x: hour_to_year(x))\n",
    "\n",
    "hour.head()"
   ]
  },
  {
   "cell_type": "code",
   "execution_count": null,
   "metadata": {},
   "outputs": [],
   "source": [
    "# group raw_data by 'Salarybytime'\n",
    "# append yearly salary values to calculated hourly df then append that to grouped raw_data df"
   ]
  },
  {
   "cell_type": "code",
   "execution_count": null,
   "metadata": {},
   "outputs": [],
   "source": []
  }
 ],
 "metadata": {
  "kernelspec": {
   "display_name": "nlp-jobmarket",
   "language": "python",
   "name": "nlp-jobmarket"
  },
  "language_info": {
   "codemirror_mode": {
    "name": "ipython",
    "version": 3
   },
   "file_extension": ".py",
   "mimetype": "text/x-python",
   "name": "python",
   "nbconvert_exporter": "python",
   "pygments_lexer": "ipython3",
   "version": "3.8.5"
  }
 },
 "nbformat": 4,
 "nbformat_minor": 2
}
