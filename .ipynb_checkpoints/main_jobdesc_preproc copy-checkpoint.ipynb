{
 "cells": [
  {
   "cell_type": "markdown",
   "metadata": {},
   "source": [
    "<h1>Part 2 : Pre-Processing of Job Description Text</h1>"
   ]
  },
  {
   "cell_type": "code",
   "execution_count": 1,
   "metadata": {},
   "outputs": [
    {
     "name": "stderr",
     "output_type": "stream",
     "text": [
      "[nltk_data] Downloading package punkt to /Users/jennifer/nltk_data...\n",
      "[nltk_data]   Package punkt is already up-to-date!\n"
     ]
    },
    {
     "data": {
      "text/plain": [
       "True"
      ]
     },
     "execution_count": 1,
     "metadata": {},
     "output_type": "execute_result"
    }
   ],
   "source": [
    "import csv\n",
    "import pandas as pd\n",
    "import numpy as np\n",
    "import matplotlib.pyplot as plt\n",
    "import regex as re\n",
    "\n",
    "import os\n",
    "import warnings\n",
    "warnings.filterwarnings('ignore')\n",
    "\n",
    "from nltk.tokenize import word_tokenize\n",
    "from nltk.stem.porter import PorterStemmer\n",
    "from sklearn.feature_extraction.text import TfidfVectorizer\n",
    "\n",
    "# If you haven't already done so, run:\n",
    "#import nltk\n",
    "#nltk.download('punkt')"
   ]
  },
  {
   "cell_type": "code",
   "execution_count": 2,
   "metadata": {},
   "outputs": [
    {
     "data": {
      "text/html": [
       "<div>\n",
       "<style scoped>\n",
       "    .dataframe tbody tr th:only-of-type {\n",
       "        vertical-align: middle;\n",
       "    }\n",
       "\n",
       "    .dataframe tbody tr th {\n",
       "        vertical-align: top;\n",
       "    }\n",
       "\n",
       "    .dataframe thead th {\n",
       "        text-align: right;\n",
       "    }\n",
       "</style>\n",
       "<table border=\"1\" class=\"dataframe\">\n",
       "  <thead>\n",
       "    <tr style=\"text-align: right;\">\n",
       "      <th></th>\n",
       "      <th>Job Title</th>\n",
       "      <th>Job Description</th>\n",
       "    </tr>\n",
       "  </thead>\n",
       "  <tbody>\n",
       "    <tr>\n",
       "      <th>0</th>\n",
       "      <td>Pricing Analyst</td>\n",
       "      <td>Position Title:Pricing Analyst\\nPosition Type:...</td>\n",
       "    </tr>\n",
       "    <tr>\n",
       "      <th>1</th>\n",
       "      <td>Senior Data Analyst- Telephony Manager</td>\n",
       "      <td>Title: Senior Data Analyst - Telephony Manager...</td>\n",
       "    </tr>\n",
       "    <tr>\n",
       "      <th>2</th>\n",
       "      <td>Fuel Cell Data Engineer / Analyst</td>\n",
       "      <td>We are looking for a talented Fuel Cell Data E...</td>\n",
       "    </tr>\n",
       "    <tr>\n",
       "      <th>3</th>\n",
       "      <td>Senior Meter Data Analyst</td>\n",
       "      <td>CAREER OPPORTUNITY\\nSENIOR METER DATA ANALYST\\...</td>\n",
       "    </tr>\n",
       "    <tr>\n",
       "      <th>4</th>\n",
       "      <td>Data Engineer, Business Intelligence &amp; Analytics</td>\n",
       "      <td>The Data Engineer reports directly to the Dire...</td>\n",
       "    </tr>\n",
       "  </tbody>\n",
       "</table>\n",
       "</div>"
      ],
      "text/plain": [
       "                                          Job Title  \\\n",
       "0                                   Pricing Analyst   \n",
       "1            Senior Data Analyst- Telephony Manager   \n",
       "2                 Fuel Cell Data Engineer / Analyst   \n",
       "3                         Senior Meter Data Analyst   \n",
       "4  Data Engineer, Business Intelligence & Analytics   \n",
       "\n",
       "                                     Job Description  \n",
       "0  Position Title:Pricing Analyst\\nPosition Type:...  \n",
       "1  Title: Senior Data Analyst - Telephony Manager...  \n",
       "2  We are looking for a talented Fuel Cell Data E...  \n",
       "3  CAREER OPPORTUNITY\\nSENIOR METER DATA ANALYST\\...  \n",
       "4  The Data Engineer reports directly to the Dire...  "
      ]
     },
     "execution_count": 2,
     "metadata": {},
     "output_type": "execute_result"
    }
   ],
   "source": [
    "# Load csv\n",
    "with open('results.csv') as f:\n",
    "    jobText = pd.read_csv(f, \n",
    "                          header = 0, \n",
    "                          usecols=[\"Job Title\", \"Job Description\"], \n",
    "                          encoding='latin-1')\n",
    "\n",
    "jobText.head()"
   ]
  },
  {
   "cell_type": "code",
   "execution_count": 3,
   "metadata": {},
   "outputs": [
    {
     "data": {
      "text/html": [
       "<div>\n",
       "<style scoped>\n",
       "    .dataframe tbody tr th:only-of-type {\n",
       "        vertical-align: middle;\n",
       "    }\n",
       "\n",
       "    .dataframe tbody tr th {\n",
       "        vertical-align: top;\n",
       "    }\n",
       "\n",
       "    .dataframe thead th {\n",
       "        text-align: right;\n",
       "    }\n",
       "</style>\n",
       "<table border=\"1\" class=\"dataframe\">\n",
       "  <thead>\n",
       "    <tr style=\"text-align: right;\">\n",
       "      <th></th>\n",
       "      <th>Job Title</th>\n",
       "      <th>Job Description</th>\n",
       "    </tr>\n",
       "  </thead>\n",
       "  <tbody>\n",
       "    <tr>\n",
       "      <th>count</th>\n",
       "      <td>450</td>\n",
       "      <td>450</td>\n",
       "    </tr>\n",
       "    <tr>\n",
       "      <th>unique</th>\n",
       "      <td>314</td>\n",
       "      <td>384</td>\n",
       "    </tr>\n",
       "    <tr>\n",
       "      <th>top</th>\n",
       "      <td>Data Analyst</td>\n",
       "      <td>At the Janssen Pharmaceutical Companies of Joh...</td>\n",
       "    </tr>\n",
       "    <tr>\n",
       "      <th>freq</th>\n",
       "      <td>19</td>\n",
       "      <td>5</td>\n",
       "    </tr>\n",
       "  </tbody>\n",
       "</table>\n",
       "</div>"
      ],
      "text/plain": [
       "           Job Title                                    Job Description\n",
       "count            450                                                450\n",
       "unique           314                                                384\n",
       "top     Data Analyst  At the Janssen Pharmaceutical Companies of Joh...\n",
       "freq              19                                                  5"
      ]
     },
     "execution_count": 3,
     "metadata": {},
     "output_type": "execute_result"
    }
   ],
   "source": [
    "jobText.describe()"
   ]
  },
  {
   "cell_type": "code",
   "execution_count": 4,
   "metadata": {
    "scrolled": false
   },
   "outputs": [
    {
     "name": "stdout",
     "output_type": "stream",
     "text": [
      "<class 'pandas.core.frame.DataFrame'>\n",
      "RangeIndex: 450 entries, 0 to 449\n",
      "Data columns (total 2 columns):\n",
      " #   Column           Non-Null Count  Dtype \n",
      "---  ------           --------------  ----- \n",
      " 0   Job Title        450 non-null    object\n",
      " 1   Job Description  450 non-null    object\n",
      "dtypes: object(2)\n",
      "memory usage: 7.2+ KB\n"
     ]
    }
   ],
   "source": [
    "jobText.info()"
   ]
  },
  {
   "cell_type": "code",
   "execution_count": 5,
   "metadata": {},
   "outputs": [],
   "source": [
    "jobText['Job Description'] = jobText['Job Description'].astype('str')"
   ]
  },
  {
   "cell_type": "code",
   "execution_count": 7,
   "metadata": {},
   "outputs": [
    {
     "name": "stdout",
     "output_type": "stream",
     "text": [
      "<class 'pandas.core.frame.DataFrame'>\n",
      "RangeIndex: 450 entries, 0 to 449\n",
      "Data columns (total 2 columns):\n",
      " #   Column           Non-Null Count  Dtype \n",
      "---  ------           --------------  ----- \n",
      " 0   Job Title        450 non-null    object\n",
      " 1   Job Description  450 non-null    object\n",
      "dtypes: object(2)\n",
      "memory usage: 7.2+ KB\n"
     ]
    }
   ],
   "source": [
    "jobText.info()"
   ]
  },
  {
   "cell_type": "markdown",
   "metadata": {},
   "source": [
    "Add a column for the length of each description"
   ]
  },
  {
   "cell_type": "code",
   "execution_count": 8,
   "metadata": {},
   "outputs": [
    {
     "data": {
      "text/html": [
       "<div>\n",
       "<style scoped>\n",
       "    .dataframe tbody tr th:only-of-type {\n",
       "        vertical-align: middle;\n",
       "    }\n",
       "\n",
       "    .dataframe tbody tr th {\n",
       "        vertical-align: top;\n",
       "    }\n",
       "\n",
       "    .dataframe thead th {\n",
       "        text-align: right;\n",
       "    }\n",
       "</style>\n",
       "<table border=\"1\" class=\"dataframe\">\n",
       "  <thead>\n",
       "    <tr style=\"text-align: right;\">\n",
       "      <th></th>\n",
       "      <th>Job Title</th>\n",
       "      <th>Job Description</th>\n",
       "      <th>length</th>\n",
       "    </tr>\n",
       "  </thead>\n",
       "  <tbody>\n",
       "    <tr>\n",
       "      <th>0</th>\n",
       "      <td>Pricing Analyst</td>\n",
       "      <td>Position Title:Pricing Analyst\\nPosition Type:...</td>\n",
       "      <td>3404</td>\n",
       "    </tr>\n",
       "    <tr>\n",
       "      <th>1</th>\n",
       "      <td>Senior Data Analyst- Telephony Manager</td>\n",
       "      <td>Title: Senior Data Analyst - Telephony Manager...</td>\n",
       "      <td>2471</td>\n",
       "    </tr>\n",
       "    <tr>\n",
       "      <th>2</th>\n",
       "      <td>Fuel Cell Data Engineer / Analyst</td>\n",
       "      <td>We are looking for a talented Fuel Cell Data E...</td>\n",
       "      <td>2152</td>\n",
       "    </tr>\n",
       "    <tr>\n",
       "      <th>3</th>\n",
       "      <td>Senior Meter Data Analyst</td>\n",
       "      <td>CAREER OPPORTUNITY\\nSENIOR METER DATA ANALYST\\...</td>\n",
       "      <td>3825</td>\n",
       "    </tr>\n",
       "    <tr>\n",
       "      <th>4</th>\n",
       "      <td>Data Engineer, Business Intelligence &amp; Analytics</td>\n",
       "      <td>The Data Engineer reports directly to the Dire...</td>\n",
       "      <td>3819</td>\n",
       "    </tr>\n",
       "  </tbody>\n",
       "</table>\n",
       "</div>"
      ],
      "text/plain": [
       "                                          Job Title  \\\n",
       "0                                   Pricing Analyst   \n",
       "1            Senior Data Analyst- Telephony Manager   \n",
       "2                 Fuel Cell Data Engineer / Analyst   \n",
       "3                         Senior Meter Data Analyst   \n",
       "4  Data Engineer, Business Intelligence & Analytics   \n",
       "\n",
       "                                     Job Description  length  \n",
       "0  Position Title:Pricing Analyst\\nPosition Type:...    3404  \n",
       "1  Title: Senior Data Analyst - Telephony Manager...    2471  \n",
       "2  We are looking for a talented Fuel Cell Data E...    2152  \n",
       "3  CAREER OPPORTUNITY\\nSENIOR METER DATA ANALYST\\...    3825  \n",
       "4  The Data Engineer reports directly to the Dire...    3819  "
      ]
     },
     "execution_count": 8,
     "metadata": {},
     "output_type": "execute_result"
    }
   ],
   "source": [
    "jobText['length'] = jobText['Job Description'].str.len()\n",
    "jobText.head()"
   ]
  },
  {
   "cell_type": "markdown",
   "metadata": {},
   "source": [
    "<h2>Text Analysis of Job Description</h2>\n",
    "\n",
    "<h3>Pre-processing</h3>"
   ]
  },
  {
   "cell_type": "markdown",
   "metadata": {},
   "source": [
    "All the job postings currently available will be considered the \"test\" set and will not be split. Any predictions will be made on new postings scraped at a later date.\n",
    "\n",
    "The pre-processing pipeline will include the following steps:\n",
    "- Word count\n",
    "- Tokenization\n",
    "- Lower casing\n",
    "- Stopword removal\n",
    "- Stemming\n",
    "- transformation using TF-IDF"
   ]
  },
  {
   "cell_type": "code",
   "execution_count": 9,
   "metadata": {
    "scrolled": true
   },
   "outputs": [
    {
     "data": {
      "text/plain": [
       "'Title: Senior Data Analyst - Telephony Manager\\nReporting Manager: VP of Technology\\n\\nLocation: Mississauga\\nJob Type: Full time, Permanent\\n\\n Job Summary\\n\\n\\nThe primary responsibility of the Telephony Manager (Senior Data Analyst) is to maintain and operate and to operate a high-volume dialer system and its subsystems in a contact center environment effectively and efficiently. Experience in managing Telephony Applications (IVR, Quality Management, Workforce Management, Reporting). You will also collaborate with business management to determine overall strategy.\\n\\n Responsibilities:\\n\\nResearch, plan, install, configure, troubleshoot, maintain, and upgrade telephony systems.\\nAnalyze and evaluate present or proposed telephony procedures to drive contact center best practices and continually improve performance of the systems and dialer strategies.\\nTroubleshoot and resolve hardware, software, and connectivity problems, including user access and component configuration\\nRecord and maintain hardware and software inventories, site and/or server licensing, and user access and security.\\nWork with vendors to resolve complex Telephony problems.\\nProduce and maintain system documentation\\nConduct technical research on system upgrades to determine feasibility, cost, time required, and compatibility with current system.\\nTo document system problems and resolutions logs for future reference.\\nWorks closely with management to prioritize business goals and information needs.\\nPerform daily uploads, downloads and importing Analysis of dialer-output data to identify potential problems/issues.\\nCreate and update dialing campaigns, filter, list strategies and reports.\\nYou must be able to take ownership of your client base and complete daily tasks accurately and efficiently.\\nGeneral requirements:\\n\\nAbility to make quick decisions, establish priorities and concentrate on detailed information sometimes under stressful conditions.\\nProficient understanding of Telephony Technology.\\nDetailed oriented; ability to manage multiple projects at the same time.\\nExcellent verbal and written communication abilities are essential.\\nFirm understanding of business practices in a Collection Agency and Sales/Customer service contact center environment.\\nAdvanced proficiency level with Microsoft Excel\\nExperience working with AVAYA IP Office and other alternative and multiple hosted platforms\\nExperience working with other communication channels used in call centerish. Chat, SMS, Email.'"
      ]
     },
     "execution_count": 9,
     "metadata": {},
     "output_type": "execute_result"
    }
   ],
   "source": [
    "text2 = jobText['Job Description'][1]\n",
    "text2"
   ]
  },
  {
   "cell_type": "code",
   "execution_count": 10,
   "metadata": {
    "scrolled": true
   },
   "outputs": [
    {
     "name": "stdout",
     "output_type": "stream",
     "text": [
      "378\n"
     ]
    }
   ],
   "source": [
    "text2_token = word_tokenize(str(text2))\n",
    "print(len(text2_token))"
   ]
  },
  {
   "cell_type": "markdown",
   "metadata": {},
   "source": [
    "<h4>1. Tokenize Words</h4>"
   ]
  },
  {
   "cell_type": "code",
   "execution_count": 12,
   "metadata": {},
   "outputs": [],
   "source": [
    "tokens = word_tokenize(str(jobText['Job Description']))"
   ]
  },
  {
   "cell_type": "markdown",
   "metadata": {},
   "source": [
    "<h4>2. Stemming Words</h4>"
   ]
  },
  {
   "cell_type": "code",
   "execution_count": 13,
   "metadata": {},
   "outputs": [],
   "source": [
    "porter = PorterStemmer()\n",
    "jobText['Job Description'] = jobText['Job Description'].apply(porter.stem)"
   ]
  },
  {
   "cell_type": "markdown",
   "metadata": {},
   "source": [
    "<h4>3. Stopword Removal & Lowercasing</h4>"
   ]
  },
  {
   "cell_type": "code",
   "execution_count": 14,
   "metadata": {},
   "outputs": [],
   "source": [
    "# Initialize TFIDF Vectorizer\n",
    "cv = TfidfVectorizer(stop_words = 'english', lowercase= True)"
   ]
  },
  {
   "cell_type": "markdown",
   "metadata": {},
   "source": [
    "<h4>4. Apply TF-IDF</h4>"
   ]
  },
  {
   "cell_type": "code",
   "execution_count": 15,
   "metadata": {},
   "outputs": [],
   "source": [
    "jobText_CV = cv.fit_transform(jobText['Job Description'])"
   ]
  },
  {
   "cell_type": "markdown",
   "metadata": {},
   "source": [
    "<h3>Text Pre-processing Pipeline Function</h3>\n",
    "\n",
    "See DSDJ Feature Engineering pt 2 for a train & test version of the Tfidf vectorizer function."
   ]
  },
  {
   "cell_type": "code",
   "execution_count": 16,
   "metadata": {},
   "outputs": [],
   "source": [
    "# A function that cleans and performs a TFIDF transformation to text data\n",
    "tfidf = TfidfVectorizer(stop_words='english', lowercase=True)\n",
    "\n",
    "def tfidf_pipeline(txt):\n",
    "    txt = txt.apply(porter.stem) # Apply Stemming\n",
    "    x = tfidf.fit_transform(txt) # Apply Vectorizer, Stopword Removal, & Lowercasing\n",
    "    return x "
   ]
  },
  {
   "cell_type": "code",
   "execution_count": 17,
   "metadata": {},
   "outputs": [],
   "source": [
    "jobtext_TFIDF = tfidf_pipeline(jobText['Job Description'])"
   ]
  },
  {
   "cell_type": "code",
   "execution_count": 20,
   "metadata": {},
   "outputs": [
    {
     "name": "stdout",
     "output_type": "stream",
     "text": [
      "Original raw data df shape: (450, 3)\n",
      "Preprocessed data shape: (450, 10255)\n"
     ]
    }
   ],
   "source": [
    "original = jobText.shape\n",
    "preprocessed = jobtext_TFIDF.shape\n",
    "\n",
    "print(\"Original raw data df shape: \" + str(original))\n",
    "print(\"Preprocessed data shape: \" + str(preprocessed))"
   ]
  },
  {
   "cell_type": "code",
   "execution_count": null,
   "metadata": {},
   "outputs": [],
   "source": [
    "# word frequency : how many words per post.\n",
    "# Text cleaning : lower casing, extra white-space removal, lemmatization\n",
    "\n",
    "# Determine most common words that occur in the job descriptions. \n",
    "\n",
    "# Predetermine a list of expected lookup terms for dictionary of skills\n",
    "# BOW - Create a list of dictionaries containing word counts for each job posting\n",
    "# Table with skill, count, percentage\n",
    "# Wordcloud"
   ]
  },
  {
   "cell_type": "code",
   "execution_count": null,
   "metadata": {},
   "outputs": [],
   "source": [
    "#Words2Vec - similar words are closer together in a sentence\n",
    "\n",
    "# Topic modelling - where skills is considered a topic\n",
    "\n",
    "# NER with BERT"
   ]
  },
  {
   "cell_type": "code",
   "execution_count": null,
   "metadata": {},
   "outputs": [],
   "source": []
  }
 ],
 "metadata": {
  "kernelspec": {
   "display_name": "nlp-jobmarket",
   "language": "python",
   "name": "nlp-jobmarket"
  },
  "language_info": {
   "codemirror_mode": {
    "name": "ipython",
    "version": 3
   },
   "file_extension": ".py",
   "mimetype": "text/x-python",
   "name": "python",
   "nbconvert_exporter": "python",
   "pygments_lexer": "ipython3",
   "version": "3.8.5"
  }
 },
 "nbformat": 4,
 "nbformat_minor": 2
}
