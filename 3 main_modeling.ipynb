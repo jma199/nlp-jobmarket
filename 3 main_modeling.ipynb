{
 "cells": [
  {
   "cell_type": "markdown",
   "metadata": {},
   "source": [
    "## 3 - Develop Model\n",
    "\n",
    "Cycle through creating features, tuning models, and training/validating models."
   ]
  },
  {
   "cell_type": "markdown",
   "metadata": {},
   "source": [
    "### Import libraries"
   ]
  },
  {
   "cell_type": "code",
   "execution_count": 13,
   "metadata": {},
   "outputs": [],
   "source": [
    "import pandas as pd\n",
    "import numpy as np\n",
    "import matplotlib.pyplot as plt\n",
    "import seaborn as sns\n",
    "import itertools\n",
    "\n",
    "import warnings\n",
    "warnings.filterwarnings('ignore')\n",
    "\n",
    "from EvaluateModels import EvaluateModels\n",
    "from sklearn.feature_extraction.text import CountVectorizer, TfidfVectorizer, ENGLISH_STOP_WORDS\n",
    "# nltk.download('stopwords')\n",
    "from nltk.corpus import stopwords\n",
    "\n",
    "from sklearn.linear_model import LogisticRegression\n",
    "from sklearn.neighbors import KNeighborsClassifier\n",
    "from sklearn.svm import SVC\n",
    "from sklearn.naive_bayes import MultinomialNB\n",
    "from sklearn.tree import DecisionTreeClassifier\n",
    "from sklearn.ensemble import RandomForestClassifier, GradientBoostingClassifier\n",
    "import xgboost as xgb\n",
    "\n",
    "from sklearn.pipeline import Pipeline\n",
    "from sklearn.model_selection import GridSearchCV\n",
    "from sklearn.model_selection import KFold\n",
    "from sklearn.model_selection import train_test_split\n",
    "from sklearn.model_selection import cross_val_score, cross_validate, learning_curve\n",
    "from sklearn import metrics\n",
    "from sklearn.metrics import confusion_matrix\n",
    "from sklearn.metrics import precision_recall_fscore_support as score"
   ]
  },
  {
   "cell_type": "code",
   "execution_count": 14,
   "metadata": {},
   "outputs": [],
   "source": [
    "with open(\"cleaned_data.json\") as f:\n",
    "    df_data = pd.read_json(f)\n",
    "df_data.drop(columns=['company', 'location', 'salary', 'position', 'position2', 'level'], inplace=True)\n",
    "# df_data.describe(include='all')"
   ]
  },
  {
   "cell_type": "code",
   "execution_count": 15,
   "metadata": {},
   "outputs": [
    {
     "name": "stdout",
     "output_type": "stream",
     "text": [
      "x_train shape is (327,)  and x_test shape is  (141,)\n",
      "y_train shape is (327,)  and y_test shape is  (141,)\n"
     ]
    }
   ],
   "source": [
    "x_train, x_test, y_train, y_test = train_test_split(df_data['jobdescription'], df_data['label'],\n",
    "                               test_size=0.30,\n",
    "                               random_state=123,\n",
    "                               stratify= df_data['label'])\n",
    "\n",
    "\n",
    "print(\"x_train shape is\", x_train.shape, \" and x_test shape is \", x_test.shape)\n",
    "print(\"y_train shape is\", y_train.shape, \" and y_test shape is \", y_test.shape)"
   ]
  },
  {
   "cell_type": "markdown",
   "metadata": {},
   "source": [
    "### Text Pre-processing"
   ]
  },
  {
   "cell_type": "code",
   "execution_count": 16,
   "metadata": {},
   "outputs": [
    {
     "name": "stdout",
     "output_type": "stream",
     "text": [
      "x_train_tfidf shape: (327, 3259)\n",
      "x_test_tfidf shape: (141, 3259)\n"
     ]
    }
   ],
   "source": [
    "# Initialize Vectorizer\n",
    "cvec = CountVectorizer(analyzer = 'word', stop_words = ENGLISH_STOP_WORDS, lowercase= True, min_df=4)\n",
    "\n",
    "# Fit text data\n",
    "cvec.fit(x_train.values)\n",
    "\n",
    "x_train_tfidf = cvec.transform(x_train.values)\n",
    "x_test_tfidf = cvec.transform(x_test.values)\n",
    "\n",
    "print(\"x_train_tfidf shape:\", x_train_tfidf.shape)\n",
    "print(\"x_test_tfidf shape:\", x_test_tfidf.shape)"
   ]
  },
  {
   "cell_type": "markdown",
   "metadata": {},
   "source": [
    "### Test Baseline Models\n",
    "\n",
    "To begin modeling, we'll create a baseline of performance by selecting a suite of different algorithms capable of working on classification problems."
   ]
  },
  {
   "cell_type": "code",
   "execution_count": 17,
   "metadata": {},
   "outputs": [],
   "source": [
    "# Instantiate classifiers to compare\n",
    "models = [\n",
    "    ('LR', LogisticRegression()),\n",
    "    ('KNN', KNeighborsClassifier()),\n",
    "    ('CART', DecisionTreeClassifier()),\n",
    "    ('SVC', SVC()),\n",
    "    ('NB', MultinomialNB())\n",
    "]\n",
    "\n",
    "model_names = []\n",
    "cv_std = {}\n",
    "model_scores = {}"
   ]
  },
  {
   "cell_type": "code",
   "execution_count": 18,
   "metadata": {},
   "outputs": [],
   "source": [
    "def train_baseline_model(model, x_train_tfidf, y_train, y_test, model_scores, name, num_folds=5, seed=34):\n",
    "    kfold = KFold(n_splits=num_folds, random_state=seed, shuffle=True)\n",
    "    cv_score = cross_validate(model, x_train_tfidf, y_train, cv=kfold)\n",
    "    model_names.append(name)\n",
    "    model_scores[model] = cv_score\n",
    "\n",
    "def print_summary(model, model_scores, cv_std):\n",
    "    print('\\nModel: ', model)\n",
    "    print(f'  - Average CV score: {np.mean(model_scores[model])}')\n",
    "    print(f'  - Standard deviation during CV: {np.std(model_scores[model])}')"
   ]
  },
  {
   "cell_type": "code",
   "execution_count": 19,
   "metadata": {},
   "outputs": [
    {
     "name": "stdout",
     "output_type": "stream",
     "text": [
      "Begin cross validating models:\n",
      "\n",
      "Model:  LogisticRegression()\n",
      "  - Average CV score: 0.9326340326340328\n",
      "  - Standard deviation during CV: 0.03154286308716173\n",
      "\n",
      "Model:  KNeighborsClassifier()\n",
      "  - Average CV score: 0.785920745920746\n",
      "  - Standard deviation during CV: 0.04000793222842295\n",
      "\n",
      "Model:  DecisionTreeClassifier()\n",
      "  - Average CV score: 0.9052214452214453\n",
      "  - Standard deviation during CV: 0.022356050208206784\n",
      "\n",
      "Model:  SVC()\n",
      "  - Average CV score: 0.9235897435897436\n",
      "  - Standard deviation during CV: 0.03349915557579514\n",
      "\n",
      "Model:  MultinomialNB()\n",
      "  - Average CV score: 0.9234498834498834\n",
      "  - Standard deviation during CV: 0.0309585192648691\n"
     ]
    }
   ],
   "source": [
    "print(\"Begin cross validating models:\")\n",
    "for name, model in models:\n",
    "    train_baseline_model(model, x_train_tfidf, y_train, y_test, model_scores, name)\n",
    "    print_summary(model, model_scores, cv_std)"
   ]
  },
  {
   "cell_type": "code",
   "execution_count": 20,
   "metadata": {},
   "outputs": [
    {
     "data": {
      "image/png": "[encoded data removed]",
      "text/plain": [
       "<Figure size 504x360 with 1 Axes>"
      ]
     },
     "metadata": {
      "needs_background": "light"
     },
     "output_type": "display_data"
    }
   ],
   "source": [
    "base_df = pd.DataFrame(model_scores)\n",
    "base_df.columns = model_names\n",
    "\n",
    "fig, ax = plt.subplots(figsize = (7,5))\n",
    "fig.suptitle(\"Algorithm Comparison\")\n",
    "base_df.boxplot()\n",
    "plt.ylabel(\"cv_score\")\n",
    "plt.xlabel(\"Model\")\n",
    "plt.show()"
   ]
  },
  {
   "cell_type": "markdown",
   "metadata": {},
   "source": [
    "LR has the highest average score and was closely followed by SVC and NB models. The kNN model clearly performed the worst. We will try a few different preprocessing techniques to try and improve the scores of these models."
   ]
  },
  {
   "cell_type": "markdown",
   "metadata": {},
   "source": [
    "### Additional Text Pre-processing\n",
    "\n",
    "There are additional pre-processing steps that can be performed to further improve baseline model performance. We will start with a different vectorizer to extract text features."
   ]
  },
  {
   "cell_type": "code",
   "execution_count": 27,
   "metadata": {},
   "outputs": [],
   "source": [
    "tvec = TfidfVectorizer(analyzer = 'word', stop_words = ENGLISH_STOP_WORDS, lowercase= True, min_df=4)\n",
    "vecs = [cvec, tvec]\n",
    "model = LogisticRegression()\n",
    "parameters = {'vectorizer': vecs}"
   ]
  },
  {
   "cell_type": "code",
   "execution_count": 28,
   "metadata": {},
   "outputs": [
    {
     "data": {
      "text/plain": [
       "GridSearchCV(cv=5,\n",
       "             estimator=Pipeline(steps=[('vectorizer',\n",
       "                                        CountVectorizer(min_df=4,\n",
       "                                                        stop_words=frozenset({'a',\n",
       "                                                                              'about',\n",
       "                                                                              'above',\n",
       "                                                                              'across',\n",
       "                                                                              'after',\n",
       "                                                                              'afterwards',\n",
       "                                                                              'again',\n",
       "                                                                              'against',\n",
       "                                                                              'all',\n",
       "                                                                              'almost',\n",
       "                                                                              'alone',\n",
       "                                                                              'along',\n",
       "                                                                              'already',\n",
       "                                                                              'also',\n",
       "                                                                              'although',\n",
       "                                                                              'always',\n",
       "                                                                              'am',\n",
       "                                                                              'among',\n",
       "                                                                              'amongst',\n",
       "                                                                              'amoungst',\n",
       "                                                                              'amount',\n",
       "                                                                              'an',\n",
       "                                                                              'and',\n",
       "                                                                              'another',\n",
       "                                                                              'any',\n",
       "                                                                              'anyhow',\n",
       "                                                                              'anyone',\n",
       "                                                                              'anything',\n",
       "                                                                              'anyway',\n",
       "                                                                              '...\n",
       "                                        TfidfVectorizer(min_df=4,\n",
       "                                                        stop_words=frozenset({'a',\n",
       "                                                                              'about',\n",
       "                                                                              'above',\n",
       "                                                                              'across',\n",
       "                                                                              'after',\n",
       "                                                                              'afterwards',\n",
       "                                                                              'again',\n",
       "                                                                              'against',\n",
       "                                                                              'all',\n",
       "                                                                              'almost',\n",
       "                                                                              'alone',\n",
       "                                                                              'along',\n",
       "                                                                              'already',\n",
       "                                                                              'also',\n",
       "                                                                              'although',\n",
       "                                                                              'always',\n",
       "                                                                              'am',\n",
       "                                                                              'among',\n",
       "                                                                              'amongst',\n",
       "                                                                              'amoungst',\n",
       "                                                                              'amount',\n",
       "                                                                              'an',\n",
       "                                                                              'and',\n",
       "                                                                              'another',\n",
       "                                                                              'any',\n",
       "                                                                              'anyhow',\n",
       "                                                                              'anyone',\n",
       "                                                                              'anything',\n",
       "                                                                              'anyway',\n",
       "                                                                              'anywhere', ...}))]},\n",
       "             return_train_score=True, scoring='accuracy')"
      ]
     },
     "execution_count": 28,
     "metadata": {},
     "output_type": "execute_result"
    }
   ],
   "source": [
    "pipe = Pipeline([('vectorizer', cvec), ('model', LogisticRegression())])\n",
    "grid = GridSearchCV(pipe, param_grid = parameters, cv=5, scoring='accuracy', return_train_score=True)\n",
    "grid.fit(x_train.values, y_train.values)"
   ]
  },
  {
   "cell_type": "code",
   "execution_count": 29,
   "metadata": {},
   "outputs": [
    {
     "name": "stdout",
     "output_type": "stream",
     "text": [
      "Training set score: 1.0\n",
      "Test set score: 0.9574468085106383\n"
     ]
    }
   ],
   "source": [
    "print(f'Training set score: {str(grid.score(x_train.values, y_train.values))}')\n",
    "print(f'Test set score: {str(grid.score(x_test.values, y_test.values))}')"
   ]
  },
  {
   "cell_type": "code",
   "execution_count": 30,
   "metadata": {},
   "outputs": [
    {
     "name": "stdout",
     "output_type": "stream",
     "text": [
      "The best mean cv score is 0.9387878787878787\n",
      "{'vectorizer': CountVectorizer(min_df=4,\n",
      "                stop_words=frozenset({'a', 'about', 'above', 'across', 'after',\n",
      "                                      'afterwards', 'again', 'against', 'all',\n",
      "                                      'almost', 'alone', 'along', 'already',\n",
      "                                      'also', 'although', 'always', 'am',\n",
      "                                      'among', 'amongst', 'amoungst', 'amount',\n",
      "                                      'an', 'and', 'another', 'any', 'anyhow',\n",
      "                                      'anyone', 'anything', 'anyway',\n",
      "                                      'anywhere', ...}))}\n",
      "Pipeline(steps=[('vectorizer',\n",
      "                 CountVectorizer(min_df=4,\n",
      "                                 stop_words=frozenset({'a', 'about', 'above',\n",
      "                                                       'across', 'after',\n",
      "                                                       'afterwards', 'again',\n",
      "                                                       'against', 'all',\n",
      "                                                       'almost', 'alone',\n",
      "                                                       'along', 'already',\n",
      "                                                       'also', 'although',\n",
      "                                                       'always', 'am', 'among',\n",
      "                                                       'amongst', 'amoungst',\n",
      "                                                       'amount', 'an', 'and',\n",
      "                                                       'another', 'any',\n",
      "                                                       'anyhow', 'anyone',\n",
      "                                                       'anything', 'anyway',\n",
      "                                                       'anywhere', ...}))),\n",
      "                ('model', LogisticRegression())])\n"
     ]
    }
   ],
   "source": [
    "# Print the best score\n",
    "best_score = grid.best_score_\n",
    "print(f'The best mean cv score is {best_score}')\n",
    "\n",
    "# Access the best set of parameters\n",
    "best_params = grid.best_params_\n",
    "print(best_params)\n",
    "\n",
    "# Stores the optimum model in best_pipe\n",
    "best_pipe = grid.best_estimator_\n",
    "print(best_pipe)"
   ]
  },
  {
   "cell_type": "code",
   "execution_count": 32,
   "metadata": {},
   "outputs": [
    {
     "name": "stdout",
     "output_type": "stream",
     "text": [
      "['CountVectorizer', 'TfidfVectorizer']\n"
     ]
    }
   ],
   "source": [
    "result_df = pd.DataFrame(grid.cv_results_)\n",
    "\n",
    "# get list of parameters for plot labels\n",
    "col_label = [col for col in result_df.columns if 'param_' in col]\n",
    "col_label = str(col_label[0])\n",
    "plot_labels = result_df[col_label].values.tolist()\n",
    "plot_label = [str(i).split('(')[0] for i in plot_labels]\n",
    "print(plot_label)\n",
    "\n",
    "# take just cv scores and plot them\n",
    "score_cols = [col for col in result_df.columns if 'split' in col]\n",
    "test_score_df = result_df[score_cols].T\n",
    "# test_score_df"
   ]
  },
  {
   "cell_type": "code",
   "execution_count": 33,
   "metadata": {},
   "outputs": [
    {
     "data": {
      "image/png": "[encoded data removed]",
      "text/plain": [
       "<Figure size 432x360 with 1 Axes>"
      ]
     },
     "metadata": {
      "needs_background": "light"
     },
     "output_type": "display_data"
    }
   ],
   "source": [
    "fig, ax = plt.subplots(figsize = (6,5))\n",
    "fig.suptitle(\"Vectorizer Comparison\")\n",
    "test_score_df.boxplot()\n",
    "plt.ylabel(\"test_score\")\n",
    "ax.set_xticklabels(plot_label)\n",
    "plt.show()"
   ]
  },
  {
   "cell_type": "markdown",
   "metadata": {},
   "source": [
    "### Pipeline to Check Baseline Models with TfidfVectorizer"
   ]
  },
  {
   "cell_type": "code",
   "execution_count": 34,
   "metadata": {},
   "outputs": [
    {
     "name": "stdout",
     "output_type": "stream",
     "text": [
      "Scores:\n",
      " -- Training set score: 0.9969418960244648\n",
      " -- Test set score: 0.9432624113475178\n"
     ]
    }
   ],
   "source": [
    "models = [LogisticRegression(), KNeighborsClassifier(), DecisionTreeClassifier(), SVC(), MultinomialNB()]\n",
    "parameters = {'model': models}\n",
    "\n",
    "pipe = Pipeline([('vectorizer', tvec), ('model', LogisticRegression())])\n",
    "grid = GridSearchCV(pipe, param_grid = parameters, cv=5, scoring='accuracy')\n",
    "grid.fit(x_train.values, y_train.values)\n",
    "\n",
    "print('Scores:')\n",
    "print(f' -- Training set score: {str(grid.score(x_train.values, y_train.values))}')\n",
    "print(f' -- Test set score: {str(grid.score(x_test.values, y_test.values))}')"
   ]
  },
  {
   "cell_type": "code",
   "execution_count": 36,
   "metadata": {},
   "outputs": [
    {
     "name": "stdout",
     "output_type": "stream",
     "text": [
      "The best mean cv score is 0.9265268065268065\n",
      "The best model parameters are {'model': SVC()}\n",
      "Pipeline(steps=[('vectorizer',\n",
      "                 TfidfVectorizer(min_df=4,\n",
      "                                 stop_words=frozenset({'a', 'about', 'above',\n",
      "                                                       'across', 'after',\n",
      "                                                       'afterwards', 'again',\n",
      "                                                       'against', 'all',\n",
      "                                                       'almost', 'alone',\n",
      "                                                       'along', 'already',\n",
      "                                                       'also', 'although',\n",
      "                                                       'always', 'am', 'among',\n",
      "                                                       'amongst', 'amoungst',\n",
      "                                                       'amount', 'an', 'and',\n",
      "                                                       'another', 'any',\n",
      "                                                       'anyhow', 'anyone',\n",
      "                                                       'anything', 'anyway',\n",
      "                                                       'anywhere', ...}))),\n",
      "                ('model', SVC())])\n"
     ]
    }
   ],
   "source": [
    "best_score = grid.best_score_\n",
    "print(f'The best mean cv score is {best_score}')\n",
    "\n",
    "# Access the best set of parameters\n",
    "best_params = grid.best_params_\n",
    "print(f'The best model parameters are {best_params}')\n",
    "\n",
    "# Stores the optimum model in best_pipe\n",
    "best_pipe = grid.best_estimator_\n",
    "print(best_pipe)"
   ]
  },
  {
   "cell_type": "code",
   "execution_count": 37,
   "metadata": {},
   "outputs": [],
   "source": [
    "result_df = pd.DataFrame.from_dict(grid.cv_results_, orient='columns')\n",
    "\n",
    "col_labels = [col for col in result_df.columns if 'param_' in col]\n",
    "col_label = str(col_labels[0])\n",
    "plot_labels = result_df[col_label].values.tolist()\n",
    "clean_labels = [str(i).split('(')[0] for i in plot_labels]\n",
    "# print(clean_labels)"
   ]
  },
  {
   "cell_type": "code",
   "execution_count": 38,
   "metadata": {},
   "outputs": [
    {
     "data": {
      "text/html": [
       "<div>\n",
       "<style scoped>\n",
       "    .dataframe tbody tr th:only-of-type {\n",
       "        vertical-align: middle;\n",
       "    }\n",
       "\n",
       "    .dataframe tbody tr th {\n",
       "        vertical-align: top;\n",
       "    }\n",
       "\n",
       "    .dataframe thead th {\n",
       "        text-align: right;\n",
       "    }\n",
       "</style>\n",
       "<table border=\"1\" class=\"dataframe\">\n",
       "  <thead>\n",
       "    <tr style=\"text-align: right;\">\n",
       "      <th></th>\n",
       "      <th>LogisticRegression</th>\n",
       "      <th>KNeighborsClassifier</th>\n",
       "      <th>DecisionTreeClassifier</th>\n",
       "      <th>SVC</th>\n",
       "      <th>MultinomialNB</th>\n",
       "    </tr>\n",
       "  </thead>\n",
       "  <tbody>\n",
       "    <tr>\n",
       "      <th>split0_test_score</th>\n",
       "      <td>0.924242</td>\n",
       "      <td>0.924242</td>\n",
       "      <td>0.893939</td>\n",
       "      <td>0.939394</td>\n",
       "      <td>0.848485</td>\n",
       "    </tr>\n",
       "    <tr>\n",
       "      <th>split1_test_score</th>\n",
       "      <td>0.878788</td>\n",
       "      <td>0.863636</td>\n",
       "      <td>0.848485</td>\n",
       "      <td>0.939394</td>\n",
       "      <td>0.818182</td>\n",
       "    </tr>\n",
       "    <tr>\n",
       "      <th>split2_test_score</th>\n",
       "      <td>0.876923</td>\n",
       "      <td>0.907692</td>\n",
       "      <td>0.953846</td>\n",
       "      <td>0.923077</td>\n",
       "      <td>0.784615</td>\n",
       "    </tr>\n",
       "    <tr>\n",
       "      <th>split3_test_score</th>\n",
       "      <td>0.846154</td>\n",
       "      <td>0.876923</td>\n",
       "      <td>0.876923</td>\n",
       "      <td>0.892308</td>\n",
       "      <td>0.784615</td>\n",
       "    </tr>\n",
       "    <tr>\n",
       "      <th>split4_test_score</th>\n",
       "      <td>0.938462</td>\n",
       "      <td>0.907692</td>\n",
       "      <td>0.953846</td>\n",
       "      <td>0.938462</td>\n",
       "      <td>0.830769</td>\n",
       "    </tr>\n",
       "  </tbody>\n",
       "</table>\n",
       "</div>"
      ],
      "text/plain": [
       "                   LogisticRegression  KNeighborsClassifier  \\\n",
       "split0_test_score            0.924242              0.924242   \n",
       "split1_test_score            0.878788              0.863636   \n",
       "split2_test_score            0.876923              0.907692   \n",
       "split3_test_score            0.846154              0.876923   \n",
       "split4_test_score            0.938462              0.907692   \n",
       "\n",
       "                   DecisionTreeClassifier       SVC  MultinomialNB  \n",
       "split0_test_score                0.893939  0.939394       0.848485  \n",
       "split1_test_score                0.848485  0.939394       0.818182  \n",
       "split2_test_score                0.953846  0.923077       0.784615  \n",
       "split3_test_score                0.876923  0.892308       0.784615  \n",
       "split4_test_score                0.953846  0.938462       0.830769  "
      ]
     },
     "execution_count": 38,
     "metadata": {},
     "output_type": "execute_result"
    }
   ],
   "source": [
    "# take just cv scores and plot them\n",
    "score_cols = [col for col in result_df.columns if 'split' in col]\n",
    "cv_score_df = result_df[score_cols].T\n",
    "nums = range(len(plot_labels))\n",
    "label_mapper = dict(zip(nums, clean_labels))\n",
    "cv_score_df.rename(columns= label_mapper)"
   ]
  },
  {
   "cell_type": "code",
   "execution_count": 39,
   "metadata": {},
   "outputs": [
    {
     "data": {
      "image/png": "[encoded data removed]",
      "text/plain": [
       "<Figure size 576x360 with 1 Axes>"
      ]
     },
     "metadata": {
      "needs_background": "light"
     },
     "output_type": "display_data"
    }
   ],
   "source": [
    "fig, ax = plt.subplots(figsize = (8,5))\n",
    "fig.suptitle(\"Algorithm Comparison with tvec\")\n",
    "cv_score_df.boxplot()\n",
    "plt.ylabel(\"cv_score\")\n",
    "ax.set_xticklabels(clean_labels)\n",
    "plt.xticks(rotation=30)\n",
    "plt.show()"
   ]
  },
  {
   "cell_type": "markdown",
   "metadata": {},
   "source": [
    "The TfidfVectorizer - SVC() Model performed the best among the models trained with the TfidfVectorizer to extract text features. The training and test score were both slightly smaller than the CountVectorizer - Logistic Regression() model, so we will continue with the latter."
   ]
  },
  {
   "cell_type": "markdown",
   "metadata": {},
   "source": [
    "### Additional Improvements to word vectorizer\n",
    "\n",
    "Elimination of stop words"
   ]
  },
  {
   "cell_type": "code",
   "execution_count": 40,
   "metadata": {},
   "outputs": [],
   "source": [
    "# Instantiate classifiers to compare\n",
    "models = [\n",
    "    ('LR', LogisticRegression()),\n",
    "    ('KNN', KNeighborsClassifier()),\n",
    "    ('CART', DecisionTreeClassifier()),\n",
    "    ('SVC', SVC()),\n",
    "    ('NB', MultinomialNB())\n",
    "]\n",
    "\n",
    "model_names = []\n",
    "cv_std = {}\n",
    "model_scores = {}"
   ]
  },
  {
   "cell_type": "code",
   "execution_count": 41,
   "metadata": {},
   "outputs": [],
   "source": [
    "# create custom stopwords set\n",
    "combined_stopwords = ENGLISH_STOP_WORDS.union(stopwords.words('french'))\n",
    "custom_stopwords = ['data', 'scientist', 'science', 'scientist', 'skills', 'ability', 'bachelor', 'degree', 'work', 'years', 'equal', 'opportunity', 'employer', 'objectives', 'ontario', 'canada', 'disability', 'strong', 'including', 'understanding', 'related', 'experience', 'including', 'job', 'requirements']\n",
    "\n",
    "#combine custom_stopwords and combined_stopwords from above\n",
    "custcomb_stopwords = combined_stopwords.union(custom_stopwords)\n",
    "\n",
    "cvec = CountVectorizer(analyzer = 'word', stop_words = custcomb_stopwords, lowercase= True, min_df=4)"
   ]
  },
  {
   "cell_type": "code",
   "execution_count": 43,
   "metadata": {},
   "outputs": [
    {
     "name": "stdout",
     "output_type": "stream",
     "text": [
      "Begin cross validating models:\n",
      "\n",
      "Model:  LogisticRegression()\n",
      "  - Average CV score: 0.9326340326340328\n",
      "  - Standard deviation during CV: 0.03154286308716173\n",
      "\n",
      "Model:  KNeighborsClassifier()\n",
      "  - Average CV score: 0.785920745920746\n",
      "  - Standard deviation during CV: 0.04000793222842295\n",
      "\n",
      "Model:  DecisionTreeClassifier()\n",
      "  - Average CV score: 0.9173892773892774\n",
      "  - Standard deviation during CV: 0.02309532830115749\n",
      "\n",
      "Model:  SVC()\n",
      "  - Average CV score: 0.9235897435897436\n",
      "  - Standard deviation during CV: 0.03349915557579514\n",
      "\n",
      "Model:  MultinomialNB()\n",
      "  - Average CV score: 0.9234498834498834\n",
      "  - Standard deviation during CV: 0.0309585192648691\n"
     ]
    }
   ],
   "source": [
    "print(\"Begin cross validating models:\")\n",
    "for name, model in models:\n",
    "    train_baseline_model(model, x_train_tfidf, y_train, y_test, model_scores, name)\n",
    "    print_summary(model, model_scores, cv_std)"
   ]
  },
  {
   "cell_type": "code",
   "execution_count": 44,
   "metadata": {},
   "outputs": [
    {
     "data": {
      "image/png": "[encoded data removed]",
      "text/plain": [
       "<Figure size 504x360 with 1 Axes>"
      ]
     },
     "metadata": {
      "needs_background": "light"
     },
     "output_type": "display_data"
    }
   ],
   "source": [
    "base_df = pd.DataFrame(model_scores)\n",
    "base_df.columns = model_names\n",
    "\n",
    "fig, ax = plt.subplots(figsize = (7,5))\n",
    "fig.suptitle(\"Algorithm Comparison\")\n",
    "base_df.boxplot()\n",
    "plt.ylabel(\"cv_score\")\n",
    "plt.xlabel(\"Model\")\n",
    "plt.show()"
   ]
  },
  {
   "cell_type": "markdown",
   "metadata": {},
   "source": [
    "### Additional Improvements to Selected Baseline Model"
   ]
  },
  {
   "cell_type": "code",
   "execution_count": 67,
   "metadata": {},
   "outputs": [],
   "source": [
    "# cvec = CountVectorizer(analyzer = 'word', stop_words = ENGLISH_STOP_WORDS, lowercase= True, min_df=4)\n",
    "# vec = [cvec]\n",
    "# model = [LogisticRegression(C=1)]\n",
    "# c_vals = [0.01, 0.1, 1, 10, 100]\n",
    "# params = {'model__C': c_vals}\n",
    "# scoring = 'accuracy'\n",
    "# test_lr = EvaluateModels(vec, model, params, scoring)"
   ]
  },
  {
   "cell_type": "code",
   "execution_count": 68,
   "metadata": {},
   "outputs": [
    {
     "data": {
      "text/plain": [
       "{'model__C': [0.01, 0.1, 1, 10, 100]}"
      ]
     },
     "execution_count": 68,
     "metadata": {},
     "output_type": "execute_result"
    }
   ],
   "source": [
    "# test_lr.params"
   ]
  },
  {
   "cell_type": "code",
   "execution_count": 69,
   "metadata": {},
   "outputs": [
    {
     "ename": "AttributeError",
     "evalue": "'NoneType' object has no attribute 'set_params'",
     "output_type": "error",
     "traceback": [
      "\u001b[0;31m---------------------------------------------------------------------------\u001b[0m",
      "\u001b[0;31mAttributeError\u001b[0m                            Traceback (most recent call last)",
      "\u001b[1;32m/Users/jennifer/nlp-jobmarket/3 main_modeling.ipynb Cell 38\u001b[0m in \u001b[0;36m<module>\u001b[0;34m\u001b[0m\n\u001b[0;32m----> <a href='vscode-notebook-cell:/Users/jennifer/nlp-jobmarket/3%20main_modeling.ipynb#Y120sZmlsZQ%3D%3D?line=0'>1</a>\u001b[0m test_lr\u001b[39m.\u001b[39;49mrun(x_train, y_train)\n",
      "File \u001b[0;32m~/nlp-jobmarket/EvaluateModels.py:108\u001b[0m, in \u001b[0;36mEvaluateModels.run\u001b[0;34m(self, x_train, y_train)\u001b[0m\n\u001b[1;32m    104\u001b[0m kfold \u001b[39m=\u001b[39m KFold(n_splits\u001b[39m=\u001b[39m\u001b[39mself\u001b[39m\u001b[39m.\u001b[39mnum_folds, random_state\u001b[39m=\u001b[39m\u001b[39mself\u001b[39m\u001b[39m.\u001b[39mseed, shuffle\u001b[39m=\u001b[39m\u001b[39mTrue\u001b[39;00m)\n\u001b[1;32m    105\u001b[0m \u001b[39mself\u001b[39m\u001b[39m.\u001b[39mgrid \u001b[39m=\u001b[39m GridSearchCV(pipe, param_grid \u001b[39m=\u001b[39m \u001b[39mself\u001b[39m\u001b[39m.\u001b[39mparams, cv\u001b[39m=\u001b[39mkfold, scoring\u001b[39m=\u001b[39m \u001b[39mself\u001b[39m\u001b[39m.\u001b[39mscoring, \n\u001b[1;32m    106\u001b[0m     \u001b[39m# return_train_score=True\u001b[39;00m\n\u001b[1;32m    107\u001b[0m     )\n\u001b[0;32m--> 108\u001b[0m \u001b[39mself\u001b[39;49m\u001b[39m.\u001b[39;49mgrid\u001b[39m.\u001b[39;49mfit(x_train\u001b[39m.\u001b[39;49mvalues, y_train\u001b[39m.\u001b[39;49mvalues)\n\u001b[1;32m    110\u001b[0m \u001b[39mself\u001b[39m\u001b[39m.\u001b[39mget_best_results()\n\u001b[1;32m    111\u001b[0m \u001b[39mself\u001b[39m\u001b[39m.\u001b[39mplot_results()\n",
      "File \u001b[0;32m/opt/homebrew/Caskroom/miniforge/base/envs/tensorflow/lib/python3.9/site-packages/sklearn/model_selection/_search.py:891\u001b[0m, in \u001b[0;36mBaseSearchCV.fit\u001b[0;34m(self, X, y, groups, **fit_params)\u001b[0m\n\u001b[1;32m    885\u001b[0m     results \u001b[39m=\u001b[39m \u001b[39mself\u001b[39m\u001b[39m.\u001b[39m_format_results(\n\u001b[1;32m    886\u001b[0m         all_candidate_params, n_splits, all_out, all_more_results\n\u001b[1;32m    887\u001b[0m     )\n\u001b[1;32m    889\u001b[0m     \u001b[39mreturn\u001b[39;00m results\n\u001b[0;32m--> 891\u001b[0m \u001b[39mself\u001b[39;49m\u001b[39m.\u001b[39;49m_run_search(evaluate_candidates)\n\u001b[1;32m    893\u001b[0m \u001b[39m# multimetric is determined here because in the case of a callable\u001b[39;00m\n\u001b[1;32m    894\u001b[0m \u001b[39m# self.scoring the return type is only known after calling\u001b[39;00m\n\u001b[1;32m    895\u001b[0m first_test_score \u001b[39m=\u001b[39m all_out[\u001b[39m0\u001b[39m][\u001b[39m\"\u001b[39m\u001b[39mtest_scores\u001b[39m\u001b[39m\"\u001b[39m]\n",
      "File \u001b[0;32m/opt/homebrew/Caskroom/miniforge/base/envs/tensorflow/lib/python3.9/site-packages/sklearn/model_selection/_search.py:1392\u001b[0m, in \u001b[0;36mGridSearchCV._run_search\u001b[0;34m(self, evaluate_candidates)\u001b[0m\n\u001b[1;32m   1390\u001b[0m \u001b[39mdef\u001b[39;00m \u001b[39m_run_search\u001b[39m(\u001b[39mself\u001b[39m, evaluate_candidates):\n\u001b[1;32m   1391\u001b[0m     \u001b[39m\"\"\"Search all candidates in param_grid\"\"\"\u001b[39;00m\n\u001b[0;32m-> 1392\u001b[0m     evaluate_candidates(ParameterGrid(\u001b[39mself\u001b[39;49m\u001b[39m.\u001b[39;49mparam_grid))\n",
      "File \u001b[0;32m/opt/homebrew/Caskroom/miniforge/base/envs/tensorflow/lib/python3.9/site-packages/sklearn/model_selection/_search.py:838\u001b[0m, in \u001b[0;36mBaseSearchCV.fit.<locals>.evaluate_candidates\u001b[0;34m(candidate_params, cv, more_results)\u001b[0m\n\u001b[1;32m    830\u001b[0m \u001b[39mif\u001b[39;00m \u001b[39mself\u001b[39m\u001b[39m.\u001b[39mverbose \u001b[39m>\u001b[39m \u001b[39m0\u001b[39m:\n\u001b[1;32m    831\u001b[0m     \u001b[39mprint\u001b[39m(\n\u001b[1;32m    832\u001b[0m         \u001b[39m\"\u001b[39m\u001b[39mFitting \u001b[39m\u001b[39m{0}\u001b[39;00m\u001b[39m folds for each of \u001b[39m\u001b[39m{1}\u001b[39;00m\u001b[39m candidates,\u001b[39m\u001b[39m\"\u001b[39m\n\u001b[1;32m    833\u001b[0m         \u001b[39m\"\u001b[39m\u001b[39m totalling \u001b[39m\u001b[39m{2}\u001b[39;00m\u001b[39m fits\u001b[39m\u001b[39m\"\u001b[39m\u001b[39m.\u001b[39mformat(\n\u001b[1;32m    834\u001b[0m             n_splits, n_candidates, n_candidates \u001b[39m*\u001b[39m n_splits\n\u001b[1;32m    835\u001b[0m         )\n\u001b[1;32m    836\u001b[0m     )\n\u001b[0;32m--> 838\u001b[0m out \u001b[39m=\u001b[39m parallel(\n\u001b[1;32m    839\u001b[0m     delayed(_fit_and_score)(\n\u001b[1;32m    840\u001b[0m         clone(base_estimator),\n\u001b[1;32m    841\u001b[0m         X,\n\u001b[1;32m    842\u001b[0m         y,\n\u001b[1;32m    843\u001b[0m         train\u001b[39m=\u001b[39;49mtrain,\n\u001b[1;32m    844\u001b[0m         test\u001b[39m=\u001b[39;49mtest,\n\u001b[1;32m    845\u001b[0m         parameters\u001b[39m=\u001b[39;49mparameters,\n\u001b[1;32m    846\u001b[0m         split_progress\u001b[39m=\u001b[39;49m(split_idx, n_splits),\n\u001b[1;32m    847\u001b[0m         candidate_progress\u001b[39m=\u001b[39;49m(cand_idx, n_candidates),\n\u001b[1;32m    848\u001b[0m         \u001b[39m*\u001b[39;49m\u001b[39m*\u001b[39;49mfit_and_score_kwargs,\n\u001b[1;32m    849\u001b[0m     )\n\u001b[1;32m    850\u001b[0m     \u001b[39mfor\u001b[39;49;00m (cand_idx, parameters), (split_idx, (train, test)) \u001b[39min\u001b[39;49;00m product(\n\u001b[1;32m    851\u001b[0m         \u001b[39menumerate\u001b[39;49m(candidate_params), \u001b[39menumerate\u001b[39;49m(cv\u001b[39m.\u001b[39;49msplit(X, y, groups))\n\u001b[1;32m    852\u001b[0m     )\n\u001b[1;32m    853\u001b[0m )\n\u001b[1;32m    855\u001b[0m \u001b[39mif\u001b[39;00m \u001b[39mlen\u001b[39m(out) \u001b[39m<\u001b[39m \u001b[39m1\u001b[39m:\n\u001b[1;32m    856\u001b[0m     \u001b[39mraise\u001b[39;00m \u001b[39mValueError\u001b[39;00m(\n\u001b[1;32m    857\u001b[0m         \u001b[39m\"\u001b[39m\u001b[39mNo fits were performed. \u001b[39m\u001b[39m\"\u001b[39m\n\u001b[1;32m    858\u001b[0m         \u001b[39m\"\u001b[39m\u001b[39mWas the CV iterator empty? \u001b[39m\u001b[39m\"\u001b[39m\n\u001b[1;32m    859\u001b[0m         \u001b[39m\"\u001b[39m\u001b[39mWere there no candidates?\u001b[39m\u001b[39m\"\u001b[39m\n\u001b[1;32m    860\u001b[0m     )\n",
      "File \u001b[0;32m/opt/homebrew/Caskroom/miniforge/base/envs/tensorflow/lib/python3.9/site-packages/joblib/parallel.py:1043\u001b[0m, in \u001b[0;36mParallel.__call__\u001b[0;34m(self, iterable)\u001b[0m\n\u001b[1;32m   1034\u001b[0m \u001b[39mtry\u001b[39;00m:\n\u001b[1;32m   1035\u001b[0m     \u001b[39m# Only set self._iterating to True if at least a batch\u001b[39;00m\n\u001b[1;32m   1036\u001b[0m     \u001b[39m# was dispatched. In particular this covers the edge\u001b[39;00m\n\u001b[0;32m   (...)\u001b[0m\n\u001b[1;32m   1040\u001b[0m     \u001b[39m# was very quick and its callback already dispatched all the\u001b[39;00m\n\u001b[1;32m   1041\u001b[0m     \u001b[39m# remaining jobs.\u001b[39;00m\n\u001b[1;32m   1042\u001b[0m     \u001b[39mself\u001b[39m\u001b[39m.\u001b[39m_iterating \u001b[39m=\u001b[39m \u001b[39mFalse\u001b[39;00m\n\u001b[0;32m-> 1043\u001b[0m     \u001b[39mif\u001b[39;00m \u001b[39mself\u001b[39;49m\u001b[39m.\u001b[39;49mdispatch_one_batch(iterator):\n\u001b[1;32m   1044\u001b[0m         \u001b[39mself\u001b[39m\u001b[39m.\u001b[39m_iterating \u001b[39m=\u001b[39m \u001b[39mself\u001b[39m\u001b[39m.\u001b[39m_original_iterator \u001b[39mis\u001b[39;00m \u001b[39mnot\u001b[39;00m \u001b[39mNone\u001b[39;00m\n\u001b[1;32m   1046\u001b[0m     \u001b[39mwhile\u001b[39;00m \u001b[39mself\u001b[39m\u001b[39m.\u001b[39mdispatch_one_batch(iterator):\n",
      "File \u001b[0;32m/opt/homebrew/Caskroom/miniforge/base/envs/tensorflow/lib/python3.9/site-packages/joblib/parallel.py:861\u001b[0m, in \u001b[0;36mParallel.dispatch_one_batch\u001b[0;34m(self, iterator)\u001b[0m\n\u001b[1;32m    859\u001b[0m     \u001b[39mreturn\u001b[39;00m \u001b[39mFalse\u001b[39;00m\n\u001b[1;32m    860\u001b[0m \u001b[39melse\u001b[39;00m:\n\u001b[0;32m--> 861\u001b[0m     \u001b[39mself\u001b[39;49m\u001b[39m.\u001b[39;49m_dispatch(tasks)\n\u001b[1;32m    862\u001b[0m     \u001b[39mreturn\u001b[39;00m \u001b[39mTrue\u001b[39;00m\n",
      "File \u001b[0;32m/opt/homebrew/Caskroom/miniforge/base/envs/tensorflow/lib/python3.9/site-packages/joblib/parallel.py:779\u001b[0m, in \u001b[0;36mParallel._dispatch\u001b[0;34m(self, batch)\u001b[0m\n\u001b[1;32m    777\u001b[0m \u001b[39mwith\u001b[39;00m \u001b[39mself\u001b[39m\u001b[39m.\u001b[39m_lock:\n\u001b[1;32m    778\u001b[0m     job_idx \u001b[39m=\u001b[39m \u001b[39mlen\u001b[39m(\u001b[39mself\u001b[39m\u001b[39m.\u001b[39m_jobs)\n\u001b[0;32m--> 779\u001b[0m     job \u001b[39m=\u001b[39m \u001b[39mself\u001b[39;49m\u001b[39m.\u001b[39;49m_backend\u001b[39m.\u001b[39;49mapply_async(batch, callback\u001b[39m=\u001b[39;49mcb)\n\u001b[1;32m    780\u001b[0m     \u001b[39m# A job can complete so quickly than its callback is\u001b[39;00m\n\u001b[1;32m    781\u001b[0m     \u001b[39m# called before we get here, causing self._jobs to\u001b[39;00m\n\u001b[1;32m    782\u001b[0m     \u001b[39m# grow. To ensure correct results ordering, .insert is\u001b[39;00m\n\u001b[1;32m    783\u001b[0m     \u001b[39m# used (rather than .append) in the following line\u001b[39;00m\n\u001b[1;32m    784\u001b[0m     \u001b[39mself\u001b[39m\u001b[39m.\u001b[39m_jobs\u001b[39m.\u001b[39minsert(job_idx, job)\n",
      "File \u001b[0;32m/opt/homebrew/Caskroom/miniforge/base/envs/tensorflow/lib/python3.9/site-packages/joblib/_parallel_backends.py:208\u001b[0m, in \u001b[0;36mSequentialBackend.apply_async\u001b[0;34m(self, func, callback)\u001b[0m\n\u001b[1;32m    206\u001b[0m \u001b[39mdef\u001b[39;00m \u001b[39mapply_async\u001b[39m(\u001b[39mself\u001b[39m, func, callback\u001b[39m=\u001b[39m\u001b[39mNone\u001b[39;00m):\n\u001b[1;32m    207\u001b[0m     \u001b[39m\"\"\"Schedule a func to be run\"\"\"\u001b[39;00m\n\u001b[0;32m--> 208\u001b[0m     result \u001b[39m=\u001b[39m ImmediateResult(func)\n\u001b[1;32m    209\u001b[0m     \u001b[39mif\u001b[39;00m callback:\n\u001b[1;32m    210\u001b[0m         callback(result)\n",
      "File \u001b[0;32m/opt/homebrew/Caskroom/miniforge/base/envs/tensorflow/lib/python3.9/site-packages/joblib/_parallel_backends.py:572\u001b[0m, in \u001b[0;36mImmediateResult.__init__\u001b[0;34m(self, batch)\u001b[0m\n\u001b[1;32m    569\u001b[0m \u001b[39mdef\u001b[39;00m \u001b[39m__init__\u001b[39m(\u001b[39mself\u001b[39m, batch):\n\u001b[1;32m    570\u001b[0m     \u001b[39m# Don't delay the application, to avoid keeping the input\u001b[39;00m\n\u001b[1;32m    571\u001b[0m     \u001b[39m# arguments in memory\u001b[39;00m\n\u001b[0;32m--> 572\u001b[0m     \u001b[39mself\u001b[39m\u001b[39m.\u001b[39mresults \u001b[39m=\u001b[39m batch()\n",
      "File \u001b[0;32m/opt/homebrew/Caskroom/miniforge/base/envs/tensorflow/lib/python3.9/site-packages/joblib/parallel.py:262\u001b[0m, in \u001b[0;36mBatchedCalls.__call__\u001b[0;34m(self)\u001b[0m\n\u001b[1;32m    258\u001b[0m \u001b[39mdef\u001b[39;00m \u001b[39m__call__\u001b[39m(\u001b[39mself\u001b[39m):\n\u001b[1;32m    259\u001b[0m     \u001b[39m# Set the default nested backend to self._backend but do not set the\u001b[39;00m\n\u001b[1;32m    260\u001b[0m     \u001b[39m# change the default number of processes to -1\u001b[39;00m\n\u001b[1;32m    261\u001b[0m     \u001b[39mwith\u001b[39;00m parallel_backend(\u001b[39mself\u001b[39m\u001b[39m.\u001b[39m_backend, n_jobs\u001b[39m=\u001b[39m\u001b[39mself\u001b[39m\u001b[39m.\u001b[39m_n_jobs):\n\u001b[0;32m--> 262\u001b[0m         \u001b[39mreturn\u001b[39;00m [func(\u001b[39m*\u001b[39margs, \u001b[39m*\u001b[39m\u001b[39m*\u001b[39mkwargs)\n\u001b[1;32m    263\u001b[0m                 \u001b[39mfor\u001b[39;00m func, args, kwargs \u001b[39min\u001b[39;00m \u001b[39mself\u001b[39m\u001b[39m.\u001b[39mitems]\n",
      "File \u001b[0;32m/opt/homebrew/Caskroom/miniforge/base/envs/tensorflow/lib/python3.9/site-packages/joblib/parallel.py:262\u001b[0m, in \u001b[0;36m<listcomp>\u001b[0;34m(.0)\u001b[0m\n\u001b[1;32m    258\u001b[0m \u001b[39mdef\u001b[39;00m \u001b[39m__call__\u001b[39m(\u001b[39mself\u001b[39m):\n\u001b[1;32m    259\u001b[0m     \u001b[39m# Set the default nested backend to self._backend but do not set the\u001b[39;00m\n\u001b[1;32m    260\u001b[0m     \u001b[39m# change the default number of processes to -1\u001b[39;00m\n\u001b[1;32m    261\u001b[0m     \u001b[39mwith\u001b[39;00m parallel_backend(\u001b[39mself\u001b[39m\u001b[39m.\u001b[39m_backend, n_jobs\u001b[39m=\u001b[39m\u001b[39mself\u001b[39m\u001b[39m.\u001b[39m_n_jobs):\n\u001b[0;32m--> 262\u001b[0m         \u001b[39mreturn\u001b[39;00m [func(\u001b[39m*\u001b[39;49margs, \u001b[39m*\u001b[39;49m\u001b[39m*\u001b[39;49mkwargs)\n\u001b[1;32m    263\u001b[0m                 \u001b[39mfor\u001b[39;00m func, args, kwargs \u001b[39min\u001b[39;00m \u001b[39mself\u001b[39m\u001b[39m.\u001b[39mitems]\n",
      "File \u001b[0;32m/opt/homebrew/Caskroom/miniforge/base/envs/tensorflow/lib/python3.9/site-packages/sklearn/utils/fixes.py:216\u001b[0m, in \u001b[0;36m_FuncWrapper.__call__\u001b[0;34m(self, *args, **kwargs)\u001b[0m\n\u001b[1;32m    214\u001b[0m \u001b[39mdef\u001b[39;00m \u001b[39m__call__\u001b[39m(\u001b[39mself\u001b[39m, \u001b[39m*\u001b[39margs, \u001b[39m*\u001b[39m\u001b[39m*\u001b[39mkwargs):\n\u001b[1;32m    215\u001b[0m     \u001b[39mwith\u001b[39;00m config_context(\u001b[39m*\u001b[39m\u001b[39m*\u001b[39m\u001b[39mself\u001b[39m\u001b[39m.\u001b[39mconfig):\n\u001b[0;32m--> 216\u001b[0m         \u001b[39mreturn\u001b[39;00m \u001b[39mself\u001b[39;49m\u001b[39m.\u001b[39;49mfunction(\u001b[39m*\u001b[39;49margs, \u001b[39m*\u001b[39;49m\u001b[39m*\u001b[39;49mkwargs)\n",
      "File \u001b[0;32m/opt/homebrew/Caskroom/miniforge/base/envs/tensorflow/lib/python3.9/site-packages/sklearn/model_selection/_validation.py:668\u001b[0m, in \u001b[0;36m_fit_and_score\u001b[0;34m(estimator, X, y, scorer, train, test, verbose, parameters, fit_params, return_train_score, return_parameters, return_n_test_samples, return_times, return_estimator, split_progress, candidate_progress, error_score)\u001b[0m\n\u001b[1;32m    665\u001b[0m     \u001b[39mfor\u001b[39;00m k, v \u001b[39min\u001b[39;00m parameters\u001b[39m.\u001b[39mitems():\n\u001b[1;32m    666\u001b[0m         cloned_parameters[k] \u001b[39m=\u001b[39m clone(v, safe\u001b[39m=\u001b[39m\u001b[39mFalse\u001b[39;00m)\n\u001b[0;32m--> 668\u001b[0m     estimator \u001b[39m=\u001b[39m estimator\u001b[39m.\u001b[39;49mset_params(\u001b[39m*\u001b[39;49m\u001b[39m*\u001b[39;49mcloned_parameters)\n\u001b[1;32m    670\u001b[0m start_time \u001b[39m=\u001b[39m time\u001b[39m.\u001b[39mtime()\n\u001b[1;32m    672\u001b[0m X_train, y_train \u001b[39m=\u001b[39m _safe_split(estimator, X, y, train)\n",
      "File \u001b[0;32m/opt/homebrew/Caskroom/miniforge/base/envs/tensorflow/lib/python3.9/site-packages/sklearn/pipeline.py:188\u001b[0m, in \u001b[0;36mPipeline.set_params\u001b[0;34m(self, **kwargs)\u001b[0m\n\u001b[1;32m    169\u001b[0m \u001b[39mdef\u001b[39;00m \u001b[39mset_params\u001b[39m(\u001b[39mself\u001b[39m, \u001b[39m*\u001b[39m\u001b[39m*\u001b[39mkwargs):\n\u001b[1;32m    170\u001b[0m     \u001b[39m\"\"\"Set the parameters of this estimator.\u001b[39;00m\n\u001b[1;32m    171\u001b[0m \n\u001b[1;32m    172\u001b[0m \u001b[39m    Valid parameter keys can be listed with ``get_params()``. Note that\u001b[39;00m\n\u001b[0;32m   (...)\u001b[0m\n\u001b[1;32m    186\u001b[0m \u001b[39m        Pipeline class instance.\u001b[39;00m\n\u001b[1;32m    187\u001b[0m \u001b[39m    \"\"\"\u001b[39;00m\n\u001b[0;32m--> 188\u001b[0m     \u001b[39mself\u001b[39;49m\u001b[39m.\u001b[39;49m_set_params(\u001b[39m\"\u001b[39;49m\u001b[39msteps\u001b[39;49m\u001b[39m\"\u001b[39;49m, \u001b[39m*\u001b[39;49m\u001b[39m*\u001b[39;49mkwargs)\n\u001b[1;32m    189\u001b[0m     \u001b[39mreturn\u001b[39;00m \u001b[39mself\u001b[39m\n",
      "File \u001b[0;32m/opt/homebrew/Caskroom/miniforge/base/envs/tensorflow/lib/python3.9/site-packages/sklearn/utils/metaestimators.py:54\u001b[0m, in \u001b[0;36m_BaseComposition._set_params\u001b[0;34m(self, attr, **params)\u001b[0m\n\u001b[1;32m     52\u001b[0m         \u001b[39mself\u001b[39m\u001b[39m.\u001b[39m_replace_estimator(attr, name, params\u001b[39m.\u001b[39mpop(name))\n\u001b[1;32m     53\u001b[0m \u001b[39m# 3. Step parameters and other initialisation arguments\u001b[39;00m\n\u001b[0;32m---> 54\u001b[0m \u001b[39msuper\u001b[39;49m()\u001b[39m.\u001b[39;49mset_params(\u001b[39m*\u001b[39;49m\u001b[39m*\u001b[39;49mparams)\n\u001b[1;32m     55\u001b[0m \u001b[39mreturn\u001b[39;00m \u001b[39mself\u001b[39m\n",
      "File \u001b[0;32m/opt/homebrew/Caskroom/miniforge/base/envs/tensorflow/lib/python3.9/site-packages/sklearn/base.py:258\u001b[0m, in \u001b[0;36mBaseEstimator.set_params\u001b[0;34m(self, **params)\u001b[0m\n\u001b[1;32m    255\u001b[0m         valid_params[key] \u001b[39m=\u001b[39m value\n\u001b[1;32m    257\u001b[0m \u001b[39mfor\u001b[39;00m key, sub_params \u001b[39min\u001b[39;00m nested_params\u001b[39m.\u001b[39mitems():\n\u001b[0;32m--> 258\u001b[0m     valid_params[key]\u001b[39m.\u001b[39;49mset_params(\u001b[39m*\u001b[39m\u001b[39m*\u001b[39msub_params)\n\u001b[1;32m    260\u001b[0m \u001b[39mreturn\u001b[39;00m \u001b[39mself\u001b[39m\n",
      "\u001b[0;31mAttributeError\u001b[0m: 'NoneType' object has no attribute 'set_params'"
     ]
    }
   ],
   "source": [
    "# test_lr.run(x_train, y_train)"
   ]
  },
  {
   "cell_type": "code",
   "execution_count": 45,
   "metadata": {},
   "outputs": [
    {
     "name": "stdout",
     "output_type": "stream",
     "text": [
      "Scores:\n",
      " -- Training set score: 1.0\n",
      " -- Test set score: 0.9574468085106383\n"
     ]
    }
   ],
   "source": [
    "# LR C values\n",
    "c_vals = [0.01, 0.1, 1, 10, 100]\n",
    "params = {'model__C': c_vals}\n",
    "model = LogisticRegression(C=1)\n",
    "\n",
    "pipe = Pipeline([('vectorizer', cvec), ('model', model)])\n",
    "grid = GridSearchCV(pipe, param_grid = params, cv=5, scoring='accuracy',return_train_score=True)\n",
    "grid.fit(x_train.values, y_train.values)\n",
    "\n",
    "print('Scores:')\n",
    "print(f' -- Training set score: {str(grid.score(x_train.values, y_train.values))}')\n",
    "print(f' -- Test set score: {str(grid.score(x_test.values, y_test.values))}')"
   ]
  },
  {
   "cell_type": "code",
   "execution_count": 46,
   "metadata": {},
   "outputs": [
    {
     "name": "stdout",
     "output_type": "stream",
     "text": [
      "The best mean cv score is 0.9234965034965035\n",
      "{'model__C': 1}\n",
      "Pipeline(steps=[('vectorizer',\n",
      "                 CountVectorizer(min_df=4,\n",
      "                                 stop_words=frozenset({'a', 'ability', 'about',\n",
      "                                                       'above', 'across',\n",
      "                                                       'after', 'afterwards',\n",
      "                                                       'again', 'against', 'ai',\n",
      "                                                       'aie', 'aient', 'aies',\n",
      "                                                       'ait', 'all', 'almost',\n",
      "                                                       'alone', 'along',\n",
      "                                                       'already', 'also',\n",
      "                                                       'although', 'always',\n",
      "                                                       'am', 'among', 'amongst',\n",
      "                                                       'amoungst', 'amount',\n",
      "                                                       'an', 'and', 'another', ...}))),\n",
      "                ('model', LogisticRegression(C=1))])\n"
     ]
    }
   ],
   "source": [
    "best_score = grid.best_score_\n",
    "print(f'The best mean cv score is {best_score}')\n",
    "\n",
    "# Access the best set of parameters\n",
    "best_params = grid.best_params_\n",
    "print(best_params)\n",
    "\n",
    "# Stores the optimum model in best_pipe\n",
    "best_pipe = grid.best_estimator_\n",
    "print(best_pipe)"
   ]
  },
  {
   "cell_type": "code",
   "execution_count": 47,
   "metadata": {},
   "outputs": [],
   "source": [
    "result_df = pd.DataFrame.from_dict(grid.cv_results_, orient='columns')\n",
    "\n",
    "# take just cv scores and plot them\n",
    "\n",
    "score_cols = [col for col in result_df.columns if 'split' in col]\n",
    "test_score_df = result_df[score_cols].T\n",
    "test_score_df.rename(columns= result_df['param_model__C'])\n",
    "\n",
    "# get plot labels from tested param_\n",
    "col_label = [col for col in result_df.columns if 'param_' in col]\n",
    "col_label = str(col_label[0])\n",
    "plot_label = result_df[col_label].values.tolist()\n",
    "# plot_label"
   ]
  },
  {
   "cell_type": "code",
   "execution_count": 48,
   "metadata": {},
   "outputs": [
    {
     "data": {
      "image/png": "[encoded data removed]",
      "text/plain": [
       "<Figure size 432x288 with 1 Axes>"
      ]
     },
     "metadata": {
      "needs_background": "light"
     },
     "output_type": "display_data"
    }
   ],
   "source": [
    "fig, ax = plt.subplots()\n",
    "fig.suptitle(\"Comparison of C Values\")\n",
    "test_score_df.boxplot()\n",
    "plt.ylabel(\"test_score\")\n",
    "ax.set_xticklabels(plot_label)\n",
    "plt.xlabel(\"C Value\")\n",
    "plt.show()"
   ]
  },
  {
   "cell_type": "markdown",
   "metadata": {},
   "source": [
    "Curiously, the best model remains to be the Count Vectorizer and Logistic Regression model with a C value of 1 (the default value)."
   ]
  },
  {
   "cell_type": "markdown",
   "metadata": {},
   "source": [
    "### Additional Model Improvements\n",
    "\n",
    "Ensemble methods"
   ]
  },
  {
   "cell_type": "code",
   "execution_count": 49,
   "metadata": {},
   "outputs": [],
   "source": [
    "vecs = [cvec]\n",
    "models = [RandomForestClassifier(),\n",
    "            GradientBoostingClassifier(), \n",
    "            xgb.XGBClassifier()\n",
    "            ]\n",
    "params = {'model': models}\n",
    "scoring = 'accuracy'\n",
    "test_ensembles = EvaluateModels(vecs, models, params, scoring)"
   ]
  },
  {
   "cell_type": "code",
   "execution_count": 51,
   "metadata": {},
   "outputs": [
    {
     "ename": "TypeError",
     "evalue": "make_pipeline() missing 2 required positional arguments: 'vec' and 'model'",
     "output_type": "error",
     "traceback": [
      "\u001b[0;31m---------------------------------------------------------------------------\u001b[0m",
      "\u001b[0;31mTypeError\u001b[0m                                 Traceback (most recent call last)",
      "\u001b[1;32m/Users/jennifer/nlp-jobmarket/3 main_modeling.ipynb Cell 44\u001b[0m in \u001b[0;36m<module>\u001b[0;34m\u001b[0m\n\u001b[0;32m----> <a href='vscode-notebook-cell:/Users/jennifer/nlp-jobmarket/3%20main_modeling.ipynb#X63sZmlsZQ%3D%3D?line=0'>1</a>\u001b[0m test_ensembles\u001b[39m.\u001b[39;49mrun_cv(x_train, y_train)\n",
      "File \u001b[0;32m~/nlp-jobmarket/EvaluateModels.py:85\u001b[0m, in \u001b[0;36mrun_cv\u001b[0;34m(self, x_train, y_train)\u001b[0m\n\u001b[1;32m     83\u001b[0m then prints table with cv results'''\n\u001b[1;32m     84\u001b[0m \n\u001b[0;32m---> 85\u001b[0m for (name, model) in self.models:\n\u001b[1;32m     86\u001b[0m \n\u001b[1;32m     87\u001b[0m pipe = self.make_pipeline()\n",
      "\u001b[0;31mTypeError\u001b[0m: make_pipeline() missing 2 required positional arguments: 'vec' and 'model'"
     ]
    }
   ],
   "source": [
    "test_ensembles.run_cv(x_train, y_train)"
   ]
  },
  {
   "cell_type": "markdown",
   "metadata": {},
   "source": [
    "### Learning Curve"
   ]
  },
  {
   "cell_type": "code",
   "execution_count": null,
   "metadata": {},
   "outputs": [],
   "source": [
    "def plot_learning_curve(estimator, X, y, cv=None, scoring=None, figsize=None):\n",
    "    \"\"\"Plot the learning curve\"\"\"\n",
    "\n",
    "    train_sizes, train_scores, test_scores, fit_times, score_times = learning_curve(estimator, X, y, return_times=True)\n",
    "    \n",
    "    train_scores_mean = np.mean(train_scores, axis=1)\n",
    "    train_scores_std = np.std(train_scores, axis=1)\n",
    "    test_scores_mean = np.mean(test_scores, axis=1)\n",
    "    test_scores_std = np.std(test_scores, axis=1)\n",
    "\n",
    "    # plot learning curve\n",
    "    fig, ax = plt.subplots(figsize=figsize)\n",
    "    ax.grid()\n",
    "    ax.plot(train_sizes, train_scores_mean, \"o-\", color=\"r\", label=\"Training score\")\n",
    "    ax.fill_between(train_sizes, train_scores_mean - train_scores_std, train_scores_mean + train_scores_std, alpha = 0.1, color = 'r')\n",
    "    ax.plot(train_sizes, test_scores_mean, \"o-\", color=\"g\", label=\"Test Score\")\n",
    "    ax.fill_between(train_sizes, test_scores_mean - test_scores_std, test_scores_mean + test_scores_std, alpha = 0.1, color = 'g')\n",
    "    \n",
    "    ax.set_xlabel(\"Train size\")\n",
    "    ax.set_ylabel(\"scoring\")\n",
    "\n",
    "    plt.legend(loc=\"best\")\n",
    "    plt.title(\"Learning Curve\")\n",
    "    plt.show()"
   ]
  },
  {
   "cell_type": "code",
   "execution_count": null,
   "metadata": {},
   "outputs": [],
   "source": [
    "# from custom_utils import plot_learning_curve\n",
    "plot_learning_curve(model, x_train_tfidf, y_train, scoring=\"accuracy\", figsize=(6,4))"
   ]
  },
  {
   "cell_type": "code",
   "execution_count": null,
   "metadata": {},
   "outputs": [],
   "source": [
    "plot_learning_curve(model, x_test_tfidf, y_test, scoring='accuracy', figsize=(6,4))"
   ]
  },
  {
   "cell_type": "markdown",
   "metadata": {},
   "source": [
    "The learning curve for the Random Forest Classifier indicates that the model is scoring very high with the training data with little error whiel the test data accuracy is improving with increasing data size but a gap remains between the two curves (indicates high variance). Increasing the data set size would help with this."
   ]
  },
  {
   "cell_type": "code",
   "execution_count": null,
   "metadata": {},
   "outputs": [],
   "source": [
    "# store feature importances if model has it\n",
    "if hasattr(model, \"feature_importances_\"):\n",
    "    importances = model.feature_importances_\n",
    "    print(\"Model has feature importance attribute\")\n",
    "else:\n",
    "    print(\"Model doesn't have feature importance attribute\")"
   ]
  },
  {
   "cell_type": "markdown",
   "metadata": {},
   "source": [
    "### Further Inspection of tree-based model"
   ]
  },
  {
   "cell_type": "markdown",
   "metadata": {},
   "source": [
    "To better understand how our classifier is making predictions, we will look at the important features and permutation importance."
   ]
  },
  {
   "cell_type": "code",
   "execution_count": null,
   "metadata": {},
   "outputs": [],
   "source": [
    "features = tvec.get_feature_names_out()\n",
    "indices = np.argsort(importances)\n",
    "feat_importances = pd.Series(importances, index = features)"
   ]
  },
  {
   "cell_type": "code",
   "execution_count": null,
   "metadata": {},
   "outputs": [],
   "source": [
    "feat_importances.nlargest(10).plot(kind='barh')\n",
    "plt.gca().invert_yaxis()"
   ]
  },
  {
   "cell_type": "code",
   "execution_count": null,
   "metadata": {},
   "outputs": [],
   "source": [
    "def save_features(model, feat_importances):\n",
    "    with open(\"model_feat_importances.txt\", 'w') as file:\n",
    "        file.write(str(model))\n",
    "    feat_importances.to_csv('feature_importance.csv')\n",
    "\n",
    "save_features(model, feat_importances)"
   ]
  },
  {
   "cell_type": "markdown",
   "metadata": {},
   "source": [
    "#### Permutation Importance\n",
    "\n",
    "Permutation importance measures that importance of a feature by calculating the increase in the model's prediction error after permuting (or alter / rearrange) the feature. Therefore, a feature is considered important if the model relies on the feature for the prediction.\n",
    "\n",
    "\n",
    "Reference:\n",
    "Molnar, C. (2022). Interpretable Machine Learning:\n",
    "A Guide for Making Black Box Models Explainable (2nd ed.).\n",
    "christophm.github.io/interpretable-ml-book/"
   ]
  },
  {
   "cell_type": "code",
   "execution_count": null,
   "metadata": {},
   "outputs": [],
   "source": [
    "from sklearn.inspection import permutation_importance\n",
    "\n",
    "# permutation-based importance\n",
    "perm_importance = permutation_importance(model, x_test_tfidf.toarray(), y_test)\n",
    "sorted_idx = perm_importance.importances_mean.argsort()"
   ]
  },
  {
   "cell_type": "code",
   "execution_count": null,
   "metadata": {},
   "outputs": [],
   "source": [
    "perm_df = pd.DataFrame(\n",
    "    perm_importance.importances[sorted_idx].T,\n",
    "    columns=features[sorted_idx]\n",
    ")"
   ]
  },
  {
   "cell_type": "code",
   "execution_count": null,
   "metadata": {},
   "outputs": [],
   "source": [
    "def save_permuation_importance(permuation_importance):\n",
    "    perm_df.to_csv(\"permutation_importance.csv\")\n",
    "\n",
    "save_permuation_importance(perm_importance)"
   ]
  },
  {
   "cell_type": "code",
   "execution_count": null,
   "metadata": {},
   "outputs": [],
   "source": [
    "fig = plt.figure(figsize = (5,8))\n",
    "plt.boxplot(\n",
    "    perm_importance.importances[sorted_idx][-10:].T,\n",
    "    vert=False, \n",
    "    labels=features[sorted_idx][-10:]\n",
    ")\n",
    "fig.tight_layout()\n",
    "plt.show()"
   ]
  },
  {
   "cell_type": "markdown",
   "metadata": {},
   "source": [
    "The Random Forest Classifier and the Gradient Boosting Classifier have accuracy scores that are very similar. Consider tuning both to see which one can ultimately do better."
   ]
  }
 ],
 "metadata": {
  "kernelspec": {
   "display_name": "Python 3.9.10 ('tensorflow')",
   "language": "python",
   "name": "python3"
  },
  "language_info": {
   "codemirror_mode": {
    "name": "ipython",
    "version": 3
   },
   "file_extension": ".py",
   "mimetype": "text/x-python",
   "name": "python",
   "nbconvert_exporter": "python",
   "pygments_lexer": "ipython3",
   "version": "3.9.10"
  },
  "orig_nbformat": 4,
  "vscode": {
   "interpreter": {
    "hash": "4bd624a0593993fe43ac4046b27b898fb2ef75c21c08f81e89e64ea0f51df676"
   }
  }
 },
 "nbformat": 4,
 "nbformat_minor": 2
}
