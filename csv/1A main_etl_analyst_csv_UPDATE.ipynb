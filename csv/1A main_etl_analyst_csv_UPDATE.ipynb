{
 "cells": [
  {
   "cell_type": "markdown",
   "metadata": {},
   "source": [
    "<h1>Job Market Trends</h1>\n",
    "<h2>Extract, Transform, and Load Data</h2>\n",
    "\n",
    "Data Analyst vs Data Scientist job"
   ]
  },
  {
   "cell_type": "code",
   "execution_count": 2,
   "metadata": {},
   "outputs": [],
   "source": [
    "import os\n",
    "import codecs\n",
    "from bs4 import BeautifulSoup\n",
    "import csv"
   ]
  },
  {
   "cell_type": "markdown",
   "metadata": {},
   "source": [
    "<h2>Part 1: Access data files within a Directory</h2>\n",
    "\n",
    "The job postings are stored as files within a directory, so we will create a function to iterate through files in a directory to be able to open each one."
   ]
  },
  {
   "cell_type": "code",
   "execution_count": 3,
   "metadata": {},
   "outputs": [
    {
     "name": "stdout",
     "output_type": "stream",
     "text": [
      "/Users/jennifer/nlp-jobmarket\n"
     ]
    }
   ],
   "source": [
    "# first check that we are in the correct directory\n",
    "print(os.getcwd())"
   ]
  },
  {
   "cell_type": "code",
   "execution_count": 4,
   "metadata": {},
   "outputs": [
    {
     "name": "stdout",
     "output_type": "stream",
     "text": [
      "\u001b[31m1A main_etl_analyst_csv.ipynb\u001b[m\u001b[m\r\n",
      "1A main_etl_analyst_csv_UPDATE.ipynb\r\n",
      "\u001b[31m1B main_etl_analyst_sql.ipynb\u001b[m\u001b[m\r\n",
      "1B main_etl_analyst_sql_UPDATE.ipynb\r\n",
      "\u001b[31m1B main_etl_scientist_sql.ipynb\u001b[m\u001b[m\r\n",
      "\u001b[30m\u001b[43m24 Jun popup window\u001b[m\u001b[m\r\n",
      "\u001b[31m2A main_csv_jobdesc_nlp_preproc.ipynb\u001b[m\u001b[m\r\n",
      "2B Stemming code that didn't work.ipynb\r\n",
      "2B main_sql_jobdesc_nlp_preproc.html\r\n",
      "\u001b[31m2B main_sql_jobdesc_nlp_preproc.ipynb\u001b[m\u001b[m\r\n",
      "2B main_sql_jobdesc_nlp_topicmodeling.ipynb\r\n",
      "3B main_sql_nlp_tfidf_modelling.ipynb\r\n",
      "\u001b[1m\u001b[36mData Analyst\u001b[m\u001b[m\r\n",
      "\u001b[1m\u001b[36mData Scientist\u001b[m\u001b[m\r\n",
      "README.md\r\n",
      "joblist.sqlite\r\n",
      "main_etl_scientist_sql.py\r\n",
      "\u001b[31mmain_jobdesc_eda.ipynb\u001b[m\u001b[m\r\n",
      "results.csv\r\n",
      "\u001b[1m\u001b[36mtest_folder\u001b[m\u001b[m\r\n",
      "\u001b[30m\u001b[43mtest_folder2\u001b[m\u001b[m\r\n"
     ]
    }
   ],
   "source": [
    "# print a list of the files in the working directory\n",
    "!ls"
   ]
  },
  {
   "cell_type": "raw",
   "metadata": {
    "tags": [
     "outputPrepend"
    ]
   },
   "source": [
    "directory = \"Data Analyst Feb 16\"\n",
    "fileList = []\n",
    "\n",
    "# Iterate through each file in directory and make a list of each filename\n",
    "for file in os.listdir(directory):\n",
    "        if file.endswith(\".txt\"):\n",
    "            # add each filename to list\n",
    "            fileList.append(file)\n",
    "            print(fileList)"
   ]
  },
  {
   "cell_type": "raw",
   "metadata": {},
   "source": [
    "# Check that fileList was populated. Sort list.\n",
    "fileList_sorted = sorted(fileList)\n",
    "print(fileList_sorted)"
   ]
  },
  {
   "cell_type": "code",
   "execution_count": 5,
   "metadata": {},
   "outputs": [],
   "source": [
    "def get_raw_data(directory):\n",
    "    '''Open file containing html of job description and prepare soup object.'''\n",
    "    fileList = []\n",
    "    soupList = []\n",
    "    # Iterate through each file in directory\n",
    "    for file in os.listdir(directory):\n",
    "        if file.endswith(\".txt\"):\n",
    "            # add each filename to list\n",
    "            fileList.append(file)\n",
    "            print(fileList)\n",
    "            # open and load html\n",
    "            with codecs.open(directory + \"/\"+ file, 'r', \"utf-8\") as f:\n",
    "                job_html = f.read()\n",
    "                job_soup = BeautifulSoup(job_html, \"html.parser\")\n",
    "                soupList.append(job_soup)\n",
    "    return soupList"
   ]
  },
  {
   "cell_type": "raw",
   "metadata": {
    "tags": []
   },
   "source": [
    "soupList = get_raw_data(\"test_folder\")\n",
    "#print(soupList)"
   ]
  },
  {
   "cell_type": "code",
   "execution_count": 6,
   "metadata": {},
   "outputs": [],
   "source": [
    "# Check to make sure all items are in list\n",
    "#len(soupList)"
   ]
  },
  {
   "cell_type": "markdown",
   "metadata": {},
   "source": [
    "Great. We are able to open each of the .txt files that are in our directory of interest."
   ]
  },
  {
   "cell_type": "markdown",
   "metadata": {},
   "source": [
    "<h2>Part 2 : Opening and extracting information from files</h2>\n",
    "\n",
    "First, we will use two test files to test to make sure we can pull out the information we want. This is because some companies have ratings available and some do not. This changes the html code slightly and caused some problems. Below is the result from one of the two test files."
   ]
  },
  {
   "cell_type": "markdown",
   "metadata": {},
   "source": [
    "\"24 Jun popup window/Untitled 14-52-48.txt\"\n",
    "\n",
    "Untitled 14-42-55.txt - hourly rate\n",
    "\n",
    "Untitled 15-6-7.txt - no $\n",
    "\n",
    "Untitled 15-7-2.txt - no $\n",
    "\n",
    "Untitled 15-23-34.txt - uses h1 tag, company: try1 correct, try2 incorrect, no $\n",
    "\n",
    "Untitled 14-22-8.txt Canadian Tire\n",
    "\n",
    "Untitled 14-46-33.txt Antuit AI"
   ]
  },
  {
   "cell_type": "code",
   "execution_count": 16,
   "metadata": {
    "tags": []
   },
   "outputs": [],
   "source": [
    "with codecs.open(\"24 Jun popup window/Untitled 14-46-33.txt\", 'r', \"utf-8\") as f:\n",
    "    job_html = f.read()\n",
    "job_soup = BeautifulSoup(job_html, \"html.parser\")\n",
    "\n",
    "#print(job_soup)"
   ]
  },
  {
   "cell_type": "code",
   "execution_count": 17,
   "metadata": {},
   "outputs": [
    {
     "name": "stdout",
     "output_type": "stream",
     "text": [
      "Try 1:  Lead Data Scientist\n"
     ]
    }
   ],
   "source": [
    "# job_title\n",
    "try:\n",
    "    job_title = job_soup.find(\"div\", id=\"vjs-jobtitle\").text.strip()\n",
    "    print('Try 1: ', job_title)\n",
    "except:\n",
    "    pass\n",
    "\n",
    "try:\n",
    "    job_title = job_soup.find(\"h1\", id=\"vjs-jobtitle\").text.strip()\n",
    "    print('Try 2: ', job_title)\n",
    "except:\n",
    "    pass"
   ]
  },
  {
   "cell_type": "markdown",
   "metadata": {},
   "source": [
    "The above code was good for only some of the job listings (many of which seem to have a hyperlink).\n",
    "Try to find another way to extract company information from the job descriptions where NaN appeared."
   ]
  },
  {
   "cell_type": "code",
   "execution_count": 18,
   "metadata": {},
   "outputs": [
    {
     "name": "stdout",
     "output_type": "stream",
     "text": [
      "try 1:  Antuit.ai\n"
     ]
    }
   ],
   "source": [
    "# company\n",
    "try:\n",
    "    company = job_soup.find(\"span\", id=\"vjs-cn\").text.strip()\n",
    "    print('try 1: ', company)\n",
    "except:\n",
    "    pass"
   ]
  },
  {
   "cell_type": "raw",
   "metadata": {},
   "source": [
    "try:\n",
    "    company = job_soup.find(\"div\", id=None).next_element.text.strip()\n",
    "    print('try 2: ', company)\n",
    "except:\n",
    "    pass"
   ]
  },
  {
   "cell_type": "code",
   "execution_count": 19,
   "metadata": {},
   "outputs": [
    {
     "name": "stdout",
     "output_type": "stream",
     "text": [
      "Toronto, ON\n"
     ]
    }
   ],
   "source": [
    "job_location = job_soup.find(\"span\", id=\"vjs-loc\").text.strip().replace(\"- \", \"\")\n",
    "print(job_location)"
   ]
  },
  {
   "cell_type": "code",
   "execution_count": 20,
   "metadata": {
    "scrolled": true
   },
   "outputs": [
    {
     "name": "stdout",
     "output_type": "stream",
     "text": [
      "[<span>Full-time, Permanent</span>]\n"
     ]
    }
   ],
   "source": [
    "print(job_soup.find_all(\"span\", attrs = {\"id\": None, \"class\": None, \"aria-hidden\": None}))"
   ]
  },
  {
   "cell_type": "code",
   "execution_count": 21,
   "metadata": {},
   "outputs": [
    {
     "name": "stdout",
     "output_type": "stream",
     "text": [
      "Full-time, Permanent\n"
     ]
    }
   ],
   "source": [
    "# Salary - extract hourly rate\n",
    "\n",
    "try:\n",
    "    job_salary = job_soup.find(\"span\", attrs = {\"id\": None, \"class\": None, \"aria-hidden\": None}).text.strip()\n",
    "except AttributeError:\n",
    "    job_salary = \"NaN\"\n",
    "print(job_salary)"
   ]
  },
  {
   "cell_type": "markdown",
   "metadata": {},
   "source": [
    "For the salary, since there were no specific attributes associated with the tag, here we indicated what the attributes are not instead of what they are. This is why for some of the job postings, the salary doesn't appear and "
   ]
  },
  {
   "cell_type": "code",
   "execution_count": 22,
   "metadata": {
    "collapsed": true
   },
   "outputs": [
    {
     "name": "stdout",
     "output_type": "stream",
     "text": [
      "<div class=\"vjs-header-no-shadow\" id=\"vjs-header\">\n",
      " <div id=\"vjs-header-jobinfo\">\n",
      "  <div id=\"vjs-jobinfo\">\n",
      "   <div id=\"vjs-jobtitle\" tabindex=\"0\">\n",
      "    Lead Data Scientist\n",
      "   </div>\n",
      "   <div>\n",
      "    <span id=\"vjs-cn\">\n",
      "     Antuit.ai\n",
      "    </span>\n",
      "    <span id=\"vjs-loc\">\n",
      "     <span aria-hidden=\"true\">\n",
      "      -\n",
      "     </span>\n",
      "     Toronto, ON\n",
      "    </span>\n",
      "   </div>\n",
      "   <div>\n",
      "    <span>\n",
      "     Full-time, Permanent\n",
      "    </span>\n",
      "    <span aria-hidden=\"true\" class=\"remote-bullet\">\n",
      "     -\n",
      "    </span>\n",
      "    <span class=\"remote\">\n",
      "     Remote\n",
      "    </span>\n",
      "   </div>\n",
      "  </div>\n",
      " </div>\n",
      " <div id=\"vjs-x\">\n",
      "  <button aria-label=\"Close job details\" class=\"icl-CloseButton vjs-x-button-close\">\n",
      "   <svg class=\"icl-Icon icl-Icon--md icl-Icon--black close\" role=\"img\" viewbox=\"0 0 24 24\" xmlns=\"http://www.w3.org/2000/svg\">\n",
      "    <rect fill=\"#fff\" fill-opacity=\".5\" height=\"24\" rx=\"12\" width=\"24\">\n",
      "    </rect>\n",
      "    <path clip-rule=\"evenodd\" d=\"m15.536 7.8987c-0.1953-0.19526-0.5119-0.19526-0.7071 0l-2.8284 2.8284-2.8285-2.8284c-0.19526-0.19527-0.51185-0.19527-0.70711 0l-0.56568 0.56568c-0.19527 0.19526-0.19526 0.51185 0 0.70711l2.8285 2.8284-2.8285 2.8285c-0.19526 0.1952-0.19526 0.5118 0 0.7071l0.56568 0.5657c0.19527 0.1952 0.51185 0.1952 0.70711 0l2.8285-2.8285 2.8284 2.8284c0.1952 0.1953 0.5118 0.1953 0.7071 0l0.5657-0.5657c0.1952-0.1953 0.1952-0.5118 0-0.7071l-2.8284-2.8284 2.8283-2.8284c0.1953-0.19526 0.1953-0.51184 0-0.70711l-0.5656-0.56568z\" fill=\"#2D2D2D\" fill-rule=\"evenodd\">\n",
      "    </path>\n",
      "   </svg>\n",
      "  </button>\n",
      " </div>\n",
      " <div id=\"apply-button-container\">\n",
      "  <div class=\"job-footer-button-row\">\n",
      "   <span class=\"indeed-apply-widget indeed-apply-button-container js-IndeedApplyWidget indeed-apply-status-not-applied\" data-acc-payload=\"1,2,22,1,144,1,552,1,3648,1,4392,1\" data-indeed-apply-advnum=\"1748757551634304\" data-indeed-apply-apitoken=\"aa102235a5ccb18bd3668c0e14aa3ea7e2503cfac2a7a9bf3d6549899e125af4\" data-indeed-apply-coverletter=\"optional\" data-indeed-apply-dismisshandler=\"window.top.postMessage({ eventType: 'dismiss' }, '*')\" data-indeed-apply-inpageapplyhandler=\"window.top.postMessage({ eventType: 'inpageapply' }, '*')\" data-indeed-apply-jk=\"dcbc36b29b5e2bf7\" data-indeed-apply-jobcompanyname=\"Antuit.ai\" data-indeed-apply-jobid=\"ef0a348ff1655400f87c\" data-indeed-apply-joblocation=\"Toronto, ON\" data-indeed-apply-jobmeta='{\"vtk\":\"1f8vlgcjb3kle001\", \"tk\":\"1f8vl8fpa3h7u000\"}' data-indeed-apply-jobtitle=\"Lead Data Scientist\" data-indeed-apply-joburl=\"https://ca.indeed.com/viewjob?jk=dcbc36b29b5e2bf7\" data-indeed-apply-onapplied=\"indeedApplyHandleApply\" data-indeed-apply-onclick=\"indeedApplyHandleButtonClick\" data-indeed-apply-onclose=\"indeedApplyHandleModalClose\" data-indeed-apply-oncontinueclick=\"indeedApplyHandleModalClose\" data-indeed-apply-onready=\"indeedApplyHandleReady\" data-indeed-apply-phone=\"optional\" data-indeed-apply-pingbackurl=\"https://gdc.indeed.com/conv/orgIndApp?trk.origin=jobsearch&amp;jk=dcbc36b29b5e2bf7&amp;vjtk=1f8vlgcjb3kle001&amp;mvj=0&amp;advn=1748757551634304&amp;astse=8ebff01b5f8e6e79&amp;assa=2571&amp;tk=1f8vl8fpa3h7u000&amp;vjfrom=vjs&amp;co=CA&amp;sj=0\" data-indeed-apply-posturl=\"http://muffit/process-indeedapply\" data-indeed-apply-resume=\"required\" data-indeed-apply-skipcontinue=\"false\" style=\"padding: 0px !important; margin: 0px !important; text-indent: 0px !important; vertical-align: top !important; position: relative; display: inline-block;\">\n",
      "    <a class=\"indeed-apply-button\" href=\"javascript:void(0);\" id=\"indeed-ia-1624560382826-0\">\n",
      "     <span class=\"indeed-apply-button-inner\" id=\"indeed-ia-1624560382826-0inner\">\n",
      "      <span class=\"indeed-apply-button-label\" id=\"indeed-ia-1624560382826-0label\">\n",
      "       Apply Now\n",
      "      </span>\n",
      "      <span class=\"indeed-apply-button-cm\">\n",
      "       <img src=\"https://d3fw5vlhllyvee.cloudfront.net/indeedapply/s/14096d1/check.png\" style=\"border: 0px none;\"/>\n",
      "      </span>\n",
      "     </span>\n",
      "    </a>\n",
      "   </span>\n",
      "   <span class=\"dd-wrapper\" id=\"state-picker-container\">\n",
      "    <button aria-label=\"Save this job\" class=\"state-picker-button\" onclick=\"changeJobState('dcbc36b29b5e2bf7', 'save', '2paneheaderbutton', false, 'vjs-header'); return false;\">\n",
      "     <span class=\"state-picker-text icl-u-xs-hide\">\n",
      "      Save this job\n",
      "     </span>\n",
      "     <span class=\"state-picker-icon icl-u-xs-inlineBlock\">\n",
      "      <svg fill=\"none\" height=\"24\" viewbox=\"0 0 24 24\" width=\"24\" xmlns=\"http://www.w3.org/2000/svg\">\n",
      "       <path clip-rule=\"evenodd\" d=\"M10.5766 6.99526C10.0636 6.48227 9.57017 5.99808 9.01069 5.62604C8.46832 5.26538 7.97822 5.09021 7.5 5.09021C6.79435 5.09021 5.98045 5.27268 5.34087 5.72415C4.78259 6.11822 4.20245 6.82046 4.00092 8.2167C4.02709 10.0041 4.61435 11.2599 5.97077 12.7896C6.98048 13.9283 8.27849 15.0775 9.97941 16.5833C10.5978 17.1308 11.2695 17.7255 12 18.3839C12.7305 17.7255 13.4022 17.1308 14.0206 16.5833C15.7215 15.0775 17.0195 13.9283 18.0292 12.7896C19.3856 11.2599 19.9729 10.0041 19.9991 8.2167C19.7976 6.82046 19.2174 6.11822 18.6591 5.72415C18.0196 5.27268 17.2056 5.09021 16.5 5.09021C16.0218 5.09021 15.5317 5.26538 14.9893 5.62604C14.4298 5.99808 13.9364 6.48227 13.4234 6.99526L12 8.41864L10.5766 6.99526ZM22 8.09021C22 12.1883 19.6488 14.2711 15.2216 18.1928C14.3422 18.9718 13.3808 19.8234 12.3397 20.7777C12.1476 20.9539 11.8524 20.9539 11.6603 20.7777C10.6192 19.8234 9.65782 18.9718 8.77838 18.1928C4.35123 14.2711 2 12.1883 2 8.09021C2.5 4.09021 5.5 3.09021 7.5 3.09021C9.47994 3.09021 10.9699 4.56026 11.9698 5.55996C11.9768 5.56701 11.9838 5.57404 11.9908 5.58104L12 5.59021L12.0092 5.58104C12.0162 5.57404 12.0232 5.56701 12.0302 5.55996C13.0301 4.56026 14.5201 3.09021 16.5 3.09021C18.5 3.09021 21.5 4.09021 22 8.09021Z\" fill=\"#2d2d2d\" fill-rule=\"evenodd\">\n",
      "       </path>\n",
      "      </svg>\n",
      "     </span>\n",
      "    </button>\n",
      "   </span>\n",
      "  </div>\n",
      "  <div id=\"state-picker-info-container\">\n",
      "  </div>\n",
      " </div>\n",
      " <a id=\"vjs-back-to-results\" onclick=\"indeedApplyResetTwoPaneApply();\">\n",
      "  <svg class=\"icl-Icon icl-Icon--md icl-Icon--left icl-Icon--inheritColor chevron-left\" focusable=\"false\" role=\"img\">\n",
      "   <g>\n",
      "    <path d=\"M15.41,7.41L14,6,8,12l6,6,1.41-1.41L10.83,12Z\">\n",
      "    </path>\n",
      "   </g>\n",
      "  </svg>\n",
      "  <span class=\"vjs-back-to-results-cta\">\n",
      "   Back to search results\n",
      "  </span>\n",
      " </a>\n",
      " <div class=\"tab-container\">\n",
      "  <div class=\"sign-in-container result-tab\">\n",
      "  </div>\n",
      " </div>\n",
      "</div>\n",
      "<div aria-label=\"Job details\" id=\"vjs-content\" style=\"height: 621px;\" tabindex=\"0\">\n",
      " <div data-tab-bind=\"job\" id=\"vjs-tab-job\">\n",
      "  <div id=\"vjs-desc\">\n",
      "   <p>\n",
      "    <b>\n",
      "     About antuit.ai\n",
      "    </b>\n",
      "   </p>\n",
      "   <p>\n",
      "    <b>\n",
      "     Antuit.ai\n",
      "    </b>\n",
      "    is the leader in AI-powered SaaS solutions, empowering world-class Consumer Products and Retail companies to digitally transform their supply chain, merchandising, marketing and omnichannel operations. Antuit.ai’s executives, comprised of industry leaders from SAP, SAS, IBM, and Accenture, and our team of Ph.Ds., data scientists, technologists, and domain experts are passionate about generating real value for our clients. Antuit is funded by Goldman Sachs and Zodius Capital.\n",
      "   </p>\n",
      "   <p>\n",
      "    <b>\n",
      "     The Role:\n",
      "    </b>\n",
      "   </p>\n",
      "   <p>\n",
      "    <b>\n",
      "     Antuit.ai\n",
      "    </b>\n",
      "    offers AI products that help CPG and retail companies to plan and operate their business better. The lead data scientist will play a critical role in ensuring the products are configured to provide the best solution to the users.\n",
      "   </p>\n",
      "   <p>\n",
      "    <b>\n",
      "     Responsibilities:\n",
      "    </b>\n",
      "   </p>\n",
      "   <p>\n",
      "    A key member of the Data Science team, this person will facilitate product solutioning, and design and tune the AI models to meet the business needs.\n",
      "   </p>\n",
      "   <p>\n",
      "    Responsibilities includes, but are not limited to the following:\n",
      "   </p>\n",
      "   <ul>\n",
      "    <li>\n",
      "     Understand the client’s business including nuances of the products, sales channels, business cycles and levers like promotions, advertising etc.\n",
      "    </li>\n",
      "    <li>\n",
      "     Ensure completeness, accuracy and quality of data received\n",
      "    </li>\n",
      "    <li>\n",
      "     Identify anomalies in the data and work with the client to resolve the anomalies\n",
      "    </li>\n",
      "    <li>\n",
      "     Design, configure, and tune the AI product model to generate the necessary model outputs\n",
      "    </li>\n",
      "    <li>\n",
      "     Apply domain knowledge of CPG/retail, planning to extract features from the input data\n",
      "    </li>\n",
      "    <li>\n",
      "     Evaluate the accuracy of the model outputs and analyze the output to identify issues in the model\n",
      "    </li>\n",
      "    <li>\n",
      "     Create and present reports showing model performance, and have an engaging conversation with business stakeholders\n",
      "    </li>\n",
      "    <li>\n",
      "     Analyze and resolve any ongoing issues with model performance\n",
      "    </li>\n",
      "   </ul>\n",
      "   <p>\n",
      "    <b>\n",
      "     Qualifications and Skills:\n",
      "    </b>\n",
      "   </p>\n",
      "   <p>\n",
      "    The successful candidate will have the following profile/experience:\n",
      "   </p>\n",
      "   <ul>\n",
      "    <li>\n",
      "     Bachelor’s or Master’s degree\n",
      "    </li>\n",
      "    <li>\n",
      "     8+ years of Data Science experience\n",
      "    </li>\n",
      "    <li>\n",
      "     3+ years working with retail or CPG preferred\n",
      "    </li>\n",
      "    <li>\n",
      "     Good understanding of CPG or retail planning process. Understanding of Retail/CPG data model is a plus.\n",
      "    </li>\n",
      "    <li>\n",
      "     2+ years of hands-on experience in python, pyspark and SQL\n",
      "    </li>\n",
      "    <li>\n",
      "     Good understanding of regression and/or time series models\n",
      "    </li>\n",
      "    <li>\n",
      "     Expertise in evaluating model output and identifying model improvement opportunities.\n",
      "    </li>\n",
      "    <li>\n",
      "     Excellent problem-solving skills and natural ability to think analytically\n",
      "    </li>\n",
      "   </ul>\n",
      "   <p>\n",
      "    <b>\n",
      "     Information Security Responsibilities\n",
      "    </b>\n",
      "   </p>\n",
      "   <p>\n",
      "    · Understand and adhere to Information Security policies, guidelines and procedure, practice them for protection of organizational data and Information System.\n",
      "   </p>\n",
      "   <p>\n",
      "    · Take part in Information Security training and act accordingly while handling information.\n",
      "   </p>\n",
      "   <p>\n",
      "    · Report all suspected security and policy breach to Infosec team or appropriate authority (CISO).\n",
      "   </p>\n",
      "   <p>\n",
      "    <b>\n",
      "     EEOC\n",
      "    </b>\n",
      "   </p>\n",
      "   <p>\n",
      "    Antuit.ai is an at-will, equal opportunity employer. We consider applicants for all positions without regard to race, color, religion, national origin or ancestry, gender identity, sex, age (40+), marital status, disability, veteran status, or any other legally protected status under local, state, or federal law.\n",
      "   </p>\n",
      "   <p>\n",
      "    “Antuit.ai thanks all applicants; however, only those selected for an interview will be contacted. “\n",
      "   </p>\n",
      "   <p>\n",
      "    Job Types: Full-time, Permanent\n",
      "   </p>\n",
      "   <p>\n",
      "    Salary: Up to $1.00 per year\n",
      "   </p>\n",
      "   <p>\n",
      "    Additional pay:\n",
      "   </p>\n",
      "   <ul>\n",
      "    <li>\n",
      "     Bonus pay\n",
      "    </li>\n",
      "   </ul>\n",
      "   <p>\n",
      "    Benefits:\n",
      "   </p>\n",
      "   <ul>\n",
      "    <li>\n",
      "     Casual dress\n",
      "    </li>\n",
      "    <li>\n",
      "     Dental care\n",
      "    </li>\n",
      "    <li>\n",
      "     Extended health care\n",
      "    </li>\n",
      "    <li>\n",
      "     Flexible schedule\n",
      "    </li>\n",
      "    <li>\n",
      "     Life insurance\n",
      "    </li>\n",
      "    <li>\n",
      "     Paid time off\n",
      "    </li>\n",
      "    <li>\n",
      "     Vision care\n",
      "    </li>\n",
      "    <li>\n",
      "     Work from home\n",
      "    </li>\n",
      "   </ul>\n",
      "   <p>\n",
      "    Schedule:\n",
      "   </p>\n",
      "   <ul>\n",
      "    <li>\n",
      "     Monday to Friday\n",
      "    </li>\n",
      "   </ul>\n",
      "   <p>\n",
      "    Work remotely:\n",
      "   </p>\n",
      "   <ul>\n",
      "    <li>\n",
      "     Yes\n",
      "    </li>\n",
      "   </ul>\n",
      "  </div>\n",
      "  <div id=\"vjs-footer\">\n",
      "   <div class=\"result-link-bar-container result-link-bar-viewjob\">\n",
      "    <div class=\"result-link-bar\">\n",
      "     <span class=\"date date-a11y\">\n",
      "      1 day ago\n",
      "     </span>\n",
      "     <div class=\"tt_set\" id=\"tt_set_0\">\n",
      "     </div>\n",
      "    </div>\n",
      "   </div>\n",
      "   <div class=\"mosaic mosaic-provider-reportcontent mosaic-provider-hydrated\" id=\"mosaic-provider-reportcontent\">\n",
      "    <div class=\"mosaic-reportcontent-wrapper button\">\n",
      "     <div>\n",
      "      <button class=\"icl-Button icl-Button--secondary icl-Button--md mosaic-reportcontent-button desktop\" type=\"button\">\n",
      "       <span class=\"mosaic-reportcontent-button-icon\">\n",
      "       </span>\n",
      "       Report job\n",
      "      </button>\n",
      "     </div>\n",
      "     <div class=\"mosaic-reportcontent-content\">\n",
      "     </div>\n",
      "    </div>\n",
      "   </div>\n",
      "  </div>\n",
      " </div>\n",
      " <div data-tab-bind=\"company\" id=\"vjs-tab-company\" style=\"display: none;\">\n",
      " </div>\n",
      " <div data-tab-bind=\"insights\" id=\"vjs-tab-insights\" style=\"display: none;\">\n",
      " </div>\n",
      "</div>\n",
      "<script async=\"true\" data-indeed-apply-qs=\"vjtk=1f8vlgcjb3kle001&amp;hl=en_CA&amp;co=CA&amp;tk=1f8vl8fpa3h7u000&amp;source=idd&amp;twoPaneGroup=-1&amp;twoPaneAllocId=%23A16\" id=\"indeed-apply-js\">\n",
      " (function(){var a=window.indeed;\n",
      "            if(!a||!a.ia){\n",
      "            var b=window,\n",
      "                c=document.location,\n",
      "                e=document.getElementsByTagName(\"head\")[0],\n",
      "                f=/^https:\\/\\//.test(c.href),\n",
      "                g=document.createElement(\"script\"),\n",
      "                h=document.getElementById(\"indeed-apply-js\").attributes[\"data-indeed-apply-qs\"],\n",
      "                n=h&&h.value?h.value:\"\";\n",
      "            b.indeed=b.indeed||{};b.indeed.ia=b.indeed.ia||{};\n",
      "            g.src=(f?\n",
      "        \"https://apply.indeed.com/indeedapply/env?https=1&iip=1&\":\"https://apply.indeed.com/indeedapply/env?iip=1&\")+\"ms=\"+ +new Date+(n?\"&\"+n:\"\");e.appendChild(g)};})();\n",
      "</script>\n",
      "<script>\n",
      " if (!window['result_dcbc36b29b5e2bf7']) {window['result_dcbc36b29b5e2bf7'] = {};}window['result_dcbc36b29b5e2bf7']['showSource'] = false; window['result_dcbc36b29b5e2bf7']['source'] = \"Indeed\"; window['result_dcbc36b29b5e2bf7']['loggedIn'] = false; window['result_dcbc36b29b5e2bf7']['showMyJobsLinks'] = false;window['result_dcbc36b29b5e2bf7']['baseMyJobsUrl'] = \"https://myjobs.indeed.com\";window['result_dcbc36b29b5e2bf7']['undoAction'] = \"unsave\";window['result_dcbc36b29b5e2bf7']['relativeJobAge'] = \"1 day ago\";window['result_dcbc36b29b5e2bf7']['jobKey'] = \"dcbc36b29b5e2bf7\"; window['result_dcbc36b29b5e2bf7']['myIndeedAvailable'] = true; window['result_dcbc36b29b5e2bf7']['showMoreActionsLink'] = window['result_dcbc36b29b5e2bf7']['showMoreActionsLink'] || false; window['result_dcbc36b29b5e2bf7']['resultNumber'] = 0; window['result_dcbc36b29b5e2bf7']['jobStateChangedToSaved'] = false; window['result_dcbc36b29b5e2bf7']['searchState'] = \"\"; window['result_dcbc36b29b5e2bf7']['basicPermaLink'] = \"https://ca.indeed.com\"; window['result_dcbc36b29b5e2bf7']['saveJobFailed'] = false; window['result_dcbc36b29b5e2bf7']['removeJobFailed'] = false; window['result_dcbc36b29b5e2bf7']['requestPending'] = false; window['result_dcbc36b29b5e2bf7']['currentPage'] = \"viewjob\"; window['result_dcbc36b29b5e2bf7']['sponsored'] = false;window['result_dcbc36b29b5e2bf7']['showSaveForSponsored'] = false; window['result_dcbc36b29b5e2bf7']['showJobAge'] = true; window['result_dcbc36b29b5e2bf7']['showHolisticCard'] = false; window['result_dcbc36b29b5e2bf7']['showDislike'] = false; window['result_dcbc36b29b5e2bf7']['showKebab'] = false; window['result_dcbc36b29b5e2bf7']['showReport'] = false;window['result_dcbc36b29b5e2bf7']['hideSaveJobLink'] = true;\n",
      "</script>\n",
      "<script>\n",
      " window['sendPageLoadEndPing'] = function(pageId, tk, st) {var validPageIds = ['viewjob', 'serp']; if (!!Image && validPageIds.indexOf(pageId) > -1 && !!tk && !!st) {var href = '/rpc/pageLoadEnd?pageId=' + pageId + '&tk=' + tk + '&st=' + st + '&__=' + Math.random(); var img = new Image(); img.src = href;}}; window['sendPageLoadEndPing'](\"viewjob\", \"1f8vlgcjb3kle001\", \"1624560382571\");\n",
      "</script>\n"
     ]
    }
   ],
   "source": [
    "print(job_soup.prettify())"
   ]
  },
  {
   "cell_type": "code",
   "execution_count": 13,
   "metadata": {
    "collapsed": true
   },
   "outputs": [
    {
     "name": "stdout",
     "output_type": "stream",
     "text": [
      "try 2:  The CTC Personalization & Customer Analytics team is the central hub for engaging consumers with exciting and inspirational loyalty and product offers through better use of customer data, driving incremental sales and profit. The Promo Analytics and Operations team is accountable for creating a high performance, cross-banner, silo-free source of all customer data enabling quick and efficient customer insights, audience creation, customer journey analyses and advanced customer modelling. The Data Scientist role provides technical leadership in all facets of the project, from selecting key customer features and interactions to ensuring accurate data blending to deriving new customer attributes through descriptive and predictive analytics through a deep understanding of applying the data science lifecycle to customer modelling. The Data Scientist will be the subject matter expert in combining customer-related data sources, collaborating with teams that produce customer insights, deploy unique personalized offers directly to customers and developing other customer data products. The dynamic environment requires individuals with a cross functional background, excellent organizational skills, experience working in an agile project environment, advanced analytical ability, strong communication skills to deal effectively with stakeholders and the ability to work effectively in a team as well as independently. The primary responsibilities of the Data Scientist include: Efficiently and accurately integrate customer data from a variety of organizational systems. Derive customer attributes and intents through novel uses of the data at hand and models to describe and predict customer behaviour, as well as a deep understanding of customer behaviour. Ensure generated insights meet standards of analytical and statistical rigour, highlighting gaps where necessary. Provide mentorship to team members on data, code, and data science best practices. Lead the creation of efficient, cost-effective high-availability pipelines. Work with IT teams to ensure that project needs are met in the next generation of CTC data platforms. Provide ad hoc analytics and recommendations for action as needed. Qualifications: Professional Post-Secondary Education at the Master’s level, with 2-5 years experience in a business environment. Extensive knowledge of statistics, predictive analytics and data science techniques to improve customer understanding through creative problem solving and modelling. Experience leading analytical projects with iterative improvement in a fast-paced environment. Ability to understand what data means about a customer. Technical Strong familiarity with statistical modeling tools and data science libraries. Python & SQL are required. Experience building dashboards and visualizations in Enterprise-grade BI tools. Good working knowledge of relational and non-relational databases in big data (Hive, BigQuery, SnowFlake) and/or cloud environments (GCP, Azure). Intermediate knowledge of standard desktop tools such as Excel and PowerPoint Interpersonal Provides a positive influence and excels in a fast-paced team environment with the ability to take on leadership responsibilities while embracing and driving innovative solutions that improve the performance of the team. Advanced written and verbal communication skills. Strong interpersonal skills with the ability to embrace and action constructive feedback positively. Exceptional attention to detail. Strong ability to: Work with complex and evolving systems and extensive and varied data. Manage changing/conflicting priorities and make effective decisions quickly. Adapt to rapid and continuous change to project requirements and priorities.  Canadian Tire is an equal opportunity employer. We are committed to a diverse and inclusive workplace for all. We recognize that our future success depends on the perspectives and contributions of all our employees - their diverse backgrounds, abilities and experiences make our business stronger. If you are contacted for a job opportunity, please advise us of any accommodations needed to ensure fair and equitable access throughout the recruitment and selection process. All accommodation information provided will be treated as confidential and used only for the purpose of providing an accessible candidate experience. CTR Marketing Ontario-Toronto Permanent Full-time Job Posting  : Jun 21, 2021, 9:42:38 AM3 days ago Report job\n"
     ]
    }
   ],
   "source": [
    "try:\n",
    "    job_description = job_soup.find(\"div\", id=\"vsj-desc\").text.strip().replace(\"\\n\", \" \")\n",
    "    print('try 1: ', job_description)\n",
    "except:\n",
    "    pass\n",
    "\n",
    "try:\n",
    "    job_description = job_soup.find(\"div\", id=\"vjs-content\").text.strip().replace(\"\\n\", \" \")\n",
    "    print(\"try 2: \",job_description)\n",
    "except:\n",
    "    pass"
   ]
  },
  {
   "cell_type": "code",
   "execution_count": 23,
   "metadata": {},
   "outputs": [
    {
     "name": "stdout",
     "output_type": "stream",
     "text": [
      "job_title1 label:  1\n",
      "job_title2 label:  0\n"
     ]
    }
   ],
   "source": [
    "# Write a function to automatically determine whether the label should be 0 or 1 based on the extracted job title\n",
    "\n",
    "def get_label(job_title):\n",
    "    if 'cientist' in job_title:\n",
    "        label = '1'\n",
    "    else:\n",
    "        label = '0' #analyst\n",
    "    return label\n",
    "\n",
    "job_title1 = \"Data Scientist\"\n",
    "job_title2 = \"Data Analyst\"\n",
    "\n",
    "label = get_label(job_title1)\n",
    "print(\"job_title1 label: \", label)\n",
    "\n",
    "label1 = get_label(job_title2)\n",
    "print(\"job_title2 label: \", label1)"
   ]
  },
  {
   "cell_type": "code",
   "execution_count": 26,
   "metadata": {
    "collapsed": true
   },
   "outputs": [
    {
     "name": "stdout",
     "output_type": "stream",
     "text": [
      "['1', 'Lead Data Scientist', 'Antuit.ai', 'Toronto, ON', 'Full-time,\\xa0Permanent', 'The CTC Personalization & Customer Analytics team is the central hub for engaging consumers with exciting and inspirational loyalty and product offers through better use of customer data, driving incremental sales and profit. The Promo Analytics and Operations team is accountable for creating a high performance, cross-banner, silo-free source of all customer data enabling quick and efficient customer insights, audience creation, customer journey analyses and advanced customer modelling. The Data Scientist role provides technical leadership in all facets of the project, from selecting key customer features and interactions to ensuring accurate data blending to deriving new customer attributes through descriptive and predictive analytics through a deep understanding of applying the data science lifecycle to customer modelling. The Data Scientist will be the subject matter expert in combining customer-related data sources, collaborating with teams that produce customer insights, deploy unique personalized offers directly to customers and developing other customer data products. The dynamic environment requires individuals with a cross functional background, excellent organizational skills, experience working in an agile project environment, advanced analytical ability, strong communication skills to deal effectively with stakeholders and the ability to work effectively in a team as well as independently. The primary responsibilities of the Data Scientist include: Efficiently and accurately integrate customer data from a variety of organizational systems. Derive customer attributes and intents through novel uses of the data at hand and models to describe and predict customer behaviour, as well as a deep understanding of customer behaviour. Ensure generated insights meet standards of analytical and statistical rigour, highlighting gaps where necessary. Provide mentorship to team members on data, code, and data science best practices. Lead the creation of efficient, cost-effective high-availability pipelines. Work with IT teams to ensure that project needs are met in the next generation of CTC data platforms. Provide ad hoc analytics and recommendations for action as needed. Qualifications: Professional Post-Secondary Education at the Master’s level, with 2-5 years experience in a business environment. Extensive knowledge of statistics, predictive analytics and data science techniques to improve customer understanding through creative problem solving and modelling. Experience leading analytical projects with iterative improvement in a fast-paced environment. Ability to understand what data means about a customer. Technical Strong familiarity with statistical modeling tools and data science libraries. Python & SQL are required. Experience building dashboards and visualizations in Enterprise-grade BI tools. Good working knowledge of relational and non-relational databases in big data (Hive, BigQuery, SnowFlake) and/or cloud environments (GCP, Azure). Intermediate knowledge of standard desktop tools such as Excel and PowerPoint Interpersonal Provides a positive influence and excels in a fast-paced team environment with the ability to take on leadership responsibilities while embracing and driving innovative solutions that improve the performance of the team. Advanced written and verbal communication skills. Strong interpersonal skills with the ability to embrace and action constructive feedback positively. Exceptional attention to detail. Strong ability to: Work with complex and evolving systems and extensive and varied data. Manage changing/conflicting priorities and make effective decisions quickly. Adapt to rapid and continuous change to project requirements and priorities.  Canadian Tire is an equal opportunity employer. We are committed to a diverse and inclusive workplace for all. We recognize that our future success depends on the perspectives and contributions of all our employees - their diverse backgrounds, abilities and experiences make our business stronger. If you are contacted for a job opportunity, please advise us of any accommodations needed to ensure fair and equitable access throughout the recruitment and selection process. All accommodation information provided will be treated as confidential and used only for the purpose of providing an accessible candidate experience. CTR Marketing Ontario-Toronto Permanent Full-time Job Posting  : Jun 21, 2021, 9:42:38 AM3 days ago Report job']\n"
     ]
    }
   ],
   "source": [
    "job_record = [label, job_title, company, job_location, job_salary, job_description]\n",
    "print(job_record)"
   ]
  },
  {
   "cell_type": "markdown",
   "metadata": {},
   "source": [
    "<h2>Part 3 : Put it all together</h2>\n",
    "\n",
    "Put all the steps together so that we can easily extract job information from each text file and keep a record of which files we have opened."
   ]
  },
  {
   "cell_type": "code",
   "execution_count": 71,
   "metadata": {},
   "outputs": [],
   "source": [
    "# Works!\n",
    "import os\n",
    "import codecs\n",
    "from bs4 import BeautifulSoup\n",
    "import csv\n",
    "\n",
    "def get_raw_data(directory):\n",
    "    '''Open file containing html of job description and prepare soup object.'''\n",
    "    fileList = []\n",
    "    soupList = []\n",
    "    # Iterate through each file in directory\n",
    "    for file in os.listdir(directory):\n",
    "        if file.endswith(\".txt\"):\n",
    "            # add each filename to list\n",
    "            fileList.append(file)\n",
    "            #print(fileList)\n",
    "            # open and load html\n",
    "            with codecs.open(directory + \"/\"+ file, 'r', \"utf-8\") as f:\n",
    "                job_html = f.read()\n",
    "                job_soup = BeautifulSoup(job_html, \"html.parser\")\n",
    "                soupList.append(job_soup)\n",
    "    print(\"soup_list is done.\")\n",
    "    return soupList\n",
    "\n",
    "# From the loaded text, extract job information using beautiful soup\n",
    "def get_job_record(job_soup):\n",
    "    '''Create a record of information for one job.'''\n",
    "    # Title\n",
    "    try:\n",
    "        job_title = job_soup.find(\"div\", id=\"vjs-jobtitle\").text.strip()\n",
    "    except:\n",
    "        try:\n",
    "            job_title = job_soup.find(\"h1\", id=\"vjs-jobtitle\").text.strip()\n",
    "        except:\n",
    "            job_title = \"NaN\"\n",
    "    \n",
    "    # Company\n",
    "    try:\n",
    "        company = job_soup.find(\"span\", id=\"vjs-cn\").text.strip()\n",
    "    except:    \n",
    "        company = \"NaN\"\n",
    "\n",
    "    # Location\n",
    "    try:\n",
    "        job_location = job_soup.find(\"span\", id=\"vjs-loc\").text.strip().replace(\"- \", \"\")\n",
    "    except:\n",
    "        job_location = \"NaN\"\n",
    "    \n",
    "    # Job Salary\n",
    "    try:\n",
    "        job_salary = job_soup.find(\"span\", attrs = {\"id\": None, \"class\": None, \"aria-hidden\": None}).text.strip()\n",
    "    except AttributeError:\n",
    "        job_salary = \"NaN\"\n",
    "    \n",
    "    # Job Description\n",
    "    try:\n",
    "        job_description = job_soup.find(\"div\", id=\"vsj-desc\").text.strip().replace(\"\\n\", \" \")\n",
    "    except:\n",
    "        try:\n",
    "            job_description = job_soup.find(\"div\", id=\"vjs-content\").text.strip().replace(\"\\n\", \" \")\n",
    "        except:\n",
    "            job_summary = \"NaN\"\n",
    "    \n",
    "    job_record = [label, job_title, company, job_location, job_salary, job_description]\n",
    "    return job_record\n",
    "\n",
    "def main_etl(directory):\n",
    "    '''This function loads text data, extracts pertinent job information, and saves data in a csv file.'''\n",
    "    #while True:\n",
    "    soupList = get_raw_data(directory)\n",
    "        \n",
    "    # add each job record to a list\n",
    "    job_records = []\n",
    "    for job_soup in soupList:\n",
    "        job_record = get_job_record(job_soup)\n",
    "        job_records.append(job_record)\n",
    "    \n",
    "    print(\"Added items to job_records list. Length of job_records is: \", len(job_records))\n",
    "\n",
    "    # add job records to csv by row\n",
    "    with open('results.csv', 'w', newline = '', encoding = 'utf-8') as f:\n",
    "        writer = csv.writer(f)\n",
    "        writer.writerow(['Label', 'Job Title', 'Company', 'Location', 'Salary', 'Job Description'])\n",
    "        writer.writerows(job_records)"
   ]
  },
  {
   "cell_type": "markdown",
   "metadata": {},
   "source": [
    "Let's test out the functionality on another folder containing files with job description in html format."
   ]
  },
  {
   "cell_type": "code",
   "execution_count": 72,
   "metadata": {
    "scrolled": true
   },
   "outputs": [
    {
     "name": "stdout",
     "output_type": "stream",
     "text": [
      "/Users/jennifer/nlp-jobmarket\n"
     ]
    }
   ],
   "source": [
    "print(os.getcwd())"
   ]
  },
  {
   "cell_type": "code",
   "execution_count": 73,
   "metadata": {},
   "outputs": [
    {
     "name": "stdout",
     "output_type": "stream",
     "text": [
      "\u001b[31m1A main_etl_analyst_csv.ipynb\u001b[m\u001b[m\r\n",
      "1A main_etl_analyst_csv_UPDATE.ipynb\r\n",
      "\u001b[31m1B main_etl_analyst_sql.ipynb\u001b[m\u001b[m\r\n",
      "1B main_etl_analyst_sql_UPDATE.ipynb\r\n",
      "\u001b[31m1B main_etl_scientist_sql.ipynb\u001b[m\u001b[m\r\n",
      "\u001b[30m\u001b[43m24 Jun popup window\u001b[m\u001b[m\r\n",
      "\u001b[31m2A main_csv_jobdesc_nlp_preproc.ipynb\u001b[m\u001b[m\r\n",
      "2B Stemming code that didn't work.ipynb\r\n",
      "2B main_sql_jobdesc_nlp_preproc.html\r\n",
      "\u001b[31m2B main_sql_jobdesc_nlp_preproc.ipynb\u001b[m\u001b[m\r\n",
      "2B main_sql_jobdesc_nlp_topicmodeling.ipynb\r\n",
      "3B main_sql_nlp_tfidf_modelling.ipynb\r\n",
      "\u001b[1m\u001b[36mData Analyst\u001b[m\u001b[m\r\n",
      "\u001b[1m\u001b[36mData Scientist\u001b[m\u001b[m\r\n",
      "README.md\r\n",
      "joblist.sqlite\r\n",
      "main_etl_scientist_sql.py\r\n",
      "\u001b[31mmain_jobdesc_eda.ipynb\u001b[m\u001b[m\r\n",
      "results.csv\r\n",
      "\u001b[1m\u001b[36mtest_folder\u001b[m\u001b[m\r\n",
      "\u001b[30m\u001b[43mtest_folder2\u001b[m\u001b[m\r\n"
     ]
    }
   ],
   "source": [
    "!ls"
   ]
  },
  {
   "cell_type": "code",
   "execution_count": 74,
   "metadata": {
    "tags": []
   },
   "outputs": [
    {
     "name": "stdout",
     "output_type": "stream",
     "text": [
      "soup_list is done.\n",
      "Added items to job_records list. Length of job_records is:  75\n"
     ]
    }
   ],
   "source": [
    "dataAnalyst = main_etl(\"24 Jun popup window\")"
   ]
  },
  {
   "cell_type": "code",
   "execution_count": null,
   "metadata": {},
   "outputs": [],
   "source": []
  }
 ],
 "metadata": {
  "kernelspec": {
   "display_name": "Python 3",
   "language": "python",
   "name": "python3"
  },
  "language_info": {
   "codemirror_mode": {
    "name": "ipython",
    "version": 3
   },
   "file_extension": ".py",
   "mimetype": "text/x-python",
   "name": "python",
   "nbconvert_exporter": "python",
   "pygments_lexer": "ipython3",
   "version": "3.8.5"
  }
 },
 "nbformat": 4,
 "nbformat_minor": 2
}
