{
 "metadata": {
  "language_info": {
   "codemirror_mode": {
    "name": "ipython",
    "version": 3
   },
   "file_extension": ".py",
   "mimetype": "text/x-python",
   "name": "python",
   "nbconvert_exporter": "python",
   "pygments_lexer": "ipython3",
   "version": 3
  },
  "orig_nbformat": 2
 },
 "nbformat": 4,
 "nbformat_minor": 2,
 "cells": [
  {
   "source": [
    "<h1>Part 2 : EDA of Data Extracted from Job Postings</h1>"
   ],
   "cell_type": "markdown",
   "metadata": {}
  },
  {
   "cell_type": "code",
   "execution_count": null,
   "metadata": {},
   "outputs": [],
   "source": [
    "import csv\n",
    "import pandas as pd\n",
    "import numpy as np\n",
    "import matplotlib.pyplot as plt\n",
    "\n",
    "import os\n",
    "\n",
    "from wordcloud import WordCloud, STOPWORDS"
   ]
  },
  {
   "cell_type": "code",
   "execution_count": null,
   "metadata": {},
   "outputs": [],
   "source": [
    "# Load csv\n",
    "with open('results.csv') as f:\n",
    "    csv_data = csv.reader(f, delimiter = ',')\n",
    "    raw_data = pd.DataFrame(csv_data)\n",
    "\n",
    "raw_data.head()"
   ]
  },
  {
   "source": [
    "<h2>Explore Data</h2>\n",
    "\n",
    "To begin, we will start by exploring the data analyst job postings.\n",
    "\n",
    "We will need to summarize the information we collected in the previous step."
   ],
   "cell_type": "markdown",
   "metadata": {}
  },
  {
   "cell_type": "code",
   "execution_count": null,
   "metadata": {},
   "outputs": [],
   "source": [
    "# Are there any NaNs in the data?\n",
    "raw_data.isnull().sum()"
   ]
  },
  {
   "cell_type": "code",
   "execution_count": null,
   "metadata": {},
   "outputs": [],
   "source": [
    "# Job Title\n",
    "# Although \"data analyst\" was searched, job titles often vary. \n",
    "# Count the number of unique job titles\n",
    "raw_data[\"Job Title\"].nunique()"
   ]
  },
  {
   "cell_type": "code",
   "execution_count": null,
   "metadata": {},
   "outputs": [],
   "source": [
    "# Expecting more than a few different job titles to be present in this dataset\n",
    "# Probably have to do a string search using regex to search if data and analyst is present in job title and ignore everything else\n",
    "positions_df = raw_data[[\"Job Title\"]]\n",
    "positions_df[\"Position\"] = [x.lower() for x in positions_df[\"Position\"]]"
   ]
  },
  {
   "cell_type": "code",
   "execution_count": null,
   "metadata": {},
   "outputs": [],
   "source": [
    "# Graph of the different job titles"
   ]
  },
  {
   "cell_type": "code",
   "execution_count": null,
   "metadata": {},
   "outputs": [],
   "source": [
    "# What kind of other various job titles that get are shown when you search \"data analyst\"??\n",
    "# Perhaps some kind of regex\n",
    "\n",
    "business\n",
    "scientist\n",
    "manager\n",
    "director"
   ]
  },
  {
   "cell_type": "code",
   "execution_count": null,
   "metadata": {},
   "outputs": [],
   "source": [
    "# Location\n",
    "# The location was already specifically searched for\n",
    "# The actual job posting doesn't have any address details, so a map would be difficult without actually looking up the details of each location. However an actual map would be fun."
   ]
  },
  {
   "cell_type": "code",
   "execution_count": null,
   "metadata": {},
   "outputs": [],
   "source": [
    "# Company\n",
    "# Is there a company that is looking to hire the most data candidates?\n",
    "raw_data[\"Company\"].describe()"
   ]
  },
  {
   "cell_type": "code",
   "execution_count": null,
   "metadata": {},
   "outputs": [],
   "source": [
    "company = raw_data.groupby([\"Company\"]).count().sort_values()"
   ]
  },
  {
   "cell_type": "code",
   "execution_count": null,
   "metadata": {},
   "outputs": [],
   "source": [
    "# Salary\n",
    "# Count the number of salaries available with .describe()\n",
    "# Create a histogram with the number of jobs per salary\n",
    "# Maybe a scatterplot would be better to determine whether job "
   ]
  },
  {
   "cell_type": "code",
   "execution_count": null,
   "metadata": {},
   "outputs": [],
   "source": [
    "# Job description\n",
    "\n",
    "# word frequency : how many words per post.\n",
    "# Text cleaning : lower casing, extra white-space removal, lemmatization\n",
    "\n",
    "# Determine most common words that occur in the job descriptions. \n",
    "\n",
    "# Predetermine a list of expected lookup terms for dictionary of skills\n",
    "# BOW - Create a list of dictionaries containing word counts for each job posting\n",
    "# Table with skill, count, percentage\n",
    "# Wordcloud\n",
    "\n",
    "#Words2Vec - similar words are closer together in a sentence\n",
    "\n",
    "# Topic modelling - where skills is considered a topic\n",
    "\n",
    "# NER with BERT"
   ]
  },
  {
   "cell_type": "code",
   "execution_count": null,
   "metadata": {},
   "outputs": [],
   "source": [
    "# Table of skills as percentage of total job description"
   ]
  },
  {
   "cell_type": "code",
   "execution_count": null,
   "metadata": {},
   "outputs": [],
   "source": [
    "# Degree required"
   ]
  },
  {
   "cell_type": "code",
   "execution_count": null,
   "metadata": {},
   "outputs": [],
   "source": [
    "# Wordcloud\n",
    "stop_words = set(STOPWORDS)\n",
    "\n",
    "wordcloud = WordCloud(stopwords=stopwords).generate(job_desc)\n",
    "plt.figure(figsize = 16, 16)\n",
    "plt.imshow(wordcloud)\n",
    "plt.axis(\"off\")\n",
    "plt.show()"
   ]
  },
  {
   "cell_type": "code",
   "execution_count": null,
   "metadata": {},
   "outputs": [],
   "source": []
  },
  {
   "cell_type": "code",
   "execution_count": null,
   "metadata": {},
   "outputs": [],
   "source": []
  }
 ]
}