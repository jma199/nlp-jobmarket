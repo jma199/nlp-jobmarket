{
 "cells": [
  {
   "cell_type": "markdown",
   "metadata": {},
   "source": [
    "# Base Model: Logistic Regression"
   ]
  },
  {
   "cell_type": "markdown",
   "metadata": {},
   "source": [
    "Topic modeling is an unsupervised machine learning technique used to detect words and phrases within documents                                                                                                                                                    and automatically cluster groups of words and similar expressions that best characterize a set of documents.\n",
    "\n",
    "This NLP technique is useful for tasks including text classification, extracting themes from documents, and building a recommender systems to recommend other text such as an article."
   ]
  },
  {
   "cell_type": "markdown",
   "metadata": {},
   "source": [
    "### Import Packages"
   ]
  },
  {
   "cell_type": "code",
   "execution_count": 1,
   "metadata": {},
   "outputs": [],
   "source": [
    "import pandas as pd\n",
    "import numpy as np\n",
    "import matplotlib.pyplot as plt\n",
    "\n",
    "import warnings\n",
    "warnings.filterwarnings('ignore')\n",
    "\n",
    "from sklearn.feature_extraction.text import CountVectorizer, TfidfVectorizer, ENGLISH_STOP_WORDS\n",
    "\n",
    "# nltk.download('stopwords')\n",
    "from nltk.corpus import stopwords\n",
    "\n",
    "from sklearn.linear_model import LogisticRegression\n",
    "from sklearn.model_selection import KFold\n",
    "import seaborn as sns\n",
    "\n",
    "from sklearn.decomposition import TruncatedSVD, LatentDirichletAllocation\n",
    "from sklearn.model_selection import train_test_split\n",
    "from sklearn.model_selection import cross_val_score\n",
    "from sklearn import metrics\n",
    "from sklearn.metrics import confusion_matrix\n",
    "from sklearn.metrics import precision_recall_fscore_support as score"
   ]
  },
  {
   "cell_type": "markdown",
   "metadata": {},
   "source": [
    "### Load Data"
   ]
  },
  {
   "cell_type": "code",
   "execution_count": 2,
   "metadata": {},
   "outputs": [],
   "source": [
    "with open(\"cleaned_data.json\") as f:\n",
    "    df_data = pd.read_json(f)\n",
    "df_data.drop(columns=['company', 'location', 'salary', 'position', 'position2', 'level'], inplace=True)"
   ]
  },
  {
   "cell_type": "code",
   "execution_count": 4,
   "metadata": {},
   "outputs": [
    {
     "data": {
      "text/html": [
       "<div>\n",
       "<style scoped>\n",
       "    .dataframe tbody tr th:only-of-type {\n",
       "        vertical-align: middle;\n",
       "    }\n",
       "\n",
       "    .dataframe tbody tr th {\n",
       "        vertical-align: top;\n",
       "    }\n",
       "\n",
       "    .dataframe thead th {\n",
       "        text-align: right;\n",
       "    }\n",
       "</style>\n",
       "<table border=\"1\" class=\"dataframe\">\n",
       "  <thead>\n",
       "    <tr style=\"text-align: right;\">\n",
       "      <th></th>\n",
       "      <th>jobtitle</th>\n",
       "      <th>jobdescription</th>\n",
       "      <th>label</th>\n",
       "    </tr>\n",
       "  </thead>\n",
       "  <tbody>\n",
       "    <tr>\n",
       "      <th>count</th>\n",
       "      <td>468</td>\n",
       "      <td>468</td>\n",
       "      <td>468.000000</td>\n",
       "    </tr>\n",
       "    <tr>\n",
       "      <th>unique</th>\n",
       "      <td>357</td>\n",
       "      <td>464</td>\n",
       "      <td>NaN</td>\n",
       "    </tr>\n",
       "    <tr>\n",
       "      <th>top</th>\n",
       "      <td>Data Scientist</td>\n",
       "      <td>Company Bio IMAGINE a hospital where everyone ...</td>\n",
       "      <td>NaN</td>\n",
       "    </tr>\n",
       "    <tr>\n",
       "      <th>freq</th>\n",
       "      <td>38</td>\n",
       "      <td>2</td>\n",
       "      <td>NaN</td>\n",
       "    </tr>\n",
       "    <tr>\n",
       "      <th>mean</th>\n",
       "      <td>NaN</td>\n",
       "      <td>NaN</td>\n",
       "      <td>0.290598</td>\n",
       "    </tr>\n",
       "    <tr>\n",
       "      <th>std</th>\n",
       "      <td>NaN</td>\n",
       "      <td>NaN</td>\n",
       "      <td>0.454524</td>\n",
       "    </tr>\n",
       "    <tr>\n",
       "      <th>min</th>\n",
       "      <td>NaN</td>\n",
       "      <td>NaN</td>\n",
       "      <td>0.000000</td>\n",
       "    </tr>\n",
       "    <tr>\n",
       "      <th>25%</th>\n",
       "      <td>NaN</td>\n",
       "      <td>NaN</td>\n",
       "      <td>0.000000</td>\n",
       "    </tr>\n",
       "    <tr>\n",
       "      <th>50%</th>\n",
       "      <td>NaN</td>\n",
       "      <td>NaN</td>\n",
       "      <td>0.000000</td>\n",
       "    </tr>\n",
       "    <tr>\n",
       "      <th>75%</th>\n",
       "      <td>NaN</td>\n",
       "      <td>NaN</td>\n",
       "      <td>1.000000</td>\n",
       "    </tr>\n",
       "    <tr>\n",
       "      <th>max</th>\n",
       "      <td>NaN</td>\n",
       "      <td>NaN</td>\n",
       "      <td>1.000000</td>\n",
       "    </tr>\n",
       "  </tbody>\n",
       "</table>\n",
       "</div>"
      ],
      "text/plain": [
       "              jobtitle                                     jobdescription  \\\n",
       "count              468                                                468   \n",
       "unique             357                                                464   \n",
       "top     Data Scientist  Company Bio IMAGINE a hospital where everyone ...   \n",
       "freq                38                                                  2   \n",
       "mean               NaN                                                NaN   \n",
       "std                NaN                                                NaN   \n",
       "min                NaN                                                NaN   \n",
       "25%                NaN                                                NaN   \n",
       "50%                NaN                                                NaN   \n",
       "75%                NaN                                                NaN   \n",
       "max                NaN                                                NaN   \n",
       "\n",
       "             label  \n",
       "count   468.000000  \n",
       "unique         NaN  \n",
       "top            NaN  \n",
       "freq           NaN  \n",
       "mean      0.290598  \n",
       "std       0.454524  \n",
       "min       0.000000  \n",
       "25%       0.000000  \n",
       "50%       0.000000  \n",
       "75%       1.000000  \n",
       "max       1.000000  "
      ]
     },
     "execution_count": 4,
     "metadata": {},
     "output_type": "execute_result"
    }
   ],
   "source": [
    "df_data.describe(include='all')"
   ]
  },
  {
   "cell_type": "markdown",
   "metadata": {},
   "source": [
    "According to this, we actually have 4 duplicate job descriptions."
   ]
  },
  {
   "cell_type": "markdown",
   "metadata": {},
   "source": [
    "## Create Train and Test Data Sets\n",
    "\n",
    "Here, we will divide the dataset into training and test data sets using sklearn's train_test_split method. Using this approach instead of dividing directly into X test, X train, y test, and y train data will allow for the text data being used for X train cannot include any information that the X test would provide, thus preventing data leakage."
   ]
  },
  {
   "cell_type": "code",
   "execution_count": 5,
   "metadata": {},
   "outputs": [
    {
     "name": "stdout",
     "output_type": "stream",
     "text": [
      "x_train shape is (327,)  and x_test shape is  (141,)\n",
      "y_train shape is (327,)  and y_test shape is  (141,)\n"
     ]
    }
   ],
   "source": [
    "x_train, x_test, y_train, y_test = train_test_split(df_data['jobdescription'], df_data['label'],\n",
    "                               test_size=0.30,\n",
    "                               random_state=123,\n",
    "                               stratify= df_data['label'])\n",
    "\n",
    "\n",
    "print(\"x_train shape is\", x_train.shape, \" and x_test shape is \", x_test.shape)\n",
    "print(\"y_train shape is\", y_train.shape, \" and y_test shape is \", y_test.shape)"
   ]
  },
  {
   "cell_type": "markdown",
   "metadata": {},
   "source": [
    "Use TF-IDF to extract features before fitting the classifer."
   ]
  },
  {
   "cell_type": "code",
   "execution_count": 6,
   "metadata": {},
   "outputs": [],
   "source": [
    "# create custom stopwords set\n",
    "combined_stopwords = ENGLISH_STOP_WORDS.union(stopwords.words('french'))\n",
    "custom_stopwords = ['data', 'scientist', 'science', 'scientist', 'skills', 'ability', 'bachelor', 'degree', 'work', 'years', 'equal', 'opportunity', 'employer', 'objectives', 'ontario', 'canada', 'disability', 'strong', 'including', 'understanding', 'related', 'experience', 'including', 'job', 'requirements']\n",
    "\n",
    "#combine custom_stopwords and combined_stopwords from above\n",
    "custcomb_stopwords = combined_stopwords.union(custom_stopwords)\n",
    "\n",
    "# Initialize TFIDF Vectorizer\n",
    "tvec = TfidfVectorizer(analyzer = 'word',  \n",
    "                       stop_words = custcomb_stopwords, \n",
    "                       lowercase= True, \n",
    "                       min_df=4\n",
    "                       )"
   ]
  },
  {
   "cell_type": "code",
   "execution_count": 7,
   "metadata": {},
   "outputs": [
    {
     "name": "stdout",
     "output_type": "stream",
     "text": [
      "x train shape (327, 3203)\n",
      "x test shape (141, 3203)\n"
     ]
    }
   ],
   "source": [
    "# Fit text data\n",
    "tvec.fit(x_train)\n",
    "\n",
    "x_train_tfidf = tvec.transform(x_train.values)\n",
    "x_test_tfidf = tvec.transform(x_test.values)\n",
    "\n",
    "print(\"x train shape\", x_train_tfidf.shape)\n",
    "print(\"x test shape\", x_test_tfidf.shape)"
   ]
  },
  {
   "cell_type": "markdown",
   "metadata": {},
   "source": [
    "## Baseline Model with Log Reg"
   ]
  },
  {
   "cell_type": "code",
   "execution_count": 8,
   "metadata": {},
   "outputs": [
    {
     "name": "stdout",
     "output_type": "stream",
     "text": [
      "The mean of cross validation is:  0.9824084921411014\n"
     ]
    }
   ],
   "source": [
    "logreg = LogisticRegression(solver='liblinear')\n",
    "kfold = KFold(n_splits= 5, random_state= 7, shuffle= True)\n",
    "clf_result = cross_val_score(logreg, x_train_tfidf, y_train, cv=kfold, scoring='roc_auc')\n",
    "print(\"The mean of cross validation is: \", clf_result.mean())"
   ]
  },
  {
   "cell_type": "markdown",
   "metadata": {},
   "source": [
    "### Evaluation Metrics of Test data"
   ]
  },
  {
   "cell_type": "code",
   "execution_count": 9,
   "metadata": {},
   "outputs": [
    {
     "name": "stdout",
     "output_type": "stream",
     "text": [
      "Classification Report: \n",
      "Precision: 1.0, \n",
      "Recall: 0.659, \n",
      "F-score: 0.794, \n",
      "Accuracy: 0.901\n"
     ]
    }
   ],
   "source": [
    "# Predict y values using x test values\n",
    "model = logreg.fit(x_train_tfidf, y_train)\n",
    "y_pred = model.predict(x_test_tfidf)\n",
    "precision, recall, fscore, support = score(y_test, \n",
    "                                            y_pred, \n",
    "                                            pos_label=1, \n",
    "                                            average ='binary')\n",
    "\n",
    "print(\"Classification Report: \\nPrecision: {}, \\nRecall: {}, \\nAccuracy: {}\".format(round(precision,3),round(recall,3),round(fscore,3),round((y_pred==y_test).sum()/len(y_test),3)))"
   ]
  },
  {
   "cell_type": "code",
   "execution_count": 10,
   "metadata": {
    "scrolled": true
   },
   "outputs": [
    {
     "data": {
      "text/plain": [
       "Text(0.5, 12.0, 'Predicted Label')"
      ]
     },
     "execution_count": 10,
     "metadata": {},
     "output_type": "execute_result"
    },
    {
     "data": {
      "image/png": "[encoded data removed]",
      "text/plain": [
       "<Figure size 432x288 with 2 Axes>"
      ]
     },
     "metadata": {
      "needs_background": "light"
     },
     "output_type": "display_data"
    }
   ],
   "source": [
    "# Plot confusion matrix\n",
    "class_labels = [\"Data Analyst(0)\", \"Data Scientist (1)\"]\n",
    "\n",
    "fig, ax = plt.subplots()\n",
    "tick_marks = np.arange(len(class_labels))\n",
    "plt.xticks(tick_marks, class_labels, fontsize = 12)\n",
    "plt.yticks(tick_marks, class_labels, fontsize = 12)\n",
    "\n",
    "# Create heatmap\n",
    "conf_df = pd.DataFrame(confusion_matrix(y_test, y_pred))\n",
    "sns.heatmap(conf_df, annot=True, cmap=\"YlGnBu_r\", fmt='g')\n",
    "plt.tight_layout()\n",
    "plt.ylabel(\"Actual Label\", fontsize = 20)\n",
    "plt.xlabel(\"Predicted Label\", fontsize = 20)"
   ]
  },
  {
   "cell_type": "code",
   "execution_count": 11,
   "metadata": {
    "scrolled": true
   },
   "outputs": [
    {
     "name": "stdout",
     "output_type": "stream",
     "text": [
      "              precision    recall  f1-score   support\n",
      "\n",
      "           0       0.88      1.00      0.93       100\n",
      "           1       1.00      0.66      0.79        41\n",
      "\n",
      "    accuracy                           0.90       141\n",
      "   macro avg       0.94      0.83      0.86       141\n",
      "weighted avg       0.91      0.90      0.89       141\n",
      "\n"
     ]
    }
   ],
   "source": [
    "# classifiction metrics\n",
    "print(metrics.classification_report(y_test, y_pred))"
   ]
  },
  {
   "cell_type": "markdown",
   "metadata": {},
   "source": [
    "### Create a DF to hold Prediction Outcomes"
   ]
  },
  {
   "cell_type": "code",
   "execution_count": 12,
   "metadata": {},
   "outputs": [
    {
     "data": {
      "text/html": [
       "<div>\n",
       "<style scoped>\n",
       "    .dataframe tbody tr th:only-of-type {\n",
       "        vertical-align: middle;\n",
       "    }\n",
       "\n",
       "    .dataframe tbody tr th {\n",
       "        vertical-align: top;\n",
       "    }\n",
       "\n",
       "    .dataframe thead th {\n",
       "        text-align: right;\n",
       "    }\n",
       "</style>\n",
       "<table border=\"1\" class=\"dataframe\">\n",
       "  <thead>\n",
       "    <tr style=\"text-align: right;\">\n",
       "      <th></th>\n",
       "      <th>Actual</th>\n",
       "      <th>Prediction for 1</th>\n",
       "      <th>Prediction Probability for 0 (Analyst)</th>\n",
       "      <th>Prediction Probability for 1 (Scientist)</th>\n",
       "    </tr>\n",
       "  </thead>\n",
       "  <tbody>\n",
       "    <tr>\n",
       "      <th>0</th>\n",
       "      <td>0</td>\n",
       "      <td>0</td>\n",
       "      <td>0.885389</td>\n",
       "      <td>0.114611</td>\n",
       "    </tr>\n",
       "    <tr>\n",
       "      <th>1</th>\n",
       "      <td>0</td>\n",
       "      <td>0</td>\n",
       "      <td>0.746971</td>\n",
       "      <td>0.253029</td>\n",
       "    </tr>\n",
       "    <tr>\n",
       "      <th>2</th>\n",
       "      <td>0</td>\n",
       "      <td>0</td>\n",
       "      <td>0.801984</td>\n",
       "      <td>0.198016</td>\n",
       "    </tr>\n",
       "    <tr>\n",
       "      <th>3</th>\n",
       "      <td>0</td>\n",
       "      <td>0</td>\n",
       "      <td>0.872286</td>\n",
       "      <td>0.127714</td>\n",
       "    </tr>\n",
       "    <tr>\n",
       "      <th>4</th>\n",
       "      <td>1</td>\n",
       "      <td>0</td>\n",
       "      <td>0.510285</td>\n",
       "      <td>0.489715</td>\n",
       "    </tr>\n",
       "    <tr>\n",
       "      <th>5</th>\n",
       "      <td>1</td>\n",
       "      <td>1</td>\n",
       "      <td>0.386985</td>\n",
       "      <td>0.613015</td>\n",
       "    </tr>\n",
       "    <tr>\n",
       "      <th>6</th>\n",
       "      <td>0</td>\n",
       "      <td>0</td>\n",
       "      <td>0.891809</td>\n",
       "      <td>0.108191</td>\n",
       "    </tr>\n",
       "    <tr>\n",
       "      <th>7</th>\n",
       "      <td>0</td>\n",
       "      <td>0</td>\n",
       "      <td>0.777460</td>\n",
       "      <td>0.222540</td>\n",
       "    </tr>\n",
       "    <tr>\n",
       "      <th>8</th>\n",
       "      <td>0</td>\n",
       "      <td>0</td>\n",
       "      <td>0.857545</td>\n",
       "      <td>0.142455</td>\n",
       "    </tr>\n",
       "    <tr>\n",
       "      <th>9</th>\n",
       "      <td>1</td>\n",
       "      <td>0</td>\n",
       "      <td>0.707452</td>\n",
       "      <td>0.292548</td>\n",
       "    </tr>\n",
       "  </tbody>\n",
       "</table>\n",
       "</div>"
      ],
      "text/plain": [
       "   Actual  Prediction for 1  Prediction Probability for 0 (Analyst)  \\\n",
       "0       0                 0                                0.885389   \n",
       "1       0                 0                                0.746971   \n",
       "2       0                 0                                0.801984   \n",
       "3       0                 0                                0.872286   \n",
       "4       1                 0                                0.510285   \n",
       "5       1                 1                                0.386985   \n",
       "6       0                 0                                0.891809   \n",
       "7       0                 0                                0.777460   \n",
       "8       0                 0                                0.857545   \n",
       "9       1                 0                                0.707452   \n",
       "\n",
       "   Prediction Probability for 1 (Scientist)  \n",
       "0                                  0.114611  \n",
       "1                                  0.253029  \n",
       "2                                  0.198016  \n",
       "3                                  0.127714  \n",
       "4                                  0.489715  \n",
       "5                                  0.613015  \n",
       "6                                  0.108191  \n",
       "7                                  0.222540  \n",
       "8                                  0.142455  \n",
       "9                                  0.292548  "
      ]
     },
     "execution_count": 12,
     "metadata": {},
     "output_type": "execute_result"
    }
   ],
   "source": [
    "job_df = pd.DataFrame(y_test.values, columns=['Actual'])\n",
    "job_df['Prediction for 1'] = y_pred\n",
    "job_df['Prediction Probability for 0 (Analyst)'] = model.predict_proba(x_test_tfidf)[:,0]\n",
    "job_df['Prediction Probability for 1 (Scientist)'] = model.predict_proba(x_test_tfidf)[:,1]\n",
    "job_df.head(10)"
   ]
  },
  {
   "cell_type": "markdown",
   "metadata": {},
   "source": [
    "### ROC Curve\n",
    "\n",
    "Receiver Operating Characteristic (ROC) curve is a performance metric for binary clssification problems, which plots the true positive rate (tpr) against the false positive rate (fpr). The Area Under the Curve (AUC) represents a model's ability to discriminate between the two classes."
   ]
  },
  {
   "cell_type": "code",
   "execution_count": 13,
   "metadata": {},
   "outputs": [
    {
     "data": {
      "image/png": "[encoded data removed]",
      "text/plain": [
       "<Figure size 432x288 with 1 Axes>"
      ]
     },
     "metadata": {
      "needs_background": "light"
     },
     "output_type": "display_data"
    }
   ],
   "source": [
    "y_pred_proba = model.predict_proba(x_test_tfidf)[::,1]\n",
    "fpr, tpr, _ = metrics.roc_curve(y_test, y_pred_proba)\n",
    "\n",
    "plt.plot(fpr, tpr, label=\"ROC Curve\")\n",
    "plt.legend(loc=4)\n",
    "plt.show()"
   ]
  },
  {
   "cell_type": "code",
   "execution_count": 14,
   "metadata": {
    "scrolled": true
   },
   "outputs": [
    {
     "name": "stdout",
     "output_type": "stream",
     "text": [
      "The AUC is  0.9675609756097561\n"
     ]
    }
   ],
   "source": [
    "# area under the curve metric\n",
    "auc = metrics.roc_auc_score(y_test, y_pred_proba)\n",
    "print(\"The AUC is \", auc)"
   ]
  },
  {
   "cell_type": "markdown",
   "metadata": {},
   "source": [
    "### Learning Curve"
   ]
  },
  {
   "cell_type": "code",
   "execution_count": null,
   "metadata": {},
   "outputs": [],
   "source": [
    "from custom_utils import learning_curve\n",
    "\n",
    "plot_learning_curve(model, x_train_tfidf, y_train, scoring='accuracy', figsize=(6,4))"
   ]
  },
  {
   "cell_type": "markdown",
   "metadata": {},
   "source": [
    "## Save Model\n",
    "\n",
    "Here, we can save the model we've developed."
   ]
  },
  {
   "cell_type": "code",
   "execution_count": 15,
   "metadata": {},
   "outputs": [],
   "source": [
    "import pickle\n",
    "\n",
    "filename = 'jobmarket_logreg.pkl'\n",
    "pickle.dump(model, open(filename, 'wb'))"
   ]
  },
  {
   "cell_type": "markdown",
   "metadata": {},
   "source": [
    "## Further Inspection of our Model\n",
    "\n",
    "### Important Words\n",
    "\n",
    "To better understand how out classifier is making decisions, we'll look at which features are considered important and which ones aren't.\n",
    "\n",
    "Recall from earlier, we used logreg as an instance for LogReg. \"model\" is the log reg clf fit to training data. tvec an instance of TFIDF vectorizer."
   ]
  },
  {
   "cell_type": "code",
   "execution_count": 16,
   "metadata": {},
   "outputs": [],
   "source": [
    "# get most important features\n",
    "\n",
    "def get_most_important_features(vectorizer, model, n=5):\n",
    "    '''Function returns most important words to differentiate between binary classification.'''\n",
    "    # use vocabulary attribute to access mapping of terms to feature indices\n",
    "    index_to_word = {vec:key for key,vec in vectorizer.vocabulary_.items()}\n",
    "\n",
    "    classes = {}\n",
    "    for class_index in range(model.coef_.shape[0]): # range(1)\n",
    "        # access coefficient\n",
    "        word_importances = [(ec, index_to_word[i]) for i, ec in enumerate(model.coef_[class_index])]\n",
    "        sorted_coef = sorted(word_importances, key = lambda x: x[0], reverse=True)\n",
    "        # assign highest sorted value to top\n",
    "        tops = sorted(sorted_coef[:n], key = lambda x: x[0])\n",
    "        # assign lowest sorted values to var bottom\n",
    "        bottom = sorted_coef[-n:]\n",
    "        classes[class_index] = {'top': tops, 'bottom': bottom}\n",
    "    return classes\n"
   ]
  },
  {
   "cell_type": "code",
   "execution_count": 17,
   "metadata": {},
   "outputs": [
    {
     "data": {
      "text/plain": [
       "{0: {'top': [(0.774985472326483, 'predictive'),\n",
       "   (0.80481306096562, 'engineering'),\n",
       "   (0.8073435263436867, 'ml'),\n",
       "   (0.811887292294547, 'python'),\n",
       "   (0.8746207996864245, 'deep'),\n",
       "   (0.899456057969558, 'statistical'),\n",
       "   (1.090006915914013, 'algorithms'),\n",
       "   (1.3393739932210957, 'models'),\n",
       "   (2.5758133818610176, 'machine'),\n",
       "   (2.6569714896837655, 'learning')],\n",
       "  'bottom': [(-0.4920220013775421, 'excel'),\n",
       "   (-0.5111929950448622, 'market'),\n",
       "   (-0.5244487358223723, 'project'),\n",
       "   (-0.5432898574393911, 'risk'),\n",
       "   (-0.6531820333949069, 'support'),\n",
       "   (-0.6703828605420851, 'reports'),\n",
       "   (-0.7404296042515731, 'reporting'),\n",
       "   (-0.7622558303611562, 'sales'),\n",
       "   (-0.7648244479473533, 'management'),\n",
       "   (-1.0050259897689622, 'business')]}}"
      ]
     },
     "execution_count": 17,
     "metadata": {},
     "output_type": "execute_result"
    }
   ],
   "source": [
    "importance = get_most_important_features(tvec, model, 10)\n",
    "importance"
   ]
  },
  {
   "cell_type": "markdown",
   "metadata": {},
   "source": [
    "### Plot the most important words\n",
    "\n",
    "We just combined the vocab words with coefficient/score and is now stored in \"importance\" variable.\n",
    "\n",
    "Plot the words vs scores for both the top and bottom scoring words."
   ]
  },
  {
   "cell_type": "code",
   "execution_count": 19,
   "metadata": {},
   "outputs": [],
   "source": [
    "# first we need to separate the words from the scores\n",
    "top_scores = [a[0] for a in importance[0]['top']]\n",
    "top_words = [a[1] for a in importance[0]['top']]\n",
    "bottom_scores = [-a[0] for a in importance[0]['bottom']]\n",
    "bottom_words = [a[1] for a in importance[0]['bottom']]"
   ]
  },
  {
   "cell_type": "code",
   "execution_count": 20,
   "metadata": {},
   "outputs": [
    {
     "data": {
      "image/png": "[encoded data removed]",
      "text/plain": [
       "<Figure size 720x720 with 2 Axes>"
      ]
     },
     "metadata": {
      "needs_background": "light"
     },
     "output_type": "display_data"
    }
   ],
   "source": [
    "# Plot the word importance for each class\n",
    "fig = plt.figure(figsize=(10, 10))\n",
    "\n",
    "plt.subplot(1, 2, 1)\n",
    "plt.barh(bottom_words, bottom_scores)\n",
    "plt.title(\"Data Analyst\", fontsize=18)\n",
    "plt.yticks(bottom_words, fontsize=14)\n",
    "plt.xlabel('Importance', fontsize=20)\n",
    "\n",
    "plt.subplot(1, 2, 2)\n",
    "plt.barh(top_words, top_scores)\n",
    "plt.title(\"Data Scientist\", fontsize=18)\n",
    "plt.yticks(top_words, fontsize=14)\n",
    "plt.xlabel('Importance', fontsize=20)\n",
    "\n",
    "plt.subplots_adjust(wspace = 0.8)\n",
    "plt.show()"
   ]
  },
  {
   "cell_type": "markdown",
   "metadata": {},
   "source": [
    "### Compare top skills\n",
    "\n",
    "Compare the top skills found with feature importance through modeling with the skills identified through pattern matching (EDA)."
   ]
  },
  {
   "cell_type": "code",
   "execution_count": 66,
   "metadata": {},
   "outputs": [],
   "source": [
    "# import top skills identifies by pattern matching\n",
    "analyst10 = pd.read_csv(\"top10_analyst_skills.csv\")\n",
    "scientist10 = pd.read_csv(\"top10_scientist_skills.csv\")\n",
    "\n",
    "# convert to list\n",
    "analyst10_patt = set(analyst10['Skill'].str.lower().tolist())\n",
    "scientist10_patt = set(scientist10['Skill'].str.lower().tolist())"
   ]
  },
  {
   "cell_type": "code",
   "execution_count": 71,
   "metadata": {},
   "outputs": [],
   "source": [
    "# most important words from log reg model\n",
    "analyst10_log = set(bottom_words)\n",
    "scientist10_log = set(top_words)"
   ]
  },
  {
   "cell_type": "code",
   "execution_count": 73,
   "metadata": {},
   "outputs": [
    {
     "name": "stdout",
     "output_type": "stream",
     "text": [
      "Analyst skills in both:\n",
      " {'excel'}\n",
      "Analyst skills in pattern matching only:\n",
      " {'research', 'tableau', 'python', 'database', 'power bi', 'ad-hoc', 'statistics', 'sql', 'visualization'}\n",
      "Analyst skills found by modeling:\n",
      " {'support', 'project', 'sales', 'reporting', 'reports', 'market', 'management', 'business', 'risk'}\n"
     ]
    }
   ],
   "source": [
    "# analyst\n",
    "analyst_both = set(analyst10_patt).intersection(analyst10_log)\n",
    "print(\"Analyst skills in both:\\n\", analyst_both)\n",
    "an_patt_only = set(analyst10_patt).difference(analyst10_log)\n",
    "print(\"Analyst skills in pattern matching only:\\n\", an_patt_only)\n",
    "an_log_only = analyst10_log.difference(set(analyst10_patt))\n",
    "print(\"Analyst words found by modeling:\\n\", an_log_only)"
   ]
  },
  {
   "cell_type": "code",
   "execution_count": 75,
   "metadata": {},
   "outputs": [
    {
     "name": "stdout",
     "output_type": "stream",
     "text": [
      "Data scientist in both:\n",
      " {'python'}\n",
      "Data scientist skills in pattern matching:\n",
      " {'research', 'r', 'spark', 'machine learning', 'tableau', 'statistics', 'sql', 'hadoop', 'visualization'}\n",
      "Data scientist skills found by modeling:\n",
      " {'deep', 'machine', 'predictive', 'statistical', 'engineering', 'algorithms', 'ml', 'models', 'learning'}\n"
     ]
    }
   ],
   "source": [
    "# scientist\n",
    "scientist_both = scientist10_patt.intersection(scientist10_log)\n",
    "print(\"Data scientist skills in both:\\n\",scientist_both)\n",
    "patt_only = scientist10_patt.difference(scientist10_log)\n",
    "print(\"Data scientist skills in pattern matching:\\n\",patt_only)\n",
    "sci_log_only = scientist10_log.difference(scientist10_patt)\n",
    "print(\"Data scientist words found by modeling:\\n\", sci_log_only)"
   ]
  },
  {
   "cell_type": "code",
   "execution_count": 80,
   "metadata": {},
   "outputs": [
    {
     "data": {
      "image/png": "[encoded data removed]",
      "text/plain": [
       "<Figure size 432x288 with 1 Axes>"
      ]
     },
     "metadata": {},
     "output_type": "display_data"
    }
   ],
   "source": [
    "import matplotlib.pyplot as plt\n",
    "from matplotlib_venn import venn2\n",
    "\n",
    "# Data Analyst results\n",
    "fig1 = venn2([analyst10_patt, analyst10_log], set_labels = ('Pattern Matching', 'Modeling'))\n",
    "# add text\n",
    "fig1.get_label_by_id(\"10\").set_text(\"\\n\".join(analyst10_patt - analyst10_log))\n",
    "fig1.get_label_by_id(\"11\").set_text(\"\\n\".join(analyst10_patt & analyst10_log))\n",
    "fig1.get_label_by_id(\"01\").set_text(\"\\n\".join(analyst10_log - analyst10_patt))\n",
    "plt.title('Results for Data Analyst')\n",
    "plt.show()"
   ]
  },
  {
   "cell_type": "code",
   "execution_count": 81,
   "metadata": {},
   "outputs": [
    {
     "data": {
      "image/png": "[encoded data removed]",
      "text/plain": [
       "<Figure size 432x288 with 1 Axes>"
      ]
     },
     "metadata": {},
     "output_type": "display_data"
    }
   ],
   "source": [
    "fig2 = venn2([scientist10_patt, scientist10_log], set_labels = ('Pattern Matching', 'Modeling'))\n",
    "# add text\n",
    "fig2.get_label_by_id(\"10\").set_text(\"\\n\".join(scientist10_patt - scientist10_log))\n",
    "fig2.get_label_by_id(\"11\").set_text(\"\\n\".join(scientist10_patt & scientist10_log))\n",
    "fig2.get_label_by_id(\"01\").set_text(\"\\n\".join(scientist10_log - scientist10_patt))\n",
    "plt.title('Results for Data Scientist')\n",
    "plt.show()"
   ]
  },
  {
   "cell_type": "code",
   "execution_count": null,
   "metadata": {},
   "outputs": [],
   "source": []
  }
 ],
 "metadata": {
  "kernelspec": {
   "display_name": "Python 3.9.10 ('tensorflow')",
   "language": "python",
   "name": "python3"
  },
  "language_info": {
   "codemirror_mode": {
    "name": "ipython",
    "version": 3
   },
   "file_extension": ".py",
   "mimetype": "text/x-python",
   "name": "python",
   "nbconvert_exporter": "python",
   "pygments_lexer": "ipython3",
   "version": "3.9.10"
  },
  "vscode": {
   "interpreter": {
    "hash": "4bd624a0593993fe43ac4046b27b898fb2ef75c21c08f81e89e64ea0f51df676"
   }
  }
 },
 "nbformat": 4,
 "nbformat_minor": 4
}
