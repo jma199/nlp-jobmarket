{
 "metadata": {
  "language_info": {
   "codemirror_mode": {
    "name": "ipython",
    "version": 3
   },
   "file_extension": ".py",
   "mimetype": "text/x-python",
   "name": "python",
   "nbconvert_exporter": "python",
   "pygments_lexer": "ipython3",
   "version": "3.6.8"
  },
  "orig_nbformat": 2,
  "kernelspec": {
   "name": "python3",
   "display_name": "Python 3",
   "language": "python"
  }
 },
 "nbformat": 4,
 "nbformat_minor": 2,
 "cells": [
  {
   "source": [
    "<h1>Job Market Trends</h1>\n",
    "<h2>Extract, Transform, and Load Data</h2>\n",
    "\n",
    "Data Analyst vs Data Scientist job"
   ],
   "cell_type": "markdown",
   "metadata": {}
  },
  {
   "cell_type": "code",
   "execution_count": 1,
   "metadata": {},
   "outputs": [],
   "source": [
    "import os\n",
    "import codecs\n",
    "from bs4 import BeautifulSoup"
   ]
  },
  {
   "source": [
    "<h2>Part 1: Access data files within a Directory</h2>\n",
    "\n",
    "The job postings are stored as files within a directory, so we will create a function to iterate through files in a directory to be able to open each one."
   ],
   "cell_type": "markdown",
   "metadata": {}
  },
  {
   "cell_type": "code",
   "execution_count": 14,
   "metadata": {},
   "outputs": [
    {
     "output_type": "stream",
     "name": "stdout",
     "text": [
      "/Users/jenniferma/Documents/Python Coding/nlp-JobMarket\n"
     ]
    }
   ],
   "source": [
    "# first check that we are in the correct directory\n",
    "print(os.getcwd())"
   ]
  },
  {
   "cell_type": "code",
   "execution_count": 15,
   "metadata": {},
   "outputs": [
    {
     "output_type": "stream",
     "name": "stdout",
     "text": [
      "main_eda.ipynb \u001b[34mtest_folder\u001b[m\u001b[m\n"
     ]
    }
   ],
   "source": [
    "# print a list of the files in the working directory\n",
    "!ls"
   ]
  },
  {
   "cell_type": "code",
   "execution_count": 17,
   "metadata": {},
   "outputs": [
    {
     "output_type": "stream",
     "name": "stdout",
     "text": [
      "<div id=\"viewJobSSRRoot\"><div class=\"jobsearch-JobComponent icl-u-xs-mt--sm jobsearch-JobComponent-bottomDivider\"><div id=\"welcomeToIndeedCard\"></div><div class=\"jobsearch-JobInfoHeader-headerImageContainerEji jobsearch-JobInfoHeader-headerImageContainerEjiFull jobsearch-JobInfoHeader-headerImageContainerWithoutLogo\"><img src=\"https://d2q79iu7y748jz.cloudfront.net/s/_headerimage/87431115799317778d191acb194bc5bd\" alt=\"company logo image\" class=\"jobsearch-JobInfoHeader-headerImage\"><img src=\"https://d2q79iu7y748jz.cloudfront.net/s/_squarelogo/b164916702b52e4a7b49afd9a2f3708a\" alt=\"company logo image\" class=\"jobsearch-JobInfoHeader-logo jobsearch-JobInfoHeader-logo-overlay-lower\"></div><div class=\"jobsearch-DesktopStickyContainerTrigger\"></div><div class=\"jobsearch-DesktopStickyContainer\"><div><div class=\"jobsearch-JobInfoHeader-title-container jobsearch-JobInfoHeader-title-containerEji\"><h1 class=\"icl-u-xs-mb--xs icl-u-xs-mt--none jobsearch-JobInfoHeader-title\">Business Intelligence (BI) Engineer</h1></div><div class=\"jobsearch-CompanyInfoWithoutHeaderImage jobsearch-CompanyInfoWithReview jobsearch-CompanyInfoEji\"><div class=\"\"><div class=\"icl-u-xs-mt--xs icl-u-textColor--secondary jobsearch-JobInfoHeader-subtitle jobsearch-DesktopStickyContainer-subtitle\"><div class=\"jobsearch-InlineCompanyRating icl-u-xs-mt--xs jobsearch-DesktopStickyContainer-companyrating\"><div class=\"icl-u-lg-mr--sm icl-u-xs-mr--xs\"><a href=\"https://ca.indeed.com/cmp/Goeasy?campaignid=mobvjcmp&amp;from=mobviewjob&amp;tk=1eum6nr0ht3rn800&amp;fromjk=20722f7d228e6952\" target=\"_blank\">goeasy</a></div><div class=\"icl-u-lg-block icl-u-lg-mr--sm icl-u-xs-hide\"><div class=\"icl-Ratings icl-Ratings--sm icl-Ratings--gold\" itemscope=\"\" itemtype=\"http://schema.org/AggregateRating\"><meta itemprop=\"ratingValue\" content=\"3.3\"><meta itemprop=\"ratingCount\" content=\"269\"><a href=\"https://ca.indeed.com/cmp/Goeasy/reviews?campaignid=mobvjcmp&amp;cmpratingc=mobviewjob&amp;from=mobviewjob&amp;tk=1eum6nr0ht3rn800&amp;fromjk=20722f7d228e6952&amp;jt=Business+Intelligence+%28BI%29+Engineer\" class=\"icl-Ratings-starsCountWrapper icl-Ratings-link\" aria-label=\"3.3 out of 5 stars from 269 employee ratings\" target=\"_blank\"><div class=\"icl-Ratings-starsWrapper\"><div class=\"icl-Ratings-starsUnfilled\"><div class=\"icl-Ratings-starsFilled\" style=\"width: 40.8px;\"></div></div></div><div class=\"icl-Ratings-count\" aria-hidden=\"true\">269 reviews</div></a></div></div></div><div>Mississauga, ON</div></div></div></div></div><div class=\"jobsearch-EmployerActivity-container icl-u-xs-mt--xs icl-u-textColor--secondary\">Employer actively reviewed candidates 15 days ago</div><div class=\"jobsearch-CompanyReview icl-u-lg-hide\"><a class=\"icl-NavigableContainer-linkWrapper\" href=\"https://ca.indeed.com/cmp/Goeasy/reviews?campaignid=mobvjcmp&amp;cmpratingc=mobviewjob&amp;from=mobviewjob&amp;tk=1eum6nr0ht3rn800&amp;fromjk=20722f7d228e6952&amp;jt=Business+Intelligence+%28BI%29+Engineer\"><div class=\"icl-NavigableContainer icl-NavigableContainer--hasBorderBottom icl-NavigableContainer--hasBorderTop\" role=\"button\" tabindex=\"0\"><div class=\"icl-NavigableContainer-innerContainer\"><div class=\"jobsearch-CompanyReview--heading\">goeasy</div><div class=\"icl-Ratings icl-Ratings--md icl-Ratings--gold\" itemscope=\"\" itemtype=\"http://schema.org/AggregateRating\"><meta itemprop=\"ratingValue\" content=\"3.3\"><meta itemprop=\"ratingCount\" content=\"269\"><div class=\"icl-Ratings-starsCountWrapper\" role=\"img\" aria-label=\"3.3 out of 5 stars from 269 employee ratings\"><div class=\"icl-Ratings-starsWrapper\"><div class=\"icl-Ratings-starsUnfilled\"><div class=\"icl-Ratings-starsFilled\" style=\"width: 60.6px;\"></div></div></div><div class=\"icl-Ratings-count\" aria-hidden=\"true\">269 reviews</div></div><div class=\"icl-Ratings-description\" aria-hidden=\"true\">Read what people are saying about working here.</div></div><div class=\"icl-NavigableContainer-iconContainer\"><div class=\"icl-NavigableContainer-icon icl-NavigableContainer-icon--isLeftArrow\"><svg class=\"icl-Icon icl-Icon--black icl-Icon--sm\" aria-hidden=\"true\" aria-label=\"chevron-left icon\" focusable=\"false\" viewBox=\"0 0 18 18\"><g><path d=\"M11.56,5.56L10.5,4.5,6,9l4.5,4.5,1.06-1.06L8.12,9Z\"></path></g></svg></div><div class=\"icl-NavigableContainer-icon icl-NavigableContainer-icon--isRightArrow\"><svg class=\"icl-Icon icl-Icon--black icl-Icon--sm\" aria-hidden=\"true\" aria-label=\"chevron-right icon\" focusable=\"false\" viewBox=\"0 0 18 18\"><g><path d=\"M7.5,4.5L6.44,5.56,9.88,9,6.44,12.44,7.5,13.5,12,9Z\"></path></g></svg></div></div></div></div></a></div><div class=\"icl-u-lg-block icl-u-xs-hide\"><div class=\"icl-u-xs-my--sm\"></div></div><div id=\"indeedApplyExplanationContainer\"></div><div id=\"jobsearch-ViewJobButtons-container\" class=\"jobsearch-ViewJobButtons-container icl-Grid-col icl-u-xs-span12 icl-u-xs-textCenter icl-u-lg-textLeft jobsearch-DesktopStickyContainer-buttonscontainer\"><div id=\"aboveViewjobButtons\" class=\"mosaic mosaic-empty-zone\"></div><div class=\"jobsearch-ButtonContainer-inlineBlock icl-u-lg-inlineBlock jobsearch-indeedApplyButton-bottomMargin\"><div id=\"indeedApplyButtonContainer\" class=\"jobsearch-IndeedApplyButton\"><span class=\"indeed-apply-widget indeed-apply-button-container indeed-apply-status-not-applied\" id=\"indeedApplyWidget\" data-indeed-apply-apitoken=\"5c9e4c2953f5f040c5b947c46dc93657532fc3ec6560bae1383dcbbf216c1157\" data-indeed-apply-jobtitle=\"Business Intelligence (BI) Engineer\" data-indeed-apply-jobid=\"82951\" data-indeed-apply-joblocation=\"Mississauga, Ontario\" data-indeed-apply-jobcompanyname=\"goeasy\" data-indeed-apply-joburl=\"https://ca.indeed.com/viewjob?jk=20722f7d228e6952\" data-indeed-apply-questions=\"https://clients.talentnest.com/en/indeed/posting/64030/questions/NjQwMzAyMDIxLTAxLTI1IDE1OjMzOjQxIC0wNTAw\" data-indeed-apply-posturl=\"https://apply.talentnest.com\" data-indeed-apply-phone=\"required\" data-indeed-apply-advnum=\"7053904306406617\" data-indeed-apply-nobuttonui=\"true\" data-indeed-apply-pingbackurl=\"https://gdc.indeed.com/conv/orgIndApp?co=CA&amp;vjtk=1eum6nr0ht3rn800&amp;jk=20722f7d228e6952&amp;mvj=0&amp;tk=1eum6782csa1t801&amp;trk.origin=jobsearch&amp;sj=1&amp;vjfrom=web&amp;advn=7053904306406617&amp;adid=295200277&amp;ad=-6NYlbfkN0DbNJQGwjC-NEA80-qlVyEGmSv34Xx0eW4t4u9rXSv_7_tlvMU2e-Gw_wrZ47s1zPDXpMuFe4OTgylNMrH1itW4JOeMctPr--nI0FD7egS5KmXF4xVV24E1_3uSRuJm7AcrPsjPASKrlKBg_y2XXBfpsjEDejyHSAUBAoCFJ-V1N3N_YShzScRhvyQeROcYvbNSN7jTk7FwMkaAgWIvggTlPAunDwiLRckk7mCnLUHobUSySdbOjXeftXdA7SSc-7UkVttk9u4vJI0x8eKyywdmtn-blcMt0CW2Jfxa06RUuIvDvlSsdJvpAMJVYeFKstt_Vhd0DfbcEA%3D%3D&amp;astse=03af40dbd99511ef&amp;assa=9937\" data-indeed-apply-onappliedstatus=\"_updateIndeedApplyStatus\" data-indeed-apply-onready=\"_onButtonReady\" data-indeed-apply-jk=\"20722f7d228e6952\" data-indeed-apply-clickhandler=\"window.top.postMessage({eventType: 'click'}, '*')\" data-indeed-apply-dismisshandler=\"window.top.postMessage({eventType: 'dismiss'}, '*')\" data-indeed-apply-inpageapplyhandler=\"window.top.postMessage({eventType: 'inpageapply'}, '*')\" data-indeed-apply-recentapplies=\"{&quot;all&quot;:-1,&quot;qualified&quot;:-1}\" data-indeed-apply-continueurl=\"http://ca.indeed.com/viewjob?jk=20722f7d228e6952&amp;q=data+scientist&amp;l=Toronto%2C+ON&amp;tk=1eum6782csa1t801&amp;from=postapply&amp;advn=7053904306406617&amp;adid=295200277&amp;sjdu=e9f5akcGt-dBrBaOD0_PEFdU1AXw_cgDqhGbz6GdP5X1DhzVU-Zbrw388fzd_9lUcDxrOtLuOUEFV88N2kUpHNaMGApzaBUUBxwx164opCA&amp;acatk=1eum6nquat4as800&amp;pub=4a1b367933fd867b19b072952f68dceb&amp;vjs=3&amp;applied=1&amp;sita=1\" data-indeed-apply-recentsearchquery=\"{&quot;what&quot;:&quot;data scientist&quot;,&quot;where&quot;:&quot;Toronto, ON&quot;}\"><div class=\"icl-u-lg-hide\" data-reactroot=\"\"><button class=\"icl-Button icl-Button--branded icl-Button--lg icl-Button--block\" buttonsize=\"block\" type=\"button\"><div class=\"jobsearch-IndeedApplyButton-contentWrapper\"><span>Apply Now</span></div></button></div><div class=\"jobsearch-IndeedApplyButton-buttonWrapper icl-u-lg-block icl-u-xs-hide\" data-reactroot=\"\"><button class=\"icl-Button icl-Button--branded icl-Button--lg icl-Button--md\" buttonsize=\"md\" type=\"button\"><div class=\"jobsearch-IndeedApplyButton-contentWrapper\"><span>Apply Now</span></div></button></div></span></div></div><div id=\"saveJobButtonContainer\" class=\"icl-u-lg-inlineBlock\" data-loginurl=\"https://ca.indeed.com/account/login?dest=%2Fviewjob%3Fjk%3D20722f7d228e6952%26q%3Ddata%2Bscientist%26l%3DToronto%2C%2BON%26tk%3D1eum6782csa1t801%26from%3Dweb%26advn%3D7053904306406617%26adid%3D295200277%26ad%3D-6NYlbfkN0DbNJQGwjC-NEA80-qlVyEGmSv34Xx0eW4t4u9rXSv_7_tlvMU2e-Gw_wrZ47s1zPDXpMuFe4OTgylNMrH1itW4JOeMctPr--nI0FD7egS5KmXF4xVV24E1_3uSRuJm7AcrPsjPASKrlKBg_y2XXBfpsjEDejyHSAUBAoCFJ-V1N3N_YShzScRhvyQeROcYvbNSN7jTk7FwMkaAgWIvggTlPAunDwiLRckk7mCnLUHobUSySdbOjXeftXdA7SSc-7UkVttk9u4vJI0x8eKyywdmtn-blcMt0CW2Jfxa06RUuIvDvlSsdJvpAMJVYeFKstt_Vhd0DfbcEA%253D%253D%26sjdu%3De9f5akcGt-dBrBaOD0_PEFdU1AXw_cgDqhGbz6GdP5X1DhzVU-Zbrw388fzd_9lUcDxrOtLuOUEFV88N2kUpHNaMGApzaBUUBxwx164opCA%26acatk%3D1eum6nquat4as800%26pub%3D4a1b367933fd867b19b072952f68dceb%26vjs%3D3\"><div class=\"\"><div><div><div class=\"icl-u-lg-hide\"><button class=\"icl-Button icl-Button--secondary icl-Button--lg icl-Button--block\" type=\"button\"><span class=\"icl-ButtonIcon\"><svg role=\"img\" class=\"icl-Icon icl-Icon--inheritColor icl-Icon--sm\" aria-label=\"save-icon\" focusable=\"false\" viewBox=\"0 0 18 18\"><g><path d=\"M12.38,2.25A4.49,4.49,0,0,0,9,3.82,4.49,4.49,0,0,0,5.63,2.25,4.08,4.08,0,0,0,1.5,6.38c0,2.83,2.55,5.15,6.41,8.66L9,16l1.09-1C14,11.52,16.5,9.21,16.5,6.38A4.08,4.08,0,0,0,12.38,2.25ZM9.08,13.91L9,14l-0.08-.08C5.35,10.68,3,8.54,3,6.38A2.56,2.56,0,0,1,5.63,3.75,2.93,2.93,0,0,1,8.3,5.52H9.7a2.91,2.91,0,0,1,2.67-1.77A2.56,2.56,0,0,1,15,6.38C15,8.54,12.65,10.68,9.08,13.91Z\"></path></g></svg></span><span>Save this job</span></button></div><div class=\"icl-u-lg-block icl-u-xs-hide\"><button class=\"icl-Button icl-Button--secondary icl-Button--md icl-Button--block\" type=\"button\"><span class=\"icl-ButtonIcon\"><svg role=\"img\" class=\"icl-Icon icl-Icon--inheritColor icl-Icon--sm\" aria-label=\"save-icon\" focusable=\"false\" viewBox=\"0 0 18 18\"><g><path d=\"M12.38,2.25A4.49,4.49,0,0,0,9,3.82,4.49,4.49,0,0,0,5.63,2.25,4.08,4.08,0,0,0,1.5,6.38c0,2.83,2.55,5.15,6.41,8.66L9,16l1.09-1C14,11.52,16.5,9.21,16.5,6.38A4.08,4.08,0,0,0,12.38,2.25ZM9.08,13.91L9,14l-0.08-.08C5.35,10.68,3,8.54,3,6.38A2.56,2.56,0,0,1,5.63,3.75,2.93,2.93,0,0,1,8.3,5.52H9.7a2.91,2.91,0,0,1,2.67-1.77A2.56,2.56,0,0,1,15,6.38C15,8.54,12.65,10.68,9.08,13.91Z\"></path></g></svg></span><span>Save this job</span></button></div></div></div></div></div><div id=\"belowViewjobButtons\" class=\"mosaic mosaic-empty-zone\"></div><div class=\"mosaic mosaic-provider-jobsearch-feedback\" id=\"mosaic-provider-jobsearch-feedback\"></div></div><div class=\"jobsearch-StickyContainerDivider\"><div class=\"jobsearch-StickyContainerDivider-line\"></div></div></div><span></span><div id=\"aboveExtractedJobDescription\" class=\"mosaic mosaic-empty-zone\"></div><div class=\"jobsearch-JobComponent-description icl-u-xs-mt--md\"><div id=\"aboveFullJobDescription\" class=\"mosaic mosaic-empty-zone\"></div><div id=\"jobDescriptionText\" class=\"jobsearch-jobDescriptionText\"><div><p>If you are looking to join one of Canada’s fastest growing companies, goeasy Ltd. is the place for you! Recognized as <b>Canada’s Most Admired Corporate Cultures</b>, <b>GTA's Top 100 Employers,</b> one of <b>Canada’s Top 50 Fintech’s</b> and <b>North America’s Most Engaged Workplaces,</b> we want the best and brightest to join our team.</p>\n<p>\nWe are a publicly traded company on the TSX with over 4000% shareholder return since 2001, goeasy operates two main business units. easyfinancial is our consumer lending business that offers secured and unsecured installment loans of up to $45,000 and easyhome is Canada’s largest merchandise lease-to-own company. It is our vision to provide everyday Canadians the path for a better tomorrow, today by giving them access to the credit they need and by offering them a second chance when they have been turned down by banks and traditional lenders. With a retail network of nearly 400 locations across Canada and over 2000 employees, we are able to build lasting relationships with our customers as we help them rebuild their credit and graduate towards prime rates and a brighter financial future.</p>\n<p>\nThe<b> BI Engineer</b> is technical role within the Data Science and Business Insights team that requires a highly motivated and experienced BI professional to participate and contribute in all areas of advanced reporting &amp; analytics. The BI Engineer is expected to scope, analyze, develop, automate, enhance and validate BI reporting &amp; analytics, and dashboard solutions in a timely and creatively</p>\n<p><b>\nResponsibilities:</b></p>\n<ul>\n<li>Perform detailed data analysis, data validation, reports testing and identify data and reporting quality issues.</li>\n<li>Monitor report events and subscriptions after EDW Data Loads completion.</li>\n<li>Create and modify report user access and privileges</li>\n<li>Interface with the business representatives and leaders to validate and capture business requirements/requests for reporting solutions.</li>\n<li>Analyze business requirements, propose, design, develop and implement BI solutions to satisfy requirements</li>\n<li>Translate business requirements for reporting projects into design and detailed specifications that can be passed on to BI/Reports developers for execution.</li>\n<li>Participate in development datamarts, reports and data visualization solutions (dashboards) on the Business insights platform, powered by microstrategy</li>\n<li>Perform detailed data analysis, data validation, reports testing and identify data and reporting quality issues</li>\n<li>Communicate progress, milestones, challenges against plan, and escalation of issues.</li>\n<li>Develop deep data knowledge of goeasy business by combining data sets from different system, analyzing heterogeneous data sets to come up with interesting KPIs and inform the business as needed dive deep into key metrics based on requests</li>\n<li>Create Ad-Hoc queries and reports as needed along with providing on-going analytical support for these requests</li>\n<li>Support self-service reporting and resolve data reporting issues in a timely fashion towards a stable BI environment.</li>\n<li>Work effectively with the Business Intelligence and Data Solutions Architects, Data and BI Engineers to ensure that all approved development and deployment procedures are followed.</li>\n</ul>\n<p><b>Qualifications:</b></p>\n<ul>\n<li>A minimum of 3 years in-depth business reporting experience</li>\n<li>Previous BI Engineering &amp; QA support experience considered a strong asset</li>\n<li>Bachelor’s Degree in Computer Science, MIS, Computer Engineering or other Information Technology related degree</li>\n<li>A minimum of 2 years of hands on design and development experience with BI tools (such as MicroStrategy, PowerBI, Tableau).</li>\n<li>A minimum of 2 years working with SQL Server or comparable relational database system</li>\n<li>Experience developing reports using documents, grids, graphs, dashboards and working in Business Intelligence or Reporting Environments.</li>\n<li>Expert Knowledge of SQL skills to build, debug, and optimize</li>\n<li>High level of technical aptitude</li>\n</ul>\n<p><b>Key Attributes:</b></p>\n<ul>\n<li>Excellent verbal and written communication skills</li>\n<li>Ability to identify data required to understand a given problem or business situation and use appropriate data.</li>\n<li>Strong team player with ability to partner with all functions</li>\n<li>Inquisitive / exceptional analytical and conceptual thinker</li>\n<li>Self-starter and proactive</li>\n<li>Detail oriented and ability to multi-task.</li>\n<li>Committed to getting the job done in a fast paced, dynamic environment</li>\n</ul>\n<p><b>Inclusion and Equal Opportunity Employment</b></p>\n<p>\ngoeasy is an equal opportunity employer. In addition, goeasy is committed to providing accommodations for applicants upon request at any stage of the recruitment process in accordance with all legislative requirements throughout Canada. Please let us know if you require an accommodation due to a disability during any aspect of the recruitment process and we will work with you to address your needs.</p>\n<p><b>\nAdditional Information:</b></p>\n<p>\nAll candidates considered for hire must successfully pass a criminal background check, credit check, and validation of their work experience to qualify for hire. We thank all interested applicants, however we will only be contacting those for interview who possess the skills and qualifications outlined above.</p>\n<p><b>\nWhy should you work for goeasy?</b></p>\n<p>\nTo learn more about our great company please click the links below:</p>\n<p><b>\nhttp://goeasy.com/careers/</b></p><br>\n<p></p>\n<p><b>\nPAID1234</b></p></div></div><div id=\"belowFullJobDescription\" class=\"mosaic mosaic-empty-zone\"></div></div><div id=\"mapRoot\"></div><div id=\"welcomeToIndeedModal\"></div><div id=\"successfullySignedInModal\"></div><div id=\"thirdPartyApplyCreateAccountModal\"></div><div class=\"jobsearch-JobTab-content\"><div id=\"belowJobDescription\" class=\"mosaic mosaic-empty-zone\"></div><div class=\"jobsearch-JobMetadataFooter\"><div class=\"icl-u-textColor--success\">goeasy</div><div>21 days ago</div><div id=\"originalJobLinkContainer\" class=\"icl-u-lg-inline icl-us-xs-hide\"><a target=\"_blank\" rel=\"noopener\" href=\"https://ca.indeed.com/rc/clk?jk=20722f7d228e6952&amp;from=vj&amp;pos=top&amp;mvj=0&amp;spon=1&amp;adid=295200277&amp;ad=-6NYlbfkN0DbNJQGwjC-NEA80-qlVyEGmSv34Xx0eW4t4u9rXSv_7_tlvMU2e-Gw_wrZ47s1zPDXpMuFe4OTgylNMrH1itW4JOeMctPr--nI0FD7egS5KmXF4xVV24E1_3uSRuJm7AcrPsjPASKrlKBg_y2XXBfpsjEDejyHSAUBAoCFJ-V1N3N_YShzScRhvyQeROcYvbNSN7jTk7FwMkaAgWIvggTlPAunDwiLRckk7mCnLUHobUSySdbOjXeftXdA7SSc-7UkVttk9u4vJI0x8eKyywdmtn-blcMt0CW2Jfxa06RUuIvDvlSsdJvpAMJVYeFKstt_Vhd0DfbcEA%3D%3D&amp;sjdu=e9f5akcGt-dBrBaOD0_PEFdU1AXw_cgDqhGbz6GdP5X1DhzVU-Zbrw388fzd_9lUcDxrOtLuOUEFV88N2kUpHNaMGApzaBUUBxwx164opCA&amp;astse=03af40dbd99511ef&amp;assa=9937&amp;vjfrom=web\">original job</a></div><div class=\"mosaic mosaic-provider-reportcontent mosaic-provider-hydrated\" id=\"mosaic-provider-reportcontent\"><div class=\"mosaic-reportcontent-wrapper button\"><div><button class=\"icl-Button icl-Button--secondary icl-Button--md mosaic-reportcontent-button desktop\" type=\"button\"><span class=\"mosaic-reportcontent-button-icon\"></span>Report job</button></div><div class=\"mosaic-reportcontent-content\"></div></div></div></div></div><div id=\"betweenJobDescriptionAndButtons\" class=\"mosaic mosaic-empty-zone\"></div><div class=\"mosaic mosaic-provider-assessments-intervention\" id=\"mosaic-provider-assessments-intervention\"></div><div class=\"icl-Grid icl-Grid--gutters\"></div></div><div id=\"relatedLinks\" class=\"icl-Grid icl-Grid--gutters\"><div class=\"icl-Grid icl-Grid--gutters jobsearch-RelatedLinks\"><div class=\"icl-Grid-col icl-u-xs-span12\"><div class=\"jobsearch-RelatedLinks-linkWrapper\"><a class=\"jobsearch-RelatedLinks-link\" href=\"/jobs?q=Business+Intelligence+Developer&amp;from=vj&amp;l=Mississauga%2C+ON\">Business Intelligence Developer jobs in Mississauga, ON</a></div><div class=\"jobsearch-RelatedLinks-linkWrapper\"><a class=\"jobsearch-RelatedLinks-link\" href=\"/jobs?q=goeasy&amp;from=vj&amp;l=Mississauga%2C+ON\">Jobs at goeasy in Mississauga, ON</a></div><div class=\"jobsearch-RelatedLinks-linkWrapper\"><a class=\"jobsearch-RelatedLinks-link\" href=\"/salary?q1=Business+Intelligence+Developer&amp;from=vj&amp;l1=Mississauga%2C+ON\">Business Intelligence Developer salaries in Mississauga, ON</a></div></div></div></div></div>\n"
     ]
    }
   ],
   "source": [
    "directory = \"test_folder\"\n",
    "fileList = []\n",
    "\n",
    "# Iterate through each file in directory\n",
    "for file in os.listdir(directory):\n",
    "        if file.endswith(\".txt\"):\n",
    "            # add each filename to list\n",
    "            fileList.append(file)\n",
    "            # open and load html\n",
    "            with codecs.open(directory + \"/\"+ file, 'r', \"utf-8\") as f:\n",
    "                job_html3 = f.read()\n",
    "\n",
    "#print(job_html3)"
   ]
  },
  {
   "cell_type": "code",
   "execution_count": 18,
   "metadata": {},
   "outputs": [
    {
     "output_type": "stream",
     "name": "stdout",
     "text": [
      "['Untitled 14-57-23.txt', 'Untitled 17-14-49.txt', 'Untitled 14-58-20.txt']\n"
     ]
    }
   ],
   "source": [
    "print(fileList)"
   ]
  },
  {
   "source": [
    "Great. We are able to open each of the .txt files that are in our directory of interest."
   ],
   "cell_type": "markdown",
   "metadata": {}
  },
  {
   "source": [
    "<h2>Part 2 : Opening and extracting information from files</h2>\n",
    "\n",
    "First, we will use two test files to test to make sure we can pull out the information we want. This is because some companies have ratings available and some do not. This changes the html code slightly and caused some problems. Below is the result from one of the two test files."
   ],
   "cell_type": "markdown",
   "metadata": {}
  },
  {
   "cell_type": "code",
   "execution_count": 4,
   "metadata": {},
   "outputs": [
    {
     "output_type": "stream",
     "name": "stdout",
     "text": [
      "<div id=\"viewJobSSRRoot\"><div class=\"jobsearch-JobComponent icl-u-xs-mt--sm jobsearch-JobComponent-bottomDivider\"><div id=\"welcomeToIndeedCard\"></div><div class=\"jobsearch-DesktopStickyContainerTrigger\"></div><div class=\"jobsearch-DesktopStickyContainer\"><div><div class=\"jobsearch-JobInfoHeader-title-container \"><h1 class=\"icl-u-xs-mb--xs icl-u-xs-mt--none jobsearch-JobInfoHeader-title\">Business Insight Data Analyst</h1></div><div class=\"jobsearch-CompanyInfoWithoutHeaderImage jobsearch-CompanyInfoWithReview\"><div class=\"\"><div class=\"icl-u-xs-mt--xs icl-u-textColor--secondary jobsearch-JobInfoHeader-subtitle jobsearch-DesktopStickyContainer-subtitle\"><div class=\"jobsearch-InlineCompanyRating icl-u-xs-mt--xs jobsearch-DesktopStickyContainer-companyrating\"><div class=\"icl-u-lg-mr--sm icl-u-xs-mr--xs\"><a href=\"https://ca.indeed.com/cmp/Millennium-1-Solutions?campaignid=mobvjcmp&amp;from=mobviewjob&amp;tk=1eum69njet5fq800&amp;fromjk=d003ade044bc93a2\" target=\"_blank\">Millennium 1 Solutions</a></div><div class=\"icl-u-lg-block icl-u-lg-mr--sm icl-u-xs-hide\"><div class=\"icl-Ratings icl-Ratings--sm icl-Ratings--gold\" itemscope=\"\" itemtype=\"http://schema.org/AggregateRating\"><meta itemprop=\"ratingValue\" content=\"2.9\"><meta itemprop=\"ratingCount\" content=\"220\"><a href=\"https://ca.indeed.com/cmp/Millennium-1-Solutions/reviews?campaignid=mobvjcmp&amp;cmpratingc=mobviewjob&amp;from=mobviewjob&amp;tk=1eum69njet5fq800&amp;fromjk=d003ade044bc93a2&amp;jt=Business+Insight+Data+Analyst\" class=\"icl-Ratings-starsCountWrapper icl-Ratings-link\" aria-label=\"2.9 out of 5 stars from 220 employee ratings\" target=\"_blank\"><div class=\"icl-Ratings-starsWrapper\"><div class=\"icl-Ratings-starsUnfilled\"><div class=\"icl-Ratings-starsFilled\" style=\"width: 32.4px;\"></div></div></div><div class=\"icl-Ratings-count\" aria-hidden=\"true\">220 reviews</div></a></div></div></div><div>Toronto, ON</div></div></div></div></div><div class=\"jobsearch-CompanyReview icl-u-lg-hide\"><a class=\"icl-NavigableContainer-linkWrapper\" href=\"https://ca.indeed.com/cmp/Millennium-1-Solutions/reviews?campaignid=mobvjcmp&amp;cmpratingc=mobviewjob&amp;from=mobviewjob&amp;tk=1eum69njet5fq800&amp;fromjk=d003ade044bc93a2&amp;jt=Business+Insight+Data+Analyst\"><div class=\"icl-NavigableContainer icl-NavigableContainer--hasBorderBottom icl-NavigableContainer--hasBorderTop\" role=\"button\" tabindex=\"0\"><div class=\"icl-NavigableContainer-innerContainer\"><div class=\"jobsearch-CompanyReview--heading\">Millennium 1 Solutions</div><div class=\"icl-Ratings icl-Ratings--md icl-Ratings--gold\" itemscope=\"\" itemtype=\"http://schema.org/AggregateRating\"><meta itemprop=\"ratingValue\" content=\"2.9\"><meta itemprop=\"ratingCount\" content=\"220\"><div class=\"icl-Ratings-starsCountWrapper\" role=\"img\" aria-label=\"2.9 out of 5 stars from 220 employee ratings\"><div class=\"icl-Ratings-starsWrapper\"><div class=\"icl-Ratings-starsUnfilled\"><div class=\"icl-Ratings-starsFilled\" style=\"width: 49.8px;\"></div></div></div><div class=\"icl-Ratings-count\" aria-hidden=\"true\">220 reviews</div></div><div class=\"icl-Ratings-description\" aria-hidden=\"true\">Read what people are saying about working here.</div></div><div class=\"icl-NavigableContainer-iconContainer\"><div class=\"icl-NavigableContainer-icon icl-NavigableContainer-icon--isLeftArrow\"><svg class=\"icl-Icon icl-Icon--black icl-Icon--sm\" aria-hidden=\"true\" aria-label=\"chevron-left icon\" focusable=\"false\" viewBox=\"0 0 18 18\"><g><path d=\"M11.56,5.56L10.5,4.5,6,9l4.5,4.5,1.06-1.06L8.12,9Z\"></path></g></svg></div><div class=\"icl-NavigableContainer-icon icl-NavigableContainer-icon--isRightArrow\"><svg class=\"icl-Icon icl-Icon--black icl-Icon--sm\" aria-hidden=\"true\" aria-label=\"chevron-right icon\" focusable=\"false\" viewBox=\"0 0 18 18\"><g><path d=\"M7.5,4.5L6.44,5.56,9.88,9,6.44,12.44,7.5,13.5,12,9Z\"></path></g></svg></div></div></div></div></a></div><div class=\"icl-u-lg-block icl-u-xs-hide\"><div class=\"icl-u-xs-my--sm\"></div></div><div id=\"indeedApplyExplanationContainer\"></div><div id=\"jobsearch-ViewJobButtons-container\" class=\"jobsearch-ViewJobButtons-container icl-Grid-col icl-u-xs-span12 icl-u-xs-textCenter icl-u-lg-textLeft jobsearch-DesktopStickyContainer-buttonscontainer\"><div id=\"aboveViewjobButtons\" class=\"mosaic mosaic-empty-zone\"></div><div id=\"viewJobButtonLinkContainer\" class=\"icl-u-lg-inlineBlock\"><div id=\"applyButtonLinkContainer\" class=\"\"><div><div class=\"icl-u-lg-hide\"><a href=\"https://ca.indeed.com/rc/clk?jk=d003ade044bc93a2&amp;from=vj&amp;pos=bottom&amp;mvj=0&amp;spon=1&amp;adid=208628453&amp;ad=-6NYlbfkN0DfTI0o5at5D7hvux9-2F0QqWjdOXtvVWRGKIiecKGiqHTyWAn8YLxpJ19oc1_kl0r6pI1Fcv83C8PHUZgMjxZMipGfMN0cVKRPBS99R0zEDTBP6HdOOnuXt-ec5djT4iauU9tUYVj3H7md2qZAprRrwt3mWbRd4ePmRhak2sYEEnGyXWsGM2yUfqR90ZU7nNff20I-gaymywOrqRE-1TvQW-BYWqBDWm6_LhVOCMhO0xzc1dOM3sMdFz44crFK-Q16kcZHUY-as_q19J6-Y0It8pqIHsB-af3jgVWTkBazMKNgiA6ZUfVfE2IWlwcgOGx9lN9MX7BwxQ%3D%3D&amp;sjdu=8aKTnhAUxh5ENd4kai56sqSM1f1aHYVaLBGbwzgdtjFTWaqsxIzov5VIPb6ACBB1020usOjR7bVOkmpPMAq5MPKULHawP_NNBR3G5uaK5KupoznKM4H_217ggKnIlYpC&amp;astse=2454feb8976d02ba&amp;assa=7694&amp;vjfrom=serp\" referrerpolicy=\"origin\" rel=\"noopener\" target=\"_blank\" role=\"link\" class=\"icl-Button icl-Button--primary icl-Button--lg icl-Button--block\">Apply Now</a></div><div class=\"icl-u-xs-hide icl-u-lg-block icl-u-lg-textCenter\"><a href=\"https://ca.indeed.com/rc/clk?jk=d003ade044bc93a2&amp;from=vj&amp;pos=bottom&amp;mvj=0&amp;spon=1&amp;adid=208628453&amp;ad=-6NYlbfkN0DfTI0o5at5D7hvux9-2F0QqWjdOXtvVWRGKIiecKGiqHTyWAn8YLxpJ19oc1_kl0r6pI1Fcv83C8PHUZgMjxZMipGfMN0cVKRPBS99R0zEDTBP6HdOOnuXt-ec5djT4iauU9tUYVj3H7md2qZAprRrwt3mWbRd4ePmRhak2sYEEnGyXWsGM2yUfqR90ZU7nNff20I-gaymywOrqRE-1TvQW-BYWqBDWm6_LhVOCMhO0xzc1dOM3sMdFz44crFK-Q16kcZHUY-as_q19J6-Y0It8pqIHsB-af3jgVWTkBazMKNgiA6ZUfVfE2IWlwcgOGx9lN9MX7BwxQ%3D%3D&amp;sjdu=8aKTnhAUxh5ENd4kai56sqSM1f1aHYVaLBGbwzgdtjFTWaqsxIzov5VIPb6ACBB1020usOjR7bVOkmpPMAq5MPKULHawP_NNBR3G5uaK5KupoznKM4H_217ggKnIlYpC&amp;astse=2454feb8976d02ba&amp;assa=7694&amp;vjfrom=serp\" referrerpolicy=\"origin\" rel=\"noopener\" target=\"_blank\" role=\"link\" class=\"icl-Button icl-Button--primary icl-Button--md icl-Button--block\">Apply on company site</a></div></div></div></div><div id=\"saveJobButtonContainer\" class=\"icl-u-lg-inlineBlock\" data-loginurl=\"https://ca.indeed.com/account/login?dest=%2Fviewjob%3Fjk%3Dd003ade044bc93a2%26tk%3D1eum69nh2sa8m800%26from%3Dserp%26vjs%3D3%26advn%3D8722298404088083%26adid%3D208628453%26ad%3D-6NYlbfkN0DfTI0o5at5D7hvux9-2F0QqWjdOXtvVWRGKIiecKGiqHTyWAn8YLxpJ19oc1_kl0r6pI1Fcv83C8PHUZgMjxZMipGfMN0cVKRPBS99R0zEDTBP6HdOOnuXt-ec5djT4iauU9tUYVj3H7md2qZAprRrwt3mWbRd4ePmRhak2sYEEnGyXWsGM2yUfqR90ZU7nNff20I-gaymywOrqRE-1TvQW-BYWqBDWm6_LhVOCMhO0xzc1dOM3sMdFz44crFK-Q16kcZHUY-as_q19J6-Y0It8pqIHsB-af3jgVWTkBazMKNgiA6ZUfVfE2IWlwcgOGx9lN9MX7BwxQ%3D%3D%26sjdu%3D8aKTnhAUxh5ENd4kai56sqSM1f1aHYVaLBGbwzgdtjFTWaqsxIzov5VIPb6ACBB1020usOjR7bVOkmpPMAq5MPKULHawP_NNBR3G5uaK5KupoznKM4H_217ggKnIlYpC\"><div class=\"\"><div><div><div class=\"icl-u-lg-hide\"><button class=\"icl-Button icl-Button--secondary icl-Button--lg icl-Button--block\" type=\"button\"><span class=\"icl-ButtonIcon\"><svg role=\"img\" class=\"icl-Icon icl-Icon--inheritColor icl-Icon--sm\" aria-label=\"save-icon\" focusable=\"false\" viewBox=\"0 0 18 18\"><g><path d=\"M12.38,2.25A4.49,4.49,0,0,0,9,3.82,4.49,4.49,0,0,0,5.63,2.25,4.08,4.08,0,0,0,1.5,6.38c0,2.83,2.55,5.15,6.41,8.66L9,16l1.09-1C14,11.52,16.5,9.21,16.5,6.38A4.08,4.08,0,0,0,12.38,2.25ZM9.08,13.91L9,14l-0.08-.08C5.35,10.68,3,8.54,3,6.38A2.56,2.56,0,0,1,5.63,3.75,2.93,2.93,0,0,1,8.3,5.52H9.7a2.91,2.91,0,0,1,2.67-1.77A2.56,2.56,0,0,1,15,6.38C15,8.54,12.65,10.68,9.08,13.91Z\"></path></g></svg></span><span>Save this job</span></button></div><div class=\"icl-u-lg-block icl-u-xs-hide\"><button class=\"icl-Button icl-Button--secondary icl-Button--md icl-Button--block\" type=\"button\"><span class=\"icl-ButtonIcon\"><svg role=\"img\" class=\"icl-Icon icl-Icon--inheritColor icl-Icon--sm\" aria-label=\"save-icon\" focusable=\"false\" viewBox=\"0 0 18 18\"><g><path d=\"M12.38,2.25A4.49,4.49,0,0,0,9,3.82,4.49,4.49,0,0,0,5.63,2.25,4.08,4.08,0,0,0,1.5,6.38c0,2.83,2.55,5.15,6.41,8.66L9,16l1.09-1C14,11.52,16.5,9.21,16.5,6.38A4.08,4.08,0,0,0,12.38,2.25ZM9.08,13.91L9,14l-0.08-.08C5.35,10.68,3,8.54,3,6.38A2.56,2.56,0,0,1,5.63,3.75,2.93,2.93,0,0,1,8.3,5.52H9.7a2.91,2.91,0,0,1,2.67-1.77A2.56,2.56,0,0,1,15,6.38C15,8.54,12.65,10.68,9.08,13.91Z\"></path></g></svg></span><span>Save this job</span></button></div></div></div></div></div><div id=\"belowViewjobButtons\" class=\"mosaic mosaic-empty-zone\"></div><div class=\"mosaic mosaic-provider-jobsearch-feedback\" id=\"mosaic-provider-jobsearch-feedback\"></div></div><div class=\"jobsearch-StickyContainerDivider\"><div class=\"jobsearch-StickyContainerDivider-line\"></div></div></div><span></span><div id=\"aboveExtractedJobDescription\" class=\"mosaic mosaic-empty-zone\"></div><div class=\"jobsearch-JobComponent-description icl-u-xs-mt--md\"><div id=\"aboveFullJobDescription\" class=\"mosaic mosaic-empty-zone\"></div><div id=\"jobDescriptionText\" class=\"jobsearch-jobDescriptionText\"><div><p><b>Sommaire du poste</b></p><p>\nAgir en tant que conseiller de confiance auprès des principaux clients internes, en fournissant un aperçu, des opinions et des recommandations sur les principales tendances, occasions et menaces du marché et des performances. Notre objectif principal sera d’exécuter des techniques d’exploration de données, d’effectuer des analyses statistiques et de mettre sur pied des systèmes de prédiction d’excellente qualité intégrés à notre programme CX. Assurer la continuité de la recherche de données, l’analyse des données et la base de référence des indicateurs de rendement clés (IRC) afin de stimuler l’amélioration constante dans un ensemble d’activités opérationnelles.</p><p><b>\nDescription du poste</b></p><ul><li>\nConcevoir, développer et publier des analyses grâce à la pile de logiciels SAS, Python et PowerBI.</li><li>\nÉtablir de solides relations clients internes avec les collègues, les principales parties prenantes et les chefs d’entreprise en vue de comprendre de façon proactive les objectifs stratégiques.</li><li>\nFournir une analyse des tendances sur la base des connaissances statistiques et formuler des recommandations sur les politiques et procédures de l’entreprise.</li><li>\nMener la collecte des informations relatives aux exigences commerciales en collaboration avec les partenaires internes et externes.</li><li>\nPrendre des initiatives en ce qui concerne les relations de causalité complexe et l’analyse de scénarios au sein de l’équipe</li><li>\nParticiper aux communications concernant les résultats de rendement et les conclusions d’analyse.</li><li>\nEffectuer des recherches et appliquer une analyse comparative et de mesure du secteur, en collaboration avec les autres membres de l’équipe d’analyse de données d’affaires afin de s’assurer que les mesures pertinentes sont incluses dans chaque rapport.</li><li>\nFaire la synthèse de grandes quantités de données, identifier les tendances principales, présenter les résultats d’une manière logique et concise et communiquer efficacement les résultats aux parties prenantes.</li><li>\nAméliorer des procédures de collecte de données en incluant des informations pertinentes pour la mise au point les solutions analytiques. Procéder au nettoyage et à la vérification de l’intégrité des données utilisées dans le cadre de l’analyse et de la modélisation.</li><li>\nParticiper aux tests et à la maintenance des solutions de science des données. Contribuer au développement de processus automatisés en vue d’analyser les données à grande échelle.</li></ul><p><b>\nExigences du poste</b></p><ul><li>\nBaccalauréat en sciences ou maîtrise en sciences dans le domaine de l’informatique, de l’apprentissage automatique, des statistiques appliquées ou des mathématiques. Professionnel agréé en analytique de préférence.</li><li>\n1 à 4 ans d’expérience en tant que professionnel débutant en science de données ou dans un rôle similaire Expérience dans le domaine de la modélisation statistique et des techniques d’apprentissage automatique, un atout</li><li>\nCompréhension des techniques et algorithmes d’apprentissage automatique, comme l’apprentissage supervisé et non supervisé, etc.</li><li>\nExpérience avec des instruments de science des données courantes, telles que Scikit learn, Azure ML, NumPy, MatLab, etc., de préférence</li><li>\nExpérience intermédiaire à avancée dans la programmation dans deux des langages suivants : Python, SAS, JavaScript</li><li>\nConnaissance intermédiaire du SQL. Connaissance pratique du SSAS.</li><li>\nExpérience dans l’utilisation de GIT pour le développement et le déploiement de CICD.</li><li>\nExpérience dans l’application de méthodes de science des données aux problèmes opérationnels, de préférence</li><li>\nExpérience dans l’application de méthodes analytiques et statistiques dans le monde des affaires</li><li>\nSolides compétences en présentation et en communication, et capacité d’expliquer des analyses complexes</li><li>\nEsprit d’équipe et capacité à travailler de manière autonome</li><li>\nCapacité reconnue à faire preuve d’initiative, de bon jugement, de tact et de diplomatie auprès de personnes d’autres domaines</li><li>\nBilinguisme en communication orale et écrite en anglais et en français, indispensable</li></ul><div><b>\nMillennium1 Solutions applique une politique d’égalité en matière d’emploi. À ce titre, nous encourageons les personnes handicapées à postuler. Des accommodements sont offerts sur demande pour les candidats qui participent, peu importe l’étape du processus de sélection.</b></div><h4 class=\"jobSectionHeader\"><br>\n<b>\nPosition Overview:</b></h4>\nThe overall purpose of this position is to ensure that the best service possible is delivered to our customers experience analytics program. This includes leveraging various analytics tool to conduct analysis through call listening, text querying and data analysis. All work is performed in accordance to established program guidelines.<br>\n<h4 class=\"jobSectionHeader\"><b>\nResponsibilities:</b></h4><ul><li>\nDesign, develop &amp; publish analysis through SAS, Python and PowerBI visualization stack.</li><li>\nBuild strong internal customer relationships with colleagues, key stakeholders, and business leaders to proactively understand strategic objectives</li><li>\nProvide trend analysis by using statistic knowledge and provide recommendation on business policies and procedures</li><li>\nLead business requirements gathering with internal and external partners</li><li>\nLead on complex causality, scenario analysis within the team</li><li>\nAssist with communications regarding performance results and analysis findings</li><li>\nResearch and apply industry benchmarking and metrics, collaborating with the other Business Insights team members to ensure that relevant metrics are included in each report</li><li>\nSynthesizing large amounts of data and identify key trends and present the results in a logical concise manner and effectively communicate results to stakeholders.</li><li>\nEnhancing data collection procedures to include information that is relevant for the building analytical solutions Process, cleanse, and verify the integrity of data used for analysis and modeling</li><li>\nParticipate in testing and maintenance of data science solutions Assist in the development of automated processes for large scale data analysis</li></ul><h4 class=\"jobSectionHeader\"><b>\nRequirements</b></h4><ul><li>\nParticipate in testing and maintenance of data science solutions Assist in the development of automated processes for large scale data analysis</li><li>\n1 to 4 years of experience as a Junior Data Scientist or in a similar role</li><li>\nExperience in statistical modelling and machine learning techniques an asset</li><li>\nUnderstanding of maching learning techniques and algorithms, such as supervised and unsupervised learning etc.</li><li>\nExperience with common data science toolkits, such as Scickit learn, Azure ML, NumPy, MatLab, etc. preferred</li><li>\nIntermediate to advanced programming experience in two of the following languages: Python, SAS, Javascript</li><li>\nExperience using GIT for CICD development and deployment practice</li><li>\nIntermediate Knowledge on SQL, working knowledge of SSAS</li><li>\nExperience in applying data science methods to business problems preferred</li><li>\nExperience in applying analytical and statistical methods in the commercial world</li><li>\nStrong presentation and communication skills with the ability to explain complex analytics</li><li>\nTeam player with the ability to work independently</li><li>\nProven ability in exercising initiative, good judgement, tact, and diplomacy concepts to people from other fields</li><li>\nBilingual in both oral and written communication for English and French is a must.</li></ul><div><b><br>\nMillennium1 Solutions is an equal opportunity employer and welcomes and encourages applications from people with disabilities. Accommodations are available on request for candidates taking part in all aspects of the selection process</b>.<br>\n<b>INDM</b></div></div></div><div id=\"belowFullJobDescription\" class=\"mosaic mosaic-empty-zone\"></div></div><div id=\"mapRoot\"></div><div id=\"welcomeToIndeedModal\"></div><div id=\"successfullySignedInModal\"></div><div id=\"thirdPartyApplyCreateAccountModal\"></div><div class=\"jobsearch-JobTab-content\"><div id=\"belowJobDescription\" class=\"mosaic mosaic-empty-zone\"></div><div class=\"jobsearch-JobMetadataFooter\"><div class=\"icl-u-textColor--success\">Millennium 1 Solutions</div><div>4 days ago</div><div id=\"originalJobLinkContainer\" class=\"icl-u-lg-inline icl-us-xs-hide\"><a target=\"_blank\" rel=\"noopener\" href=\"https://ca.indeed.com/rc/clk?jk=d003ade044bc93a2&amp;from=vj&amp;pos=top&amp;mvj=0&amp;spon=1&amp;adid=208628453&amp;ad=-6NYlbfkN0DfTI0o5at5D7hvux9-2F0QqWjdOXtvVWRGKIiecKGiqHTyWAn8YLxpJ19oc1_kl0r6pI1Fcv83C8PHUZgMjxZMipGfMN0cVKRPBS99R0zEDTBP6HdOOnuXt-ec5djT4iauU9tUYVj3H7md2qZAprRrwt3mWbRd4ePmRhak2sYEEnGyXWsGM2yUfqR90ZU7nNff20I-gaymywOrqRE-1TvQW-BYWqBDWm6_LhVOCMhO0xzc1dOM3sMdFz44crFK-Q16kcZHUY-as_q19J6-Y0It8pqIHsB-af3jgVWTkBazMKNgiA6ZUfVfE2IWlwcgOGx9lN9MX7BwxQ%3D%3D&amp;sjdu=8aKTnhAUxh5ENd4kai56sqSM1f1aHYVaLBGbwzgdtjFTWaqsxIzov5VIPb6ACBB1020usOjR7bVOkmpPMAq5MPKULHawP_NNBR3G5uaK5KupoznKM4H_217ggKnIlYpC&amp;astse=2454feb8976d02ba&amp;assa=7694&amp;vjfrom=serp\">original job</a></div><div class=\"mosaic mosaic-provider-reportcontent mosaic-provider-hydrated\" id=\"mosaic-provider-reportcontent\"><div class=\"mosaic-reportcontent-wrapper button\"><div><button class=\"icl-Button icl-Button--secondary icl-Button--md mosaic-reportcontent-button desktop\" type=\"button\"><span class=\"mosaic-reportcontent-button-icon\"></span>Report job</button></div><div class=\"mosaic-reportcontent-content\"></div></div></div></div></div><div id=\"betweenJobDescriptionAndButtons\" class=\"mosaic mosaic-empty-zone\"></div><div class=\"mosaic mosaic-provider-assessments-intervention\" id=\"mosaic-provider-assessments-intervention\"></div><div class=\"icl-Grid icl-Grid--gutters\"></div></div><div id=\"relatedLinks\" class=\"icl-Grid icl-Grid--gutters\"><div class=\"icl-Grid icl-Grid--gutters jobsearch-RelatedLinks\"><div class=\"icl-Grid-col icl-u-xs-span12\"><div class=\"jobsearch-RelatedLinks-linkWrapper\"><a class=\"jobsearch-RelatedLinks-link\" href=\"/jobs?q=Business+Analyst+%28H%2FF%29&amp;l=Toronto%2C+ON\">Business Analyst (H/F) jobs in Toronto, ON</a></div><div class=\"jobsearch-RelatedLinks-linkWrapper\"><a class=\"jobsearch-RelatedLinks-link\" href=\"/jobs?q=Millennium+Solutions&amp;l=Toronto%2C+ON\">Jobs at Millennium Solutions in Toronto, ON</a></div><div class=\"jobsearch-RelatedLinks-linkWrapper\"><a class=\"jobsearch-RelatedLinks-link\" href=\"/salary?q1=Business+Analyst++H%2FF&amp;l1=Toronto%2C+ON\">Business Analyst (H/F) salaries in Toronto, ON</a></div></div></div></div></div>\n"
     ]
    }
   ],
   "source": [
    "html = codecs.open(\"test_folder/Untitled 14-57-23.txt\", 'r', \"utf-8\")\n",
    "job_html = html.read()\n",
    "html.close()\n",
    "\n",
    "#print(job_html)"
   ]
  },
  {
   "cell_type": "code",
   "execution_count": 5,
   "metadata": {},
   "outputs": [],
   "source": [
    "job_soup = BeautifulSoup(job_html, \"html.parser\")"
   ]
  },
  {
   "cell_type": "code",
   "execution_count": 6,
   "metadata": {},
   "outputs": [
    {
     "output_type": "stream",
     "name": "stdout",
     "text": [
      "Business Insight Data Analyst\n"
     ]
    }
   ],
   "source": [
    "job_title = job_soup.find(\"h1\").text.strip()\n",
    "print(job_title)"
   ]
  },
  {
   "cell_type": "code",
   "execution_count": 7,
   "metadata": {},
   "outputs": [
    {
     "output_type": "stream",
     "name": "stdout",
     "text": [
      "Millennium 1 Solutions\n"
     ]
    }
   ],
   "source": [
    "#company = job_soup.find(\"div\", class_=\"jobsearch-CompanyReview--heading\").text.strip()\n",
    "#company = job_soup.find(\"div\", class_=\"jobsearch-DesktopStickyContainer\").next_element.text\n",
    "company = job_soup.find(\"div\", class_=\"jobsearch-InlineCompanyRating\").next_element.text\n",
    "\n",
    "print(company)"
   ]
  },
  {
   "cell_type": "code",
   "execution_count": 8,
   "metadata": {},
   "outputs": [
    {
     "output_type": "stream",
     "name": "stdout",
     "text": [
      "Toronto, ON\n"
     ]
    }
   ],
   "source": [
    " job_location = job_soup.find(\"div\", class_ = \"jobsearch-InlineCompanyRating\").next_sibling.text\n",
    "\n",
    " print(job_location)"
   ]
  },
  {
   "cell_type": "code",
   "execution_count": 9,
   "metadata": {},
   "outputs": [
    {
     "output_type": "stream",
     "name": "stdout",
     "text": [
      "NaN\n"
     ]
    }
   ],
   "source": [
    "try:\n",
    "    job_salary = job_soup.find(\"span\", class_=\"icl-u-xs-mr--xs\").text.strip()\n",
    "except AttributeError:\n",
    "    job_salary = \"NaN\"\n",
    "\n",
    "print(job_salary)"
   ]
  },
  {
   "cell_type": "code",
   "execution_count": 10,
   "metadata": {},
   "outputs": [
    {
     "output_type": "stream",
     "name": "stdout",
     "text": [
      "Sommaire du poste\nAgir en tant que conseiller de confiance auprès des principaux clients internes, en fournissant un aperçu, des opinions et des recommandations sur les principales tendances, occasions et menaces du marché et des performances. Notre objectif principal sera d’exécuter des techniques d’exploration de données, d’effectuer des analyses statistiques et de mettre sur pied des systèmes de prédiction d’excellente qualité intégrés à notre programme CX. Assurer la continuité de la recherche de données, l’analyse des données et la base de référence des indicateurs de rendement clés (IRC) afin de stimuler l’amélioration constante dans un ensemble d’activités opérationnelles.\nDescription du poste\nConcevoir, développer et publier des analyses grâce à la pile de logiciels SAS, Python et PowerBI.\nÉtablir de solides relations clients internes avec les collègues, les principales parties prenantes et les chefs d’entreprise en vue de comprendre de façon proactive les objectifs stratégiques.\nFournir une analyse des tendances sur la base des connaissances statistiques et formuler des recommandations sur les politiques et procédures de l’entreprise.\nMener la collecte des informations relatives aux exigences commerciales en collaboration avec les partenaires internes et externes.\nPrendre des initiatives en ce qui concerne les relations de causalité complexe et l’analyse de scénarios au sein de l’équipe\nParticiper aux communications concernant les résultats de rendement et les conclusions d’analyse.\nEffectuer des recherches et appliquer une analyse comparative et de mesure du secteur, en collaboration avec les autres membres de l’équipe d’analyse de données d’affaires afin de s’assurer que les mesures pertinentes sont incluses dans chaque rapport.\nFaire la synthèse de grandes quantités de données, identifier les tendances principales, présenter les résultats d’une manière logique et concise et communiquer efficacement les résultats aux parties prenantes.\nAméliorer des procédures de collecte de données en incluant des informations pertinentes pour la mise au point les solutions analytiques. Procéder au nettoyage et à la vérification de l’intégrité des données utilisées dans le cadre de l’analyse et de la modélisation.\nParticiper aux tests et à la maintenance des solutions de science des données. Contribuer au développement de processus automatisés en vue d’analyser les données à grande échelle.\nExigences du poste\nBaccalauréat en sciences ou maîtrise en sciences dans le domaine de l’informatique, de l’apprentissage automatique, des statistiques appliquées ou des mathématiques. Professionnel agréé en analytique de préférence.\n1 à 4 ans d’expérience en tant que professionnel débutant en science de données ou dans un rôle similaire Expérience dans le domaine de la modélisation statistique et des techniques d’apprentissage automatique, un atout\nCompréhension des techniques et algorithmes d’apprentissage automatique, comme l’apprentissage supervisé et non supervisé, etc.\nExpérience avec des instruments de science des données courantes, telles que Scikit learn, Azure ML, NumPy, MatLab, etc., de préférence\nExpérience intermédiaire à avancée dans la programmation dans deux des langages suivants : Python, SAS, JavaScript\nConnaissance intermédiaire du SQL. Connaissance pratique du SSAS.\nExpérience dans l’utilisation de GIT pour le développement et le déploiement de CICD.\nExpérience dans l’application de méthodes de science des données aux problèmes opérationnels, de préférence\nExpérience dans l’application de méthodes analytiques et statistiques dans le monde des affaires\nSolides compétences en présentation et en communication, et capacité d’expliquer des analyses complexes\nEsprit d’équipe et capacité à travailler de manière autonome\nCapacité reconnue à faire preuve d’initiative, de bon jugement, de tact et de diplomatie auprès de personnes d’autres domaines\nBilinguisme en communication orale et écrite en anglais et en français, indispensable\nMillennium1 Solutions applique une politique d’égalité en matière d’emploi. À ce titre, nous encourageons les personnes handicapées à postuler. Des accommodements sont offerts sur demande pour les candidats qui participent, peu importe l’étape du processus de sélection.\n\nPosition Overview:\nThe overall purpose of this position is to ensure that the best service possible is delivered to our customers experience analytics program. This includes leveraging various analytics tool to conduct analysis through call listening, text querying and data analysis. All work is performed in accordance to established program guidelines.\n\nResponsibilities:\nDesign, develop & publish analysis through SAS, Python and PowerBI visualization stack.\nBuild strong internal customer relationships with colleagues, key stakeholders, and business leaders to proactively understand strategic objectives\nProvide trend analysis by using statistic knowledge and provide recommendation on business policies and procedures\nLead business requirements gathering with internal and external partners\nLead on complex causality, scenario analysis within the team\nAssist with communications regarding performance results and analysis findings\nResearch and apply industry benchmarking and metrics, collaborating with the other Business Insights team members to ensure that relevant metrics are included in each report\nSynthesizing large amounts of data and identify key trends and present the results in a logical concise manner and effectively communicate results to stakeholders.\nEnhancing data collection procedures to include information that is relevant for the building analytical solutions Process, cleanse, and verify the integrity of data used for analysis and modeling\nParticipate in testing and maintenance of data science solutions Assist in the development of automated processes for large scale data analysis\nRequirements\nParticipate in testing and maintenance of data science solutions Assist in the development of automated processes for large scale data analysis\n1 to 4 years of experience as a Junior Data Scientist or in a similar role\nExperience in statistical modelling and machine learning techniques an asset\nUnderstanding of maching learning techniques and algorithms, such as supervised and unsupervised learning etc.\nExperience with common data science toolkits, such as Scickit learn, Azure ML, NumPy, MatLab, etc. preferred\nIntermediate to advanced programming experience in two of the following languages: Python, SAS, Javascript\nExperience using GIT for CICD development and deployment practice\nIntermediate Knowledge on SQL, working knowledge of SSAS\nExperience in applying data science methods to business problems preferred\nExperience in applying analytical and statistical methods in the commercial world\nStrong presentation and communication skills with the ability to explain complex analytics\nTeam player with the ability to work independently\nProven ability in exercising initiative, good judgement, tact, and diplomacy concepts to people from other fields\nBilingual in both oral and written communication for English and French is a must.\nMillennium1 Solutions is an equal opportunity employer and welcomes and encourages applications from people with disabilities. Accommodations are available on request for candidates taking part in all aspects of the selection process.\nINDM\n"
     ]
    }
   ],
   "source": [
    " job_summary = job_soup.find(\"div\", class_=\"jobsearch-jobDescriptionText\").text.strip()\n",
    "\n",
    " print(job_summary)"
   ]
  },
  {
   "source": [
    "<h2>Part 3 : Put it all together</h2>\n",
    "\n",
    "Put all the steps together so that we can easily extract job information from each text file and keep a record of which files we have opened."
   ],
   "cell_type": "markdown",
   "metadata": {}
  },
  {
   "cell_type": "code",
   "execution_count": 11,
   "metadata": {},
   "outputs": [],
   "source": [
    "directory = \"test_folder\"\n",
    "fileList = []\n",
    "\n",
    "def open_file(directory):\n",
    "    '''Open file containing html of job description and prepare soup object.'''\n",
    "    # Iterate through each file in directory\n",
    "    for file in os.listdir(directory):\n",
    "        if file.endswith(\".txt\"):\n",
    "            # add each filename to list\n",
    "            fileList.append(file)\n",
    "            # open and load html\n",
    "            with codecs.open(directory + \"/\"+ file, 'r', \"utf-8\") as f:\n",
    "                job_html = f.read()\n",
    "            #print(job_html)\n",
    "            job_soup = BeautifulSoup(job_html, \"html.parser\")\n",
    "    return job_soup\n",
    "    return fileList\n",
    "\n",
    "# From the loaded text, extract job information using beautiful soup\n",
    "def get_job_record(job_soup):\n",
    "    '''Create a record of information for one job.'''\n",
    "    job_title = soup.find('h1').text.strip()\n",
    "    company = soup.find(\"div\", class_=\"jobsearch-CompanyReview--heading\").text.strip()\n",
    "    job_location = soup.find(\"div\", class_ = \"jobsearch-InlineCompanyRating\").next_sibling.text.strip()\n",
    "    job_summary = soup.find(\"div\", class_=\"jobsearch-jobDescriptionText\").text.strip()\n",
    "\n",
    "    # Not all postings have a salary available\n",
    "    try:\n",
    "        job_salary = soup.find(\"span\", class_=\"icl-u-xs-mr--xs\").text.strip()\n",
    "    except AttributeError:\n",
    "        job_salary = \"NaN\"\n",
    "    \n",
    "    job_record = (job_title, company, job_location, job_salary, job_summary)\n",
    "    return job_record\n",
    "\n",
    "# list of job records\n",
    "job_records = []\n",
    "\n",
    "# add each job record to a list\n",
    "def add_to_list(file, directory):\n",
    "    for file in directory:\n",
    "        job_record = get_job_record(directory)\n",
    "        job_records.append(job_record)\n",
    "\n",
    "# add job records to csv by row\n",
    "def save_to_file(filename, job_records):\n",
    "    with open(filename, 'w', newline = '', encoding = 'utf-8') as f:\n",
    "        writer = csv.writer(f)\n",
    "        writer.writerow(['Job Title', 'Company', 'Location', 'Salary', 'Job Description'])\n",
    "        writer.writerows(job_records)"
   ]
  },
  {
   "source": [
    "Let's test out the functionality on another folder containing files with job description in html format."
   ],
   "cell_type": "markdown",
   "metadata": {}
  },
  {
   "source": [
    "open_file(\"Data Analyst Feb 16\")\n",
    "get_job_record()\n",
    "\n"
   ],
   "cell_type": "code",
   "metadata": {},
   "execution_count": null,
   "outputs": []
  }
 ]
}